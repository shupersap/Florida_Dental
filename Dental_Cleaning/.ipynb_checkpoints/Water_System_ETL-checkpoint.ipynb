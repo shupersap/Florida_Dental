{
 "cells": [
  {
   "cell_type": "markdown",
   "metadata": {},
   "source": [
    "## Import Libraries"
   ]
  },
  {
   "cell_type": "code",
   "execution_count": 1,
   "metadata": {},
   "outputs": [],
   "source": [
    "#%load_ext cudf.pandas"
   ]
  },
  {
   "cell_type": "code",
   "execution_count": 2,
   "metadata": {},
   "outputs": [],
   "source": [
    "#import libraries\n",
    "import pandas as pd\n",
    "import os"
   ]
  },
  {
   "cell_type": "markdown",
   "metadata": {},
   "source": [
    "## Created Functions"
   ]
  },
  {
   "cell_type": "code",
   "execution_count": null,
   "metadata": {},
   "outputs": [],
   "source": [
    "#functions used later\n",
    "\n",
    "#Store cleaned or semi construscted dataframes to a csv\n",
    "def store_file(file_name,version): #parameters to input \n",
    "    water_system_dict[file_name].to_csv(f\"../Clean_Data/{file_name}_V{version}.csv\",index=False)\n",
    "    return print(\"file has been saved\")\n",
    "\n",
    "#Display missing column and their details, where you just need to input the file name for results\n",
    "def missing_column_display(check_file):\n",
    "    columns_with_missing = water_system_dict[check_file].columns[water_system_dict[check_file].isnull().sum() > 1] # find all data points with more than 1 missing value\n",
    "    display_missing_columns=water_system_dict[check_file][columns_with_missing] #variable to show only null columns\n",
    "    return display_missing_columns\n"
   ]
  },
  {
   "cell_type": "markdown",
   "metadata": {},
   "source": [
    "## Extract Data"
   ]
  },
  {
   "cell_type": "code",
   "execution_count": 4,
   "metadata": {},
   "outputs": [],
   "source": [
    "#obtain path to folder related to water system data\n",
    "path = \"../Unclean_Data\"\n",
    "dir_list = os.listdir(path) # collect all file names within folder"
   ]
  },
  {
   "cell_type": "code",
   "execution_count": 5,
   "metadata": {},
   "outputs": [],
   "source": [
    "#initialize dictionary to hold all files related water system data\n",
    "water_system_dict={}\n",
    "for file in dir_list:\n",
    "     if file.endswith(\".csv\"): # remove csv extension for naming purposes\n",
    "          file_name=file.replace(\".csv\",\"\")\n",
    "     water_system_dict[file_name]= pd.read_csv(f\"../Unclean_Data/{file}\", encoding='ISO-8859-1') #hold each file in the dictionary"
   ]
  },
  {
   "cell_type": "code",
   "execution_count": 6,
   "metadata": {},
   "outputs": [
    {
     "name": "stdout",
     "output_type": "stream",
     "text": [
      "null count for Basic_Facility_Report_2023 is: 42884\n",
      "null count for Chemical_Report_2023 is: 705830\n",
      "null count for Flow_Data_Report_2023 is: 5476\n",
      "null count for Microbiological_Report_2023 is: 375222\n",
      "null count for Plant_Treatment_Report_2023 is: 3853\n"
     ]
    }
   ],
   "source": [
    "#check for null values in the dataset\n",
    "for null_check in water_system_dict:\n",
    "    print(\"null count for\" , null_check, \"is:\", water_system_dict[null_check].isnull().sum().sum())"
   ]
  },
  {
   "cell_type": "markdown",
   "metadata": {},
   "source": [
    "### Each file looks like it has numerous null values that will need to be individually analyzed to determine how to handle them, whether that be dropping columns, rows, or filling in"
   ]
  },
  {
   "cell_type": "markdown",
   "metadata": {},
   "source": [
    "## Microbiological Cleaning"
   ]
  },
  {
   "cell_type": "code",
   "execution_count": 7,
   "metadata": {},
   "outputs": [
    {
     "data": {
      "text/plain": [
       "PWSID                   0\n",
       "OFFICE                  0\n",
       "SYSTEMNAME              0\n",
       "SYSTEMTYPE              0\n",
       "SYSTEMSTATUS            0\n",
       "LABID                   0\n",
       "SAMPLETYPE              0\n",
       "RESULTS             87044\n",
       "COLIFORMPRESENT     87207\n",
       "SAMPLENUMBER        83626\n",
       "LINKTO              86078\n",
       "SAMPLESREQUIRED         0\n",
       "SAMPLESTAKEN            0\n",
       "SAMPLEDATE              0\n",
       "METHOD                  0\n",
       "CHLORINERESIDUAL    31267\n",
       "dtype: int64"
      ]
     },
     "execution_count": 7,
     "metadata": {},
     "output_type": "execute_result"
    }
   ],
   "source": [
    "water_system_dict[\"Microbiological_Report_2023\"].isnull().sum()"
   ]
  },
  {
   "cell_type": "code",
   "execution_count": 8,
   "metadata": {},
   "outputs": [
    {
     "data": {
      "text/plain": [
       "(90644, 16)"
      ]
     },
     "execution_count": 8,
     "metadata": {},
     "output_type": "execute_result"
    }
   ],
   "source": [
    "water_system_dict[\"Microbiological_Report_2023\"].shape"
   ]
  },
  {
   "cell_type": "markdown",
   "metadata": {},
   "source": [
    "#### The columns results, coliformpresent,samplenumber,and linkto seem to be mostly null indicating that it might be tolerable to drop them completely but the documentation should be checked to see if it can be filled instead"
   ]
  },
  {
   "cell_type": "code",
   "execution_count": 80,
   "metadata": {},
   "outputs": [
    {
     "data": {
      "text/html": [
       "<div>\n",
       "<style scoped>\n",
       "    .dataframe tbody tr th:only-of-type {\n",
       "        vertical-align: middle;\n",
       "    }\n",
       "\n",
       "    .dataframe tbody tr th {\n",
       "        vertical-align: top;\n",
       "    }\n",
       "\n",
       "    .dataframe thead th {\n",
       "        text-align: right;\n",
       "    }\n",
       "</style>\n",
       "<table border=\"1\" class=\"dataframe\">\n",
       "  <thead>\n",
       "    <tr style=\"text-align: right;\">\n",
       "      <th></th>\n",
       "    </tr>\n",
       "  </thead>\n",
       "  <tbody>\n",
       "    <tr>\n",
       "      <th>0</th>\n",
       "    </tr>\n",
       "    <tr>\n",
       "      <th>1</th>\n",
       "    </tr>\n",
       "    <tr>\n",
       "      <th>2</th>\n",
       "    </tr>\n",
       "    <tr>\n",
       "      <th>3</th>\n",
       "    </tr>\n",
       "    <tr>\n",
       "      <th>4</th>\n",
       "    </tr>\n",
       "    <tr>\n",
       "      <th>...</th>\n",
       "    </tr>\n",
       "    <tr>\n",
       "      <th>90639</th>\n",
       "    </tr>\n",
       "    <tr>\n",
       "      <th>90640</th>\n",
       "    </tr>\n",
       "    <tr>\n",
       "      <th>90641</th>\n",
       "    </tr>\n",
       "    <tr>\n",
       "      <th>90642</th>\n",
       "    </tr>\n",
       "    <tr>\n",
       "      <th>90643</th>\n",
       "    </tr>\n",
       "  </tbody>\n",
       "</table>\n",
       "<p>90644 rows × 0 columns</p>\n",
       "</div>"
      ],
      "text/plain": [
       "Empty DataFrame\n",
       "Columns: []\n",
       "Index: [0, 1, 2, 3, 4, 5, 6, 7, 8, 9, 10, 11, 12, 13, 14, 15, 16, 17, 18, 19, 20, 21, 22, 23, 24, 25, 26, 27, 28, 29, 30, 31, 32, 33, 34, 35, 36, 37, 38, 39, 40, 41, 42, 43, 44, 45, 46, 47, 48, 49, 50, 51, 52, 53, 54, 55, 56, 57, 58, 59, 60, 61, 62, 63, 64, 65, 66, 67, 68, 69, 70, 71, 72, 73, 74, 75, 76, 77, 78, 79, 80, 81, 82, 83, 84, 85, 86, 87, 88, 89, 90, 91, 92, 93, 94, 95, 96, 97, 98, 99, ...]\n",
       "\n",
       "[90644 rows x 0 columns]"
      ]
     },
     "execution_count": 80,
     "metadata": {},
     "output_type": "execute_result"
    }
   ],
   "source": [
    "missing_column_display(\"Microbiological_Report_2023\")"
   ]
  },
  {
   "cell_type": "code",
   "execution_count": 10,
   "metadata": {},
   "outputs": [
    {
     "data": {
      "text/plain": [
       "1.0      2475\n",
       "0.0      1087\n",
       "999.0      38\n",
       "Name: RESULTS, dtype: int64"
      ]
     },
     "execution_count": 10,
     "metadata": {},
     "output_type": "execute_result"
    }
   ],
   "source": [
    "water_system_dict[\"Microbiological_Report_2023\"][\"RESULTS\"].value_counts()"
   ]
  },
  {
   "cell_type": "markdown",
   "metadata": {},
   "source": [
    "### The output values are hard to understand as they are 0,1, and 999 which I originally presumed to be a binary feature but seems like it isn't; this column relates to the results of chemical analysis,stated by the pws_data_dictionary, the column may be relevant, but I don't want to utilize something that might not be properly functioning"
   ]
  },
  {
   "cell_type": "code",
   "execution_count": 11,
   "metadata": {},
   "outputs": [
    {
     "data": {
      "text/plain": [
       "0    2463\n",
       "N     869\n",
       "E     104\n",
       "F       1\n",
       "Name: COLIFORMPRESENT, dtype: int64"
      ]
     },
     "execution_count": 11,
     "metadata": {},
     "output_type": "execute_result"
    }
   ],
   "source": [
    "water_system_dict[\"Microbiological_Report_2023\"][\"COLIFORMPRESENT\"].value_counts()"
   ]
  },
  {
   "cell_type": "markdown",
   "metadata": {},
   "source": [
    "### Based on the pws_data_dictionary we can assume that nan values can be replaced by the string \"N\" which implies that no analysis was performed"
   ]
  },
  {
   "cell_type": "code",
   "execution_count": 12,
   "metadata": {},
   "outputs": [],
   "source": [
    "water_system_dict[\"Microbiological_Report_2023\"][\"COLIFORMPRESENT\"].fillna(\"N\",inplace=True)"
   ]
  },
  {
   "cell_type": "markdown",
   "metadata": {},
   "source": [
    "### The samplenumber seems to be a secondary key, that isn't relevant to the overall structure of our data, and can be dropped"
   ]
  },
  {
   "cell_type": "code",
   "execution_count": 13,
   "metadata": {},
   "outputs": [
    {
     "data": {
      "text/plain": [
       "001       48\n",
       "002       42\n",
       "007       29\n",
       "004       19\n",
       "006       18\n",
       "A1        16\n",
       "231028    16\n",
       "9002      15\n",
       "008       15\n",
       "853-01    15\n",
       "Name: LINKTO, dtype: int64"
      ]
     },
     "execution_count": 13,
     "metadata": {},
     "output_type": "execute_result"
    }
   ],
   "source": [
    "water_system_dict[\"Microbiological_Report_2023\"][\"LINKTO\"].value_counts().head(10)"
   ]
  },
  {
   "cell_type": "markdown",
   "metadata": {},
   "source": [
    "### The linkto column most likely has relation to an outside dataset as the pws_data_dictionary states it associates follow up samples to positive samples, so it might be a foreign key or some sort of class-labeling; will need to do more research on this one."
   ]
  },
  {
   "cell_type": "code",
   "execution_count": 14,
   "metadata": {},
   "outputs": [
    {
     "data": {
      "text/plain": [
       "0.0    12743\n",
       "1.0     3651\n",
       "0.8     2300\n",
       "1.2     2096\n",
       "0.6     1455\n",
       "0.7     1408\n",
       "2.0     1333\n",
       "1.1     1328\n",
       "1.5     1300\n",
       "0.9     1266\n",
       "Name: CHLORINERESIDUAL, dtype: int64"
      ]
     },
     "execution_count": 14,
     "metadata": {},
     "output_type": "execute_result"
    }
   ],
   "source": [
    "water_system_dict[\"Microbiological_Report_2023\"][\"CHLORINERESIDUAL\"].value_counts().head(10)"
   ]
  },
  {
   "cell_type": "markdown",
   "metadata": {},
   "source": [
    "### The residual measure's results can be utilized for analysis but while it has a large amount of null values, it can be interpreted that the null values can be replaced by something like \"N/A\", but wouldn't respect the dtype of int64 so it might be safer to assign a numeric value to it so the column can function properly."
   ]
  },
  {
   "cell_type": "code",
   "execution_count": 15,
   "metadata": {},
   "outputs": [
    {
     "data": {
      "text/plain": [
       "0"
      ]
     },
     "execution_count": 15,
     "metadata": {},
     "output_type": "execute_result"
    }
   ],
   "source": [
    "#We can fill all the values after the values with the previous values as they mostly like hold some relation with respect to how the pwsids are sorted\n",
    "water_system_dict[\"Microbiological_Report_2023\"][\"CHLORINERESIDUAL\"].fillna(method=\"ffill\",inplace=True)\n",
    "water_system_dict[\"Microbiological_Report_2023\"][\"CHLORINERESIDUAL\"].fillna(0,inplace=True) #The initial null values will not be filled, so it would be safe to replace it with 0\n",
    "water_system_dict[\"Microbiological_Report_2023\"][\"CHLORINERESIDUAL\"].isnull().sum() #Verify there are no more null values"
   ]
  },
  {
   "cell_type": "code",
   "execution_count": 16,
   "metadata": {},
   "outputs": [
    {
     "name": "stdout",
     "output_type": "stream",
     "text": [
      "file has been saved\n"
     ]
    }
   ],
   "source": [
    "store_file(\"Microbiological_Report_2023\",1)"
   ]
  },
  {
   "cell_type": "code",
   "execution_count": 17,
   "metadata": {},
   "outputs": [],
   "source": [
    "#find all missing columns that are still mostly null\n",
    "columns_with_missing = water_system_dict[\"Microbiological_Report_2023\"].columns[\n",
    "    water_system_dict[\"Microbiological_Report_2023\"].isnull().sum() > 1]\n",
    "\n",
    "#drop those columns that are still prominantly null\n",
    "water_system_dict[\"Microbiological_Report_2023\"].drop(columns=columns_with_missing,inplace=True)"
   ]
  },
  {
   "cell_type": "code",
   "execution_count": 18,
   "metadata": {},
   "outputs": [
    {
     "data": {
      "text/html": [
       "<div>\n",
       "<style scoped>\n",
       "    .dataframe tbody tr th:only-of-type {\n",
       "        vertical-align: middle;\n",
       "    }\n",
       "\n",
       "    .dataframe tbody tr th {\n",
       "        vertical-align: top;\n",
       "    }\n",
       "\n",
       "    .dataframe thead th {\n",
       "        text-align: right;\n",
       "    }\n",
       "</style>\n",
       "<table border=\"1\" class=\"dataframe\">\n",
       "  <thead>\n",
       "    <tr style=\"text-align: right;\">\n",
       "      <th></th>\n",
       "      <th>PWSID</th>\n",
       "      <th>OFFICE</th>\n",
       "      <th>SYSTEMNAME</th>\n",
       "      <th>SYSTEMTYPE</th>\n",
       "      <th>SYSTEMSTATUS</th>\n",
       "      <th>LABID</th>\n",
       "      <th>SAMPLETYPE</th>\n",
       "      <th>COLIFORMPRESENT</th>\n",
       "      <th>SAMPLESREQUIRED</th>\n",
       "      <th>SAMPLESTAKEN</th>\n",
       "      <th>SAMPLEDATE</th>\n",
       "      <th>METHOD</th>\n",
       "      <th>CHLORINERESIDUAL</th>\n",
       "    </tr>\n",
       "  </thead>\n",
       "  <tbody>\n",
       "    <tr>\n",
       "      <th>0</th>\n",
       "      <td>1030050</td>\n",
       "      <td>NWD</td>\n",
       "      <td>BAY COUNTY WATER SYSTEM</td>\n",
       "      <td>COMMUNITY</td>\n",
       "      <td>ACTIVE</td>\n",
       "      <td>E41292</td>\n",
       "      <td>D</td>\n",
       "      <td>N</td>\n",
       "      <td>30</td>\n",
       "      <td>9</td>\n",
       "      <td>12-Jan-23</td>\n",
       "      <td>CLL</td>\n",
       "      <td>0.00</td>\n",
       "    </tr>\n",
       "    <tr>\n",
       "      <th>1</th>\n",
       "      <td>1030050</td>\n",
       "      <td>NWD</td>\n",
       "      <td>BAY COUNTY WATER SYSTEM</td>\n",
       "      <td>COMMUNITY</td>\n",
       "      <td>ACTIVE</td>\n",
       "      <td>E41292</td>\n",
       "      <td>D</td>\n",
       "      <td>N</td>\n",
       "      <td>30</td>\n",
       "      <td>9</td>\n",
       "      <td>19-Jan-23</td>\n",
       "      <td>CLL</td>\n",
       "      <td>0.00</td>\n",
       "    </tr>\n",
       "    <tr>\n",
       "      <th>2</th>\n",
       "      <td>1030050</td>\n",
       "      <td>NWD</td>\n",
       "      <td>BAY COUNTY WATER SYSTEM</td>\n",
       "      <td>COMMUNITY</td>\n",
       "      <td>ACTIVE</td>\n",
       "      <td>E41292</td>\n",
       "      <td>D</td>\n",
       "      <td>N</td>\n",
       "      <td>30</td>\n",
       "      <td>9</td>\n",
       "      <td>24-Jan-23</td>\n",
       "      <td>CLL</td>\n",
       "      <td>0.99</td>\n",
       "    </tr>\n",
       "    <tr>\n",
       "      <th>3</th>\n",
       "      <td>1030050</td>\n",
       "      <td>NWD</td>\n",
       "      <td>BAY COUNTY WATER SYSTEM</td>\n",
       "      <td>COMMUNITY</td>\n",
       "      <td>ACTIVE</td>\n",
       "      <td>E41292</td>\n",
       "      <td>D</td>\n",
       "      <td>N</td>\n",
       "      <td>30</td>\n",
       "      <td>9</td>\n",
       "      <td>2-Feb-23</td>\n",
       "      <td>CLL</td>\n",
       "      <td>0.99</td>\n",
       "    </tr>\n",
       "    <tr>\n",
       "      <th>4</th>\n",
       "      <td>1030050</td>\n",
       "      <td>NWD</td>\n",
       "      <td>BAY COUNTY WATER SYSTEM</td>\n",
       "      <td>COMMUNITY</td>\n",
       "      <td>ACTIVE</td>\n",
       "      <td>E41292</td>\n",
       "      <td>D</td>\n",
       "      <td>N</td>\n",
       "      <td>30</td>\n",
       "      <td>9</td>\n",
       "      <td>9-Feb-23</td>\n",
       "      <td>CLL</td>\n",
       "      <td>0.99</td>\n",
       "    </tr>\n",
       "    <tr>\n",
       "      <th>...</th>\n",
       "      <td>...</td>\n",
       "      <td>...</td>\n",
       "      <td>...</td>\n",
       "      <td>...</td>\n",
       "      <td>...</td>\n",
       "      <td>...</td>\n",
       "      <td>...</td>\n",
       "      <td>...</td>\n",
       "      <td>...</td>\n",
       "      <td>...</td>\n",
       "      <td>...</td>\n",
       "      <td>...</td>\n",
       "      <td>...</td>\n",
       "    </tr>\n",
       "    <tr>\n",
       "      <th>90639</th>\n",
       "      <td>6605038</td>\n",
       "      <td>CD</td>\n",
       "      <td>CSU WTP NO. 1</td>\n",
       "      <td>COMMUNITY</td>\n",
       "      <td>ACTIVE</td>\n",
       "      <td>E83141</td>\n",
       "      <td>R</td>\n",
       "      <td>N</td>\n",
       "      <td>20</td>\n",
       "      <td>2</td>\n",
       "      <td>9-Aug-23</td>\n",
       "      <td>MF</td>\n",
       "      <td>1.30</td>\n",
       "    </tr>\n",
       "    <tr>\n",
       "      <th>90640</th>\n",
       "      <td>6605038</td>\n",
       "      <td>CD</td>\n",
       "      <td>CSU WTP NO. 1</td>\n",
       "      <td>COMMUNITY</td>\n",
       "      <td>ACTIVE</td>\n",
       "      <td>E83141</td>\n",
       "      <td>R</td>\n",
       "      <td>N</td>\n",
       "      <td>20</td>\n",
       "      <td>2</td>\n",
       "      <td>13-Sep-23</td>\n",
       "      <td>MF</td>\n",
       "      <td>1.30</td>\n",
       "    </tr>\n",
       "    <tr>\n",
       "      <th>90641</th>\n",
       "      <td>6605038</td>\n",
       "      <td>CD</td>\n",
       "      <td>CSU WTP NO. 1</td>\n",
       "      <td>COMMUNITY</td>\n",
       "      <td>ACTIVE</td>\n",
       "      <td>E83141</td>\n",
       "      <td>R</td>\n",
       "      <td>N</td>\n",
       "      <td>20</td>\n",
       "      <td>2</td>\n",
       "      <td>1-Oct-23</td>\n",
       "      <td>MF</td>\n",
       "      <td>1.30</td>\n",
       "    </tr>\n",
       "    <tr>\n",
       "      <th>90642</th>\n",
       "      <td>6605038</td>\n",
       "      <td>CD</td>\n",
       "      <td>CSU WTP NO. 1</td>\n",
       "      <td>COMMUNITY</td>\n",
       "      <td>ACTIVE</td>\n",
       "      <td>E83141</td>\n",
       "      <td>R</td>\n",
       "      <td>N</td>\n",
       "      <td>20</td>\n",
       "      <td>2</td>\n",
       "      <td>13-Nov-23</td>\n",
       "      <td>MF</td>\n",
       "      <td>1.30</td>\n",
       "    </tr>\n",
       "    <tr>\n",
       "      <th>90643</th>\n",
       "      <td>6605038</td>\n",
       "      <td>CD</td>\n",
       "      <td>CSU WTP NO. 1</td>\n",
       "      <td>COMMUNITY</td>\n",
       "      <td>ACTIVE</td>\n",
       "      <td>E83141</td>\n",
       "      <td>R</td>\n",
       "      <td>N</td>\n",
       "      <td>20</td>\n",
       "      <td>2</td>\n",
       "      <td>6-Dec-23</td>\n",
       "      <td>MF</td>\n",
       "      <td>1.30</td>\n",
       "    </tr>\n",
       "  </tbody>\n",
       "</table>\n",
       "<p>90644 rows × 13 columns</p>\n",
       "</div>"
      ],
      "text/plain": [
       "         PWSID OFFICE               SYSTEMNAME SYSTEMTYPE SYSTEMSTATUS  \\\n",
       "0      1030050    NWD  BAY COUNTY WATER SYSTEM  COMMUNITY       ACTIVE   \n",
       "1      1030050    NWD  BAY COUNTY WATER SYSTEM  COMMUNITY       ACTIVE   \n",
       "2      1030050    NWD  BAY COUNTY WATER SYSTEM  COMMUNITY       ACTIVE   \n",
       "3      1030050    NWD  BAY COUNTY WATER SYSTEM  COMMUNITY       ACTIVE   \n",
       "4      1030050    NWD  BAY COUNTY WATER SYSTEM  COMMUNITY       ACTIVE   \n",
       "...        ...    ...                      ...        ...          ...   \n",
       "90639  6605038     CD            CSU WTP NO. 1  COMMUNITY       ACTIVE   \n",
       "90640  6605038     CD            CSU WTP NO. 1  COMMUNITY       ACTIVE   \n",
       "90641  6605038     CD            CSU WTP NO. 1  COMMUNITY       ACTIVE   \n",
       "90642  6605038     CD            CSU WTP NO. 1  COMMUNITY       ACTIVE   \n",
       "90643  6605038     CD            CSU WTP NO. 1  COMMUNITY       ACTIVE   \n",
       "\n",
       "        LABID SAMPLETYPE COLIFORMPRESENT  SAMPLESREQUIRED  SAMPLESTAKEN  \\\n",
       "0      E41292          D               N               30             9   \n",
       "1      E41292          D               N               30             9   \n",
       "2      E41292          D               N               30             9   \n",
       "3      E41292          D               N               30             9   \n",
       "4      E41292          D               N               30             9   \n",
       "...       ...        ...             ...              ...           ...   \n",
       "90639  E83141          R               N               20             2   \n",
       "90640  E83141          R               N               20             2   \n",
       "90641  E83141          R               N               20             2   \n",
       "90642  E83141          R               N               20             2   \n",
       "90643  E83141          R               N               20             2   \n",
       "\n",
       "      SAMPLEDATE METHOD  CHLORINERESIDUAL  \n",
       "0      12-Jan-23    CLL              0.00  \n",
       "1      19-Jan-23    CLL              0.00  \n",
       "2      24-Jan-23    CLL              0.99  \n",
       "3       2-Feb-23    CLL              0.99  \n",
       "4       9-Feb-23    CLL              0.99  \n",
       "...          ...    ...               ...  \n",
       "90639   9-Aug-23     MF              1.30  \n",
       "90640  13-Sep-23     MF              1.30  \n",
       "90641   1-Oct-23     MF              1.30  \n",
       "90642  13-Nov-23     MF              1.30  \n",
       "90643   6-Dec-23     MF              1.30  \n",
       "\n",
       "[90644 rows x 13 columns]"
      ]
     },
     "execution_count": 18,
     "metadata": {},
     "output_type": "execute_result"
    }
   ],
   "source": [
    "water_system_dict[\"Microbiological_Report_2023\"]"
   ]
  },
  {
   "cell_type": "markdown",
   "metadata": {},
   "source": [
    "## Chemical Cleaning"
   ]
  },
  {
   "cell_type": "code",
   "execution_count": 19,
   "metadata": {},
   "outputs": [
    {
     "data": {
      "text/plain": [
       "PWSID                    0\n",
       "OFFICE                   0\n",
       "MAILINGNAME              0\n",
       "SYSTEMTYPE               0\n",
       "POPULATION               0\n",
       "SYSTEMSTATUS             0\n",
       "SUBPARTH                 0\n",
       "DESIGNCAP                0\n",
       "CONSECIND                0\n",
       "INSPINIT              3077\n",
       "CONTAMGROUP              0\n",
       "CONTAMCODE               0\n",
       "CONTAMDESC               0\n",
       "SAMPLETYPE               0\n",
       "RESULTS                  0\n",
       "UOM                   3641\n",
       "MCL                  15080\n",
       "SAMPLEDATE               0\n",
       "SAMPTIMESTAMP            0\n",
       "USERNAME                 0\n",
       "LOCATIONCODE             0\n",
       "ENTRYPOINT           28489\n",
       "LAB                      0\n",
       "METHOD                   0\n",
       "ANALYSISDATE          6497\n",
       "MDL                  84941\n",
       "RDL                  83311\n",
       "SAMPLENUMBER        146659\n",
       "CHLORINERESIDUAL    145677\n",
       "MAXQTR              154779\n",
       "REMARKS              33679\n",
       "dtype: int64"
      ]
     },
     "execution_count": 19,
     "metadata": {},
     "output_type": "execute_result"
    }
   ],
   "source": [
    "water_system_dict[\"Chemical_Report_2023\"].isnull().sum()"
   ]
  },
  {
   "cell_type": "code",
   "execution_count": 81,
   "metadata": {},
   "outputs": [
    {
     "data": {
      "text/html": [
       "<div>\n",
       "<style scoped>\n",
       "    .dataframe tbody tr th:only-of-type {\n",
       "        vertical-align: middle;\n",
       "    }\n",
       "\n",
       "    .dataframe tbody tr th {\n",
       "        vertical-align: top;\n",
       "    }\n",
       "\n",
       "    .dataframe thead th {\n",
       "        text-align: right;\n",
       "    }\n",
       "</style>\n",
       "<table border=\"1\" class=\"dataframe\">\n",
       "  <thead>\n",
       "    <tr style=\"text-align: right;\">\n",
       "      <th></th>\n",
       "      <th>CHLORINERESIDUAL</th>\n",
       "    </tr>\n",
       "  </thead>\n",
       "  <tbody>\n",
       "    <tr>\n",
       "      <th>0</th>\n",
       "      <td>NaN</td>\n",
       "    </tr>\n",
       "    <tr>\n",
       "      <th>1</th>\n",
       "      <td>NaN</td>\n",
       "    </tr>\n",
       "    <tr>\n",
       "      <th>2</th>\n",
       "      <td>NaN</td>\n",
       "    </tr>\n",
       "    <tr>\n",
       "      <th>3</th>\n",
       "      <td>NaN</td>\n",
       "    </tr>\n",
       "    <tr>\n",
       "      <th>4</th>\n",
       "      <td>NaN</td>\n",
       "    </tr>\n",
       "    <tr>\n",
       "      <th>...</th>\n",
       "      <td>...</td>\n",
       "    </tr>\n",
       "    <tr>\n",
       "      <th>159836</th>\n",
       "      <td>NaN</td>\n",
       "    </tr>\n",
       "    <tr>\n",
       "      <th>159837</th>\n",
       "      <td>NaN</td>\n",
       "    </tr>\n",
       "    <tr>\n",
       "      <th>159838</th>\n",
       "      <td>NaN</td>\n",
       "    </tr>\n",
       "    <tr>\n",
       "      <th>159839</th>\n",
       "      <td>NaN</td>\n",
       "    </tr>\n",
       "    <tr>\n",
       "      <th>159840</th>\n",
       "      <td>NaN</td>\n",
       "    </tr>\n",
       "  </tbody>\n",
       "</table>\n",
       "<p>159841 rows × 1 columns</p>\n",
       "</div>"
      ],
      "text/plain": [
       "        CHLORINERESIDUAL\n",
       "0                    NaN\n",
       "1                    NaN\n",
       "2                    NaN\n",
       "3                    NaN\n",
       "4                    NaN\n",
       "...                  ...\n",
       "159836               NaN\n",
       "159837               NaN\n",
       "159838               NaN\n",
       "159839               NaN\n",
       "159840               NaN\n",
       "\n",
       "[159841 rows x 1 columns]"
      ]
     },
     "execution_count": 81,
     "metadata": {},
     "output_type": "execute_result"
    }
   ],
   "source": [
    "missing_column_display(\"Chemical_Report_2023\")"
   ]
  },
  {
   "cell_type": "code",
   "execution_count": 21,
   "metadata": {},
   "outputs": [
    {
     "data": {
      "text/plain": [
       "(159841, 31)"
      ]
     },
     "execution_count": 21,
     "metadata": {},
     "output_type": "execute_result"
    }
   ],
   "source": [
    "water_system_dict[\"Chemical_Report_2023\"].shape"
   ]
  },
  {
   "cell_type": "code",
   "execution_count": 22,
   "metadata": {},
   "outputs": [],
   "source": [
    "columns_with_missing = water_system_dict[\"Chemical_Report_2023\"].columns[\n",
    "    water_system_dict[\"Chemical_Report_2023\"].isnull().sum() > 1]"
   ]
  },
  {
   "cell_type": "code",
   "execution_count": 23,
   "metadata": {},
   "outputs": [
    {
     "data": {
      "text/html": [
       "<div>\n",
       "<style scoped>\n",
       "    .dataframe tbody tr th:only-of-type {\n",
       "        vertical-align: middle;\n",
       "    }\n",
       "\n",
       "    .dataframe tbody tr th {\n",
       "        vertical-align: top;\n",
       "    }\n",
       "\n",
       "    .dataframe thead th {\n",
       "        text-align: right;\n",
       "    }\n",
       "</style>\n",
       "<table border=\"1\" class=\"dataframe\">\n",
       "  <thead>\n",
       "    <tr style=\"text-align: right;\">\n",
       "      <th></th>\n",
       "      <th>INSPINIT</th>\n",
       "      <th>UOM</th>\n",
       "      <th>MCL</th>\n",
       "      <th>ENTRYPOINT</th>\n",
       "      <th>ANALYSISDATE</th>\n",
       "      <th>MDL</th>\n",
       "      <th>RDL</th>\n",
       "      <th>SAMPLENUMBER</th>\n",
       "      <th>CHLORINERESIDUAL</th>\n",
       "      <th>MAXQTR</th>\n",
       "      <th>REMARKS</th>\n",
       "    </tr>\n",
       "  </thead>\n",
       "  <tbody>\n",
       "    <tr>\n",
       "      <th>0</th>\n",
       "      <td>LJ</td>\n",
       "      <td>UG/L</td>\n",
       "      <td>60.4999</td>\n",
       "      <td>NaN</td>\n",
       "      <td>8-Oct-23</td>\n",
       "      <td>NaN</td>\n",
       "      <td>NaN</td>\n",
       "      <td>NaN</td>\n",
       "      <td>NaN</td>\n",
       "      <td>3.0</td>\n",
       "      <td>W17 - 17TH @ COVE, NW SIDE OF INTERSECT</td>\n",
       "    </tr>\n",
       "    <tr>\n",
       "      <th>1</th>\n",
       "      <td>LJ</td>\n",
       "      <td>UG/L</td>\n",
       "      <td>60.4999</td>\n",
       "      <td>NaN</td>\n",
       "      <td>9-Nov-23</td>\n",
       "      <td>NaN</td>\n",
       "      <td>NaN</td>\n",
       "      <td>NaN</td>\n",
       "      <td>NaN</td>\n",
       "      <td>3.0</td>\n",
       "      <td>W17 - 17TH @ COVE, NW SIDE OF INTERSECT</td>\n",
       "    </tr>\n",
       "    <tr>\n",
       "      <th>2</th>\n",
       "      <td>LJ</td>\n",
       "      <td>UG/L</td>\n",
       "      <td>60.4999</td>\n",
       "      <td>NaN</td>\n",
       "      <td>9-Mar-23</td>\n",
       "      <td>0.9</td>\n",
       "      <td>NaN</td>\n",
       "      <td>NaN</td>\n",
       "      <td>NaN</td>\n",
       "      <td>3.0</td>\n",
       "      <td>W17</td>\n",
       "    </tr>\n",
       "    <tr>\n",
       "      <th>3</th>\n",
       "      <td>LJ</td>\n",
       "      <td>UG/L</td>\n",
       "      <td>60.4999</td>\n",
       "      <td>NaN</td>\n",
       "      <td>14-Apr-23</td>\n",
       "      <td>NaN</td>\n",
       "      <td>NaN</td>\n",
       "      <td>NaN</td>\n",
       "      <td>NaN</td>\n",
       "      <td>3.0</td>\n",
       "      <td>W17 - 17TH @ COVE, NW SIDE OF INTERSECT</td>\n",
       "    </tr>\n",
       "    <tr>\n",
       "      <th>4</th>\n",
       "      <td>LJ</td>\n",
       "      <td>UG/L</td>\n",
       "      <td>60.4999</td>\n",
       "      <td>NaN</td>\n",
       "      <td>8-Oct-23</td>\n",
       "      <td>NaN</td>\n",
       "      <td>NaN</td>\n",
       "      <td>NaN</td>\n",
       "      <td>NaN</td>\n",
       "      <td>3.0</td>\n",
       "      <td>RW21 - 2521 PALO ALTO AVE</td>\n",
       "    </tr>\n",
       "    <tr>\n",
       "      <th>...</th>\n",
       "      <td>...</td>\n",
       "      <td>...</td>\n",
       "      <td>...</td>\n",
       "      <td>...</td>\n",
       "      <td>...</td>\n",
       "      <td>...</td>\n",
       "      <td>...</td>\n",
       "      <td>...</td>\n",
       "      <td>...</td>\n",
       "      <td>...</td>\n",
       "      <td>...</td>\n",
       "    </tr>\n",
       "    <tr>\n",
       "      <th>159836</th>\n",
       "      <td>NaN</td>\n",
       "      <td>UG/L</td>\n",
       "      <td>149.9999</td>\n",
       "      <td>Y</td>\n",
       "      <td>3-Mar-23</td>\n",
       "      <td>NaN</td>\n",
       "      <td>0.5499</td>\n",
       "      <td>NaN</td>\n",
       "      <td>NaN</td>\n",
       "      <td>NaN</td>\n",
       "      <td>POE</td>\n",
       "    </tr>\n",
       "    <tr>\n",
       "      <th>159837</th>\n",
       "      <td>NaN</td>\n",
       "      <td>UG/L</td>\n",
       "      <td>1.4999</td>\n",
       "      <td>Y</td>\n",
       "      <td>3-Mar-23</td>\n",
       "      <td>NaN</td>\n",
       "      <td>0.5499</td>\n",
       "      <td>NaN</td>\n",
       "      <td>NaN</td>\n",
       "      <td>NaN</td>\n",
       "      <td>POE</td>\n",
       "    </tr>\n",
       "    <tr>\n",
       "      <th>159838</th>\n",
       "      <td>NaN</td>\n",
       "      <td>UG/L</td>\n",
       "      <td>1499.9999</td>\n",
       "      <td>Y</td>\n",
       "      <td>3-Mar-23</td>\n",
       "      <td>NaN</td>\n",
       "      <td>0.5499</td>\n",
       "      <td>NaN</td>\n",
       "      <td>NaN</td>\n",
       "      <td>NaN</td>\n",
       "      <td>POE</td>\n",
       "    </tr>\n",
       "    <tr>\n",
       "      <th>159839</th>\n",
       "      <td>NaN</td>\n",
       "      <td>UG/L</td>\n",
       "      <td>749.9999</td>\n",
       "      <td>Y</td>\n",
       "      <td>3-Mar-23</td>\n",
       "      <td>NaN</td>\n",
       "      <td>0.5499</td>\n",
       "      <td>NaN</td>\n",
       "      <td>NaN</td>\n",
       "      <td>NaN</td>\n",
       "      <td>POE</td>\n",
       "    </tr>\n",
       "    <tr>\n",
       "      <th>159840</th>\n",
       "      <td>NaN</td>\n",
       "      <td>UG/L</td>\n",
       "      <td>149.9999</td>\n",
       "      <td>Y</td>\n",
       "      <td>3-Mar-23</td>\n",
       "      <td>NaN</td>\n",
       "      <td>0.5499</td>\n",
       "      <td>NaN</td>\n",
       "      <td>NaN</td>\n",
       "      <td>NaN</td>\n",
       "      <td>POE</td>\n",
       "    </tr>\n",
       "  </tbody>\n",
       "</table>\n",
       "<p>159841 rows × 11 columns</p>\n",
       "</div>"
      ],
      "text/plain": [
       "       INSPINIT   UOM        MCL ENTRYPOINT ANALYSISDATE  MDL     RDL  \\\n",
       "0            LJ  UG/L    60.4999        NaN     8-Oct-23  NaN     NaN   \n",
       "1            LJ  UG/L    60.4999        NaN     9-Nov-23  NaN     NaN   \n",
       "2            LJ  UG/L    60.4999        NaN     9-Mar-23  0.9     NaN   \n",
       "3            LJ  UG/L    60.4999        NaN    14-Apr-23  NaN     NaN   \n",
       "4            LJ  UG/L    60.4999        NaN     8-Oct-23  NaN     NaN   \n",
       "...         ...   ...        ...        ...          ...  ...     ...   \n",
       "159836      NaN  UG/L   149.9999          Y     3-Mar-23  NaN  0.5499   \n",
       "159837      NaN  UG/L     1.4999          Y     3-Mar-23  NaN  0.5499   \n",
       "159838      NaN  UG/L  1499.9999          Y     3-Mar-23  NaN  0.5499   \n",
       "159839      NaN  UG/L   749.9999          Y     3-Mar-23  NaN  0.5499   \n",
       "159840      NaN  UG/L   149.9999          Y     3-Mar-23  NaN  0.5499   \n",
       "\n",
       "       SAMPLENUMBER  CHLORINERESIDUAL  MAXQTR  \\\n",
       "0               NaN               NaN     3.0   \n",
       "1               NaN               NaN     3.0   \n",
       "2               NaN               NaN     3.0   \n",
       "3               NaN               NaN     3.0   \n",
       "4               NaN               NaN     3.0   \n",
       "...             ...               ...     ...   \n",
       "159836          NaN               NaN     NaN   \n",
       "159837          NaN               NaN     NaN   \n",
       "159838          NaN               NaN     NaN   \n",
       "159839          NaN               NaN     NaN   \n",
       "159840          NaN               NaN     NaN   \n",
       "\n",
       "                                        REMARKS  \n",
       "0       W17 - 17TH @ COVE, NW SIDE OF INTERSECT  \n",
       "1       W17 - 17TH @ COVE, NW SIDE OF INTERSECT  \n",
       "2                                           W17  \n",
       "3       W17 - 17TH @ COVE, NW SIDE OF INTERSECT  \n",
       "4                     RW21 - 2521 PALO ALTO AVE  \n",
       "...                                         ...  \n",
       "159836                                      POE  \n",
       "159837                                      POE  \n",
       "159838                                      POE  \n",
       "159839                                      POE  \n",
       "159840                                      POE  \n",
       "\n",
       "[159841 rows x 11 columns]"
      ]
     },
     "execution_count": 23,
     "metadata": {},
     "output_type": "execute_result"
    }
   ],
   "source": [
    "water_system_dict[\"Chemical_Report_2023\"][columns_with_missing]"
   ]
  },
  {
   "cell_type": "code",
   "execution_count": 24,
   "metadata": {},
   "outputs": [
    {
     "data": {
      "text/plain": [
       "RFP    9572\n",
       "JL     9153\n",
       "MN     6573\n",
       "MFC    6390\n",
       "DS     4833\n",
       "PA     4568\n",
       "PLS    4216\n",
       "DG     4124\n",
       "JMF    3990\n",
       "SBC    3769\n",
       "Name: INSPINIT, dtype: int64"
      ]
     },
     "execution_count": 24,
     "metadata": {},
     "output_type": "execute_result"
    }
   ],
   "source": [
    "water_system_dict[\"Chemical_Report_2023\"][\"INSPINIT\"].value_counts().head(10)"
   ]
  },
  {
   "cell_type": "markdown",
   "metadata": {},
   "source": [
    "### The INSPINIT columns is just inspector initials according to pws_data_dictionary, that mostly likey won't be necessary, but the null values can simply be replaced with \"NA\" "
   ]
  },
  {
   "cell_type": "code",
   "execution_count": 25,
   "metadata": {},
   "outputs": [],
   "source": [
    "water_system_dict[\"Chemical_Report_2023\"][\"INSPINIT\"].fillna(\"NA\",inplace=True)"
   ]
  },
  {
   "cell_type": "code",
   "execution_count": 26,
   "metadata": {},
   "outputs": [
    {
     "data": {
      "text/plain": [
       "UG/L           93551\n",
       "MG/L           46990\n",
       "NTU             6497\n",
       "LN(10)          5108\n",
       "PCI/L           2743\n",
       "COLOR UNITS     1053\n",
       "NG/L             200\n",
       "MF/L              58\n",
       "Name: UOM, dtype: int64"
      ]
     },
     "execution_count": 26,
     "metadata": {},
     "output_type": "execute_result"
    }
   ],
   "source": [
    "water_system_dict[\"Chemical_Report_2023\"][\"UOM\"].value_counts()"
   ]
  },
  {
   "cell_type": "markdown",
   "metadata": {},
   "source": [
    "### According to pws_data_dictionary, UOM is the unit of measurement associated with the sample results, and the nall values for this can be replaced with NA as well"
   ]
  },
  {
   "cell_type": "code",
   "execution_count": 27,
   "metadata": {},
   "outputs": [],
   "source": [
    "water_system_dict[\"Chemical_Report_2023\"][\"UOM\"].fillna(\"NA\",inplace=True)"
   ]
  },
  {
   "cell_type": "code",
   "execution_count": 28,
   "metadata": {},
   "outputs": [
    {
     "data": {
      "text/plain": [
       "1.4999      19750\n",
       "3.4999      10644\n",
       "0.2499       7939\n",
       "10.4999      6683\n",
       "2.4999       6194\n",
       "80.4999      5897\n",
       "60.4999      5838\n",
       "149.9999     5823\n",
       "5.4999       5374\n",
       "249.9999     4617\n",
       "Name: MCL, dtype: int64"
      ]
     },
     "execution_count": 28,
     "metadata": {},
     "output_type": "execute_result"
    }
   ],
   "source": [
    "water_system_dict[\"Chemical_Report_2023\"][\"MCL\"].value_counts().head(10)"
   ]
  },
  {
   "cell_type": "code",
   "execution_count": 29,
   "metadata": {},
   "outputs": [
    {
     "data": {
      "text/plain": [
       "0           60.4999\n",
       "1           60.4999\n",
       "2           60.4999\n",
       "3           60.4999\n",
       "4           60.4999\n",
       "            ...    \n",
       "159836     149.9999\n",
       "159837       1.4999\n",
       "159838    1499.9999\n",
       "159839     749.9999\n",
       "159840     149.9999\n",
       "Name: MCL, Length: 159841, dtype: float64"
      ]
     },
     "execution_count": 29,
     "metadata": {},
     "output_type": "execute_result"
    }
   ],
   "source": [
    "water_system_dict[\"Chemical_Report_2023\"][\"MCL\"]"
   ]
  },
  {
   "cell_type": "markdown",
   "metadata": {},
   "source": [
    "### Based on the pws_data_dictionary, MCL is the maximum contaminent level for compliance check, which can be replaced by the mean as it would handle the vast range of values well."
   ]
  },
  {
   "cell_type": "code",
   "execution_count": 30,
   "metadata": {},
   "outputs": [],
   "source": [
    "water_system_dict[\"Chemical_Report_2023\"][\"MCL\"].fillna(value=water_system_dict[\"Chemical_Report_2023\"][\"MCL\"].mean(),inplace=True)"
   ]
  },
  {
   "cell_type": "code",
   "execution_count": 31,
   "metadata": {},
   "outputs": [
    {
     "data": {
      "text/plain": [
       "Y    128021\n",
       "N      3331\n",
       "Name: ENTRYPOINT, dtype: int64"
      ]
     },
     "execution_count": 31,
     "metadata": {},
     "output_type": "execute_result"
    }
   ],
   "source": [
    "water_system_dict[\"Chemical_Report_2023\"][\"ENTRYPOINT\"].value_counts()"
   ]
  },
  {
   "cell_type": "markdown",
   "metadata": {},
   "source": [
    "### It can be assumed the samples taken at entrypoint, as defined by the pws_data_dictionary, that are null values can be replaced by N, as it would seem to important to not note it as Y"
   ]
  },
  {
   "cell_type": "code",
   "execution_count": 32,
   "metadata": {},
   "outputs": [],
   "source": [
    "water_system_dict[\"Chemical_Report_2023\"][\"ENTRYPOINT\"].fillna(\"N\",inplace=True)"
   ]
  },
  {
   "cell_type": "code",
   "execution_count": 33,
   "metadata": {},
   "outputs": [
    {
     "data": {
      "text/plain": [
       "0          8-Oct-23\n",
       "1          9-Nov-23\n",
       "2          9-Mar-23\n",
       "3         14-Apr-23\n",
       "4          8-Oct-23\n",
       "            ...    \n",
       "159836     3-Mar-23\n",
       "159837     3-Mar-23\n",
       "159838     3-Mar-23\n",
       "159839     3-Mar-23\n",
       "159840     3-Mar-23\n",
       "Name: ANALYSISDATE, Length: 159841, dtype: object"
      ]
     },
     "execution_count": 33,
     "metadata": {},
     "output_type": "execute_result"
    }
   ],
   "source": [
    "water_system_dict[\"Chemical_Report_2023\"][\"ANALYSISDATE\"]"
   ]
  },
  {
   "cell_type": "markdown",
   "metadata": {},
   "source": [
    "### We can apply a ffill as the index locations seem to be adjacent to one another, and would be most aligned to nan values for date of analysis"
   ]
  },
  {
   "cell_type": "code",
   "execution_count": 34,
   "metadata": {},
   "outputs": [],
   "source": [
    "water_system_dict[\"Chemical_Report_2023\"][\"ANALYSISDATE\"].fillna(method=\"ffill\",inplace=True)"
   ]
  },
  {
   "cell_type": "code",
   "execution_count": 35,
   "metadata": {},
   "outputs": [
    {
     "data": {
      "text/plain": [
       "84941"
      ]
     },
     "execution_count": 35,
     "metadata": {},
     "output_type": "execute_result"
    }
   ],
   "source": [
    "water_system_dict[\"Chemical_Report_2023\"][\"MDL\"].isnull().sum()"
   ]
  },
  {
   "cell_type": "code",
   "execution_count": 36,
   "metadata": {},
   "outputs": [
    {
     "data": {
      "text/plain": [
       "0.50    4037\n",
       "0.20    3509\n",
       "0.10    2659\n",
       "0.26    1554\n",
       "0.00    1396\n",
       "1.00    1325\n",
       "0.28    1204\n",
       "0.09    1200\n",
       "0.44    1166\n",
       "0.90    1148\n",
       "Name: MDL, dtype: int64"
      ]
     },
     "execution_count": 36,
     "metadata": {},
     "output_type": "execute_result"
    }
   ],
   "source": [
    "water_system_dict[\"Chemical_Report_2023\"][\"MDL\"].value_counts().head(10)"
   ]
  },
  {
   "cell_type": "markdown",
   "metadata": {},
   "source": [
    "### The mdl is the method detection limit as stated by the pws_data_dictionary, which leads me to believe that the mean would be effective here as well"
   ]
  },
  {
   "cell_type": "code",
   "execution_count": 37,
   "metadata": {},
   "outputs": [],
   "source": [
    "water_system_dict[\"Chemical_Report_2023\"][\"MDL\"].fillna(value=water_system_dict[\"Chemical_Report_2023\"][\"MDL\"].mean(),inplace=True)"
   ]
  },
  {
   "cell_type": "code",
   "execution_count": 38,
   "metadata": {},
   "outputs": [
    {
     "data": {
      "text/plain": [
       "83311"
      ]
     },
     "execution_count": 38,
     "metadata": {},
     "output_type": "execute_result"
    }
   ],
   "source": [
    "water_system_dict[\"Chemical_Report_2023\"][\"RDL\"].isnull().sum()"
   ]
  },
  {
   "cell_type": "code",
   "execution_count": 39,
   "metadata": {},
   "outputs": [
    {
     "data": {
      "text/plain": [
       "0.5499    31011\n",
       "0.1499    10355\n",
       "0.0249     5946\n",
       "0.2499     5903\n",
       "1.4999     4674\n",
       "0.6499     3099\n",
       "0.0149     2995\n",
       "0.0449     2963\n",
       "0.4499     1481\n",
       "0.0749     1481\n",
       "2.4999     1467\n",
       "0.9499     1464\n",
       "9.4999     1463\n",
       "6.4999     1460\n",
       "0.6670      401\n",
       "0.0055      200\n",
       "3.4999      167\n",
       "Name: RDL, dtype: int64"
      ]
     },
     "execution_count": 39,
     "metadata": {},
     "output_type": "execute_result"
    }
   ],
   "source": [
    "water_system_dict[\"Chemical_Report_2023\"][\"RDL\"].value_counts()"
   ]
  },
  {
   "cell_type": "markdown",
   "metadata": {},
   "source": [
    "### The rdl, known as the Regulatory detection limit according to pws_data_dictionary, would appear to be similar to mdl in use case, so using the mean here should be fine as well"
   ]
  },
  {
   "cell_type": "code",
   "execution_count": 40,
   "metadata": {},
   "outputs": [],
   "source": [
    "water_system_dict[\"Chemical_Report_2023\"][\"RDL\"].fillna(value=water_system_dict[\"Chemical_Report_2023\"][\"RDL\"].mean(),inplace=True)"
   ]
  },
  {
   "cell_type": "code",
   "execution_count": 41,
   "metadata": {},
   "outputs": [
    {
     "data": {
      "text/plain": [
       "0         NaN\n",
       "1         NaN\n",
       "2         NaN\n",
       "3         NaN\n",
       "4         NaN\n",
       "         ... \n",
       "159836    NaN\n",
       "159837    NaN\n",
       "159838    NaN\n",
       "159839    NaN\n",
       "159840    NaN\n",
       "Name: SAMPLENUMBER, Length: 159841, dtype: object"
      ]
     },
     "execution_count": 41,
     "metadata": {},
     "output_type": "execute_result"
    }
   ],
   "source": [
    "water_system_dict[\"Chemical_Report_2023\"][\"SAMPLENUMBER\"]"
   ]
  },
  {
   "cell_type": "markdown",
   "metadata": {},
   "source": [
    "### Since a majority of the sample numbers appear to be missing, it would be best to drop the column as a whole even though it would serve well as a foreign key"
   ]
  },
  {
   "cell_type": "code",
   "execution_count": 42,
   "metadata": {},
   "outputs": [],
   "source": [
    "water_system_dict[\"Chemical_Report_2023\"].drop(columns=\"SAMPLENUMBER\",inplace=True)"
   ]
  },
  {
   "cell_type": "code",
   "execution_count": 43,
   "metadata": {},
   "outputs": [
    {
     "data": {
      "text/plain": [
       "1.0    609\n",
       "2.0    482\n",
       "1.2    455\n",
       "0.8    420\n",
       "0.5    359\n",
       "1.5    344\n",
       "0.6    324\n",
       "0.9    315\n",
       "2.8    301\n",
       "1.9    282\n",
       "Name: CHLORINERESIDUAL, dtype: int64"
      ]
     },
     "execution_count": 43,
     "metadata": {},
     "output_type": "execute_result"
    }
   ],
   "source": [
    "water_system_dict[\"Chemical_Report_2023\"][\"CHLORINERESIDUAL\"].value_counts().head(10)"
   ]
  },
  {
   "cell_type": "code",
   "execution_count": 44,
   "metadata": {},
   "outputs": [
    {
     "data": {
      "text/plain": [
       "0.9113869407723926"
      ]
     },
     "execution_count": 44,
     "metadata": {},
     "output_type": "execute_result"
    }
   ],
   "source": [
    "(water_system_dict[\"Chemical_Report_2023\"][\"CHLORINERESIDUAL\"].isnull().sum())/len(water_system_dict[\"Chemical_Report_2023\"][\"CHLORINERESIDUAL\"])"
   ]
  },
  {
   "cell_type": "code",
   "execution_count": 45,
   "metadata": {},
   "outputs": [
    {
     "name": "stdout",
     "output_type": "stream",
     "text": [
      "Proportion of null values in CHLORINERESIDUAL: 91.14%\n"
     ]
    }
   ],
   "source": [
    "null_count = water_system_dict[\"Chemical_Report_2023\"][\"CHLORINERESIDUAL\"].isnull().sum()\n",
    "total_count = len(water_system_dict[\"Chemical_Report_2023\"][\"CHLORINERESIDUAL\"])\n",
    "null_proportion = null_count / total_count\n",
    "\n",
    "print(f\"Proportion of null values in CHLORINERESIDUAL: {null_proportion:.2%}\")"
   ]
  },
  {
   "cell_type": "markdown",
   "metadata": {},
   "source": [
    "### According to pws_data_dictionary the chlorine residual is the residual measured for the sample, and is actually an important feature for analysis, but there is a large amount of data missing, ~91%, it might be safer to replace it with a binary column of whether or not there is data present"
   ]
  },
  {
   "cell_type": "code",
   "execution_count": 46,
   "metadata": {},
   "outputs": [],
   "source": [
    "#binary column developed that renders anything greater than 0 in the original column to 1, and 0 and null values to 0\n",
    "water_system_dict[\"Chemical_Report_2023\"][\"CHLORINERESIDUAL_BINARY\"] = water_system_dict[\"Chemical_Report_2023\"][\"CHLORINERESIDUAL\"].gt(0).astype(int)"
   ]
  },
  {
   "cell_type": "code",
   "execution_count": 47,
   "metadata": {},
   "outputs": [
    {
     "data": {
      "text/plain": [
       "3.0    3089\n",
       "2.0     721\n",
       "4.0     660\n",
       "1.0     592\n",
       "Name: MAXQTR, dtype: int64"
      ]
     },
     "execution_count": 47,
     "metadata": {},
     "output_type": "execute_result"
    }
   ],
   "source": [
    "water_system_dict[\"Chemical_Report_2023\"][\"MAXQTR\"].value_counts()"
   ]
  },
  {
   "cell_type": "markdown",
   "metadata": {},
   "source": [
    "### The max qtr is the quarter the sample has to be taken according to pws_data_dicitonary, which doesn't seem to be a relevant feature, when the sampledate can be utilized, which also had fewer na values in it originally"
   ]
  },
  {
   "cell_type": "code",
   "execution_count": 48,
   "metadata": {},
   "outputs": [],
   "source": [
    "water_system_dict[\"Chemical_Report_2023\"].drop(columns=\"MAXQTR\",inplace=True)"
   ]
  },
  {
   "cell_type": "code",
   "execution_count": 49,
   "metadata": {},
   "outputs": [
    {
     "data": {
      "text/plain": [
       "0         W17 - 17TH @ COVE, NW SIDE OF INTERSECT\n",
       "1         W17 - 17TH @ COVE, NW SIDE OF INTERSECT\n",
       "2                                             W17\n",
       "3         W17 - 17TH @ COVE, NW SIDE OF INTERSECT\n",
       "4                       RW21 - 2521 PALO ALTO AVE\n",
       "                           ...                   \n",
       "159836                                        POE\n",
       "159837                                        POE\n",
       "159838                                        POE\n",
       "159839                                        POE\n",
       "159840                                        POE\n",
       "Name: REMARKS, Length: 159841, dtype: object"
      ]
     },
     "execution_count": 49,
     "metadata": {},
     "output_type": "execute_result"
    }
   ],
   "source": [
    "water_system_dict[\"Chemical_Report_2023\"][\"REMARKS\"]"
   ]
  },
  {
   "cell_type": "markdown",
   "metadata": {},
   "source": [
    "### The remarks are just comments the inspectors left according to pws_data_dictionary, and could be useful, whereas the nan values can be replaced with \"no comment\""
   ]
  },
  {
   "cell_type": "code",
   "execution_count": 50,
   "metadata": {},
   "outputs": [],
   "source": [
    "water_system_dict[\"Chemical_Report_2023\"][\"REMARKS\"].fillna(\"No Comment\",inplace=True)"
   ]
  },
  {
   "cell_type": "code",
   "execution_count": 51,
   "metadata": {},
   "outputs": [],
   "source": [
    "columns_with_missing = water_system_dict[\"Chemical_Report_2023\"].columns[\n",
    "    water_system_dict[\"Chemical_Report_2023\"].isnull().sum() > 1]"
   ]
  },
  {
   "cell_type": "code",
   "execution_count": 52,
   "metadata": {},
   "outputs": [
    {
     "data": {
      "text/html": [
       "<div>\n",
       "<style scoped>\n",
       "    .dataframe tbody tr th:only-of-type {\n",
       "        vertical-align: middle;\n",
       "    }\n",
       "\n",
       "    .dataframe tbody tr th {\n",
       "        vertical-align: top;\n",
       "    }\n",
       "\n",
       "    .dataframe thead th {\n",
       "        text-align: right;\n",
       "    }\n",
       "</style>\n",
       "<table border=\"1\" class=\"dataframe\">\n",
       "  <thead>\n",
       "    <tr style=\"text-align: right;\">\n",
       "      <th></th>\n",
       "      <th>CHLORINERESIDUAL</th>\n",
       "    </tr>\n",
       "  </thead>\n",
       "  <tbody>\n",
       "    <tr>\n",
       "      <th>0</th>\n",
       "      <td>NaN</td>\n",
       "    </tr>\n",
       "    <tr>\n",
       "      <th>1</th>\n",
       "      <td>NaN</td>\n",
       "    </tr>\n",
       "    <tr>\n",
       "      <th>2</th>\n",
       "      <td>NaN</td>\n",
       "    </tr>\n",
       "    <tr>\n",
       "      <th>3</th>\n",
       "      <td>NaN</td>\n",
       "    </tr>\n",
       "    <tr>\n",
       "      <th>4</th>\n",
       "      <td>NaN</td>\n",
       "    </tr>\n",
       "    <tr>\n",
       "      <th>...</th>\n",
       "      <td>...</td>\n",
       "    </tr>\n",
       "    <tr>\n",
       "      <th>159836</th>\n",
       "      <td>NaN</td>\n",
       "    </tr>\n",
       "    <tr>\n",
       "      <th>159837</th>\n",
       "      <td>NaN</td>\n",
       "    </tr>\n",
       "    <tr>\n",
       "      <th>159838</th>\n",
       "      <td>NaN</td>\n",
       "    </tr>\n",
       "    <tr>\n",
       "      <th>159839</th>\n",
       "      <td>NaN</td>\n",
       "    </tr>\n",
       "    <tr>\n",
       "      <th>159840</th>\n",
       "      <td>NaN</td>\n",
       "    </tr>\n",
       "  </tbody>\n",
       "</table>\n",
       "<p>159841 rows × 1 columns</p>\n",
       "</div>"
      ],
      "text/plain": [
       "        CHLORINERESIDUAL\n",
       "0                    NaN\n",
       "1                    NaN\n",
       "2                    NaN\n",
       "3                    NaN\n",
       "4                    NaN\n",
       "...                  ...\n",
       "159836               NaN\n",
       "159837               NaN\n",
       "159838               NaN\n",
       "159839               NaN\n",
       "159840               NaN\n",
       "\n",
       "[159841 rows x 1 columns]"
      ]
     },
     "execution_count": 52,
     "metadata": {},
     "output_type": "execute_result"
    }
   ],
   "source": [
    "water_system_dict[\"Chemical_Report_2023\"][columns_with_missing]"
   ]
  },
  {
   "cell_type": "code",
   "execution_count": 53,
   "metadata": {},
   "outputs": [
    {
     "name": "stdout",
     "output_type": "stream",
     "text": [
      "file has been saved\n"
     ]
    }
   ],
   "source": [
    "store_file(\"Chemical_Report_2023\",1)"
   ]
  },
  {
   "cell_type": "markdown",
   "metadata": {},
   "source": [
    "## Flow Data Cleaning"
   ]
  },
  {
   "cell_type": "code",
   "execution_count": 54,
   "metadata": {},
   "outputs": [
    {
     "data": {
      "text/plain": [
       "PWSID               0\n",
       "OFFICE              0\n",
       "SYSTEMNAME          0\n",
       "DESIGNCAPCITY    4638\n",
       "PLANTNUMBER         0\n",
       "PLANTSTATUS         0\n",
       "REPORTDATE          0\n",
       "MAX_TREATED       419\n",
       "AVG_TREATED       419\n",
       "dtype: int64"
      ]
     },
     "execution_count": 54,
     "metadata": {},
     "output_type": "execute_result"
    }
   ],
   "source": [
    "water_system_dict[\"Flow_Data_Report_2023\"].isnull().sum()"
   ]
  },
  {
   "cell_type": "code",
   "execution_count": 82,
   "metadata": {},
   "outputs": [
    {
     "data": {
      "text/html": [
       "<div>\n",
       "<style scoped>\n",
       "    .dataframe tbody tr th:only-of-type {\n",
       "        vertical-align: middle;\n",
       "    }\n",
       "\n",
       "    .dataframe tbody tr th {\n",
       "        vertical-align: top;\n",
       "    }\n",
       "\n",
       "    .dataframe thead th {\n",
       "        text-align: right;\n",
       "    }\n",
       "</style>\n",
       "<table border=\"1\" class=\"dataframe\">\n",
       "  <thead>\n",
       "    <tr style=\"text-align: right;\">\n",
       "      <th></th>\n",
       "    </tr>\n",
       "  </thead>\n",
       "  <tbody>\n",
       "    <tr>\n",
       "      <th>0</th>\n",
       "    </tr>\n",
       "    <tr>\n",
       "      <th>1</th>\n",
       "    </tr>\n",
       "    <tr>\n",
       "      <th>2</th>\n",
       "    </tr>\n",
       "    <tr>\n",
       "      <th>3</th>\n",
       "    </tr>\n",
       "    <tr>\n",
       "      <th>4</th>\n",
       "    </tr>\n",
       "    <tr>\n",
       "      <th>5</th>\n",
       "    </tr>\n",
       "    <tr>\n",
       "      <th>6</th>\n",
       "    </tr>\n",
       "    <tr>\n",
       "      <th>7</th>\n",
       "    </tr>\n",
       "    <tr>\n",
       "      <th>8</th>\n",
       "    </tr>\n",
       "    <tr>\n",
       "      <th>9</th>\n",
       "    </tr>\n",
       "    <tr>\n",
       "      <th>10</th>\n",
       "    </tr>\n",
       "    <tr>\n",
       "      <th>11</th>\n",
       "    </tr>\n",
       "    <tr>\n",
       "      <th>12</th>\n",
       "    </tr>\n",
       "    <tr>\n",
       "      <th>13</th>\n",
       "    </tr>\n",
       "    <tr>\n",
       "      <th>14</th>\n",
       "    </tr>\n",
       "    <tr>\n",
       "      <th>15</th>\n",
       "    </tr>\n",
       "    <tr>\n",
       "      <th>16</th>\n",
       "    </tr>\n",
       "    <tr>\n",
       "      <th>17</th>\n",
       "    </tr>\n",
       "    <tr>\n",
       "      <th>18</th>\n",
       "    </tr>\n",
       "    <tr>\n",
       "      <th>19</th>\n",
       "    </tr>\n",
       "    <tr>\n",
       "      <th>20</th>\n",
       "    </tr>\n",
       "    <tr>\n",
       "      <th>21</th>\n",
       "    </tr>\n",
       "    <tr>\n",
       "      <th>22</th>\n",
       "    </tr>\n",
       "    <tr>\n",
       "      <th>23</th>\n",
       "    </tr>\n",
       "    <tr>\n",
       "      <th>24</th>\n",
       "    </tr>\n",
       "    <tr>\n",
       "      <th>25</th>\n",
       "    </tr>\n",
       "    <tr>\n",
       "      <th>26</th>\n",
       "    </tr>\n",
       "    <tr>\n",
       "      <th>27</th>\n",
       "    </tr>\n",
       "    <tr>\n",
       "      <th>28</th>\n",
       "    </tr>\n",
       "    <tr>\n",
       "      <th>29</th>\n",
       "    </tr>\n",
       "    <tr>\n",
       "      <th>30</th>\n",
       "    </tr>\n",
       "    <tr>\n",
       "      <th>31</th>\n",
       "    </tr>\n",
       "    <tr>\n",
       "      <th>32</th>\n",
       "    </tr>\n",
       "    <tr>\n",
       "      <th>33</th>\n",
       "    </tr>\n",
       "    <tr>\n",
       "      <th>34</th>\n",
       "    </tr>\n",
       "    <tr>\n",
       "      <th>35</th>\n",
       "    </tr>\n",
       "    <tr>\n",
       "      <th>36</th>\n",
       "    </tr>\n",
       "    <tr>\n",
       "      <th>37</th>\n",
       "    </tr>\n",
       "    <tr>\n",
       "      <th>38</th>\n",
       "    </tr>\n",
       "    <tr>\n",
       "      <th>39</th>\n",
       "    </tr>\n",
       "    <tr>\n",
       "      <th>40</th>\n",
       "    </tr>\n",
       "    <tr>\n",
       "      <th>41</th>\n",
       "    </tr>\n",
       "    <tr>\n",
       "      <th>42</th>\n",
       "    </tr>\n",
       "    <tr>\n",
       "      <th>43</th>\n",
       "    </tr>\n",
       "    <tr>\n",
       "      <th>44</th>\n",
       "    </tr>\n",
       "    <tr>\n",
       "      <th>45</th>\n",
       "    </tr>\n",
       "    <tr>\n",
       "      <th>46</th>\n",
       "    </tr>\n",
       "    <tr>\n",
       "      <th>47</th>\n",
       "    </tr>\n",
       "    <tr>\n",
       "      <th>48</th>\n",
       "    </tr>\n",
       "    <tr>\n",
       "      <th>49</th>\n",
       "    </tr>\n",
       "  </tbody>\n",
       "</table>\n",
       "</div>"
      ],
      "text/plain": [
       "Empty DataFrame\n",
       "Columns: []\n",
       "Index: [0, 1, 2, 3, 4, 5, 6, 7, 8, 9, 10, 11, 12, 13, 14, 15, 16, 17, 18, 19, 20, 21, 22, 23, 24, 25, 26, 27, 28, 29, 30, 31, 32, 33, 34, 35, 36, 37, 38, 39, 40, 41, 42, 43, 44, 45, 46, 47, 48, 49]"
      ]
     },
     "execution_count": 82,
     "metadata": {},
     "output_type": "execute_result"
    }
   ],
   "source": [
    "missing_column_display(\"Flow_Data_Report_2023\").head(50)"
   ]
  },
  {
   "cell_type": "code",
   "execution_count": 56,
   "metadata": {},
   "outputs": [
    {
     "data": {
      "text/plain": [
       "1.0        1598\n",
       "5000.0     1165\n",
       "36000.0     935\n",
       "10000.0     911\n",
       "10800.0     664\n",
       "18000.0     655\n",
       "28800.0     629\n",
       "72000.0     617\n",
       "49000.0     583\n",
       "20000.0     552\n",
       "Name: DESIGNCAPCITY, dtype: int64"
      ]
     },
     "execution_count": 56,
     "metadata": {},
     "output_type": "execute_result"
    }
   ],
   "source": [
    "water_system_dict[\"Flow_Data_Report_2023\"][\"DESIGNCAPCITY\"].value_counts().head(10)"
   ]
  },
  {
   "cell_type": "markdown",
   "metadata": {},
   "source": [
    "### A ffill would work here as design capacity is just the design capacity of the plant according to pws_data_dictionary, but mostly the appearance that data points are similar to their neighbors"
   ]
  },
  {
   "cell_type": "code",
   "execution_count": 57,
   "metadata": {},
   "outputs": [],
   "source": [
    "water_system_dict[\"Flow_Data_Report_2023\"][\"DESIGNCAPCITY\"].fillna(method=\"ffill\",inplace=True)"
   ]
  },
  {
   "cell_type": "code",
   "execution_count": 58,
   "metadata": {},
   "outputs": [
    {
     "data": {
      "text/plain": [
       "0.0           1687\n",
       "1000.0         384\n",
       "400.0          323\n",
       "1.0            319\n",
       "500.0          314\n",
       "              ... \n",
       "22632346.0       1\n",
       "22905000.0       1\n",
       "23067919.0       1\n",
       "21134910.0       1\n",
       "1990000.0        1\n",
       "Name: MAX_TREATED, Length: 13583, dtype: int64"
      ]
     },
     "execution_count": 58,
     "metadata": {},
     "output_type": "execute_result"
    }
   ],
   "source": [
    "water_system_dict[\"Flow_Data_Report_2023\"][\"MAX_TREATED\"].value_counts()"
   ]
  },
  {
   "cell_type": "markdown",
   "metadata": {},
   "source": [
    "### According to pws_data_dictionary, the max treated is the highest daily average gallons of water per day in an one month period, in which the nan values can be replaced by 0, since this is an important feature to note, so why wouldn't it be recorded?. It is apparent that 0 is also the mode within the feature as well."
   ]
  },
  {
   "cell_type": "code",
   "execution_count": 59,
   "metadata": {},
   "outputs": [],
   "source": [
    "water_system_dict[\"Flow_Data_Report_2023\"][\"MAX_TREATED\"].fillna(0,inplace=True)"
   ]
  },
  {
   "cell_type": "code",
   "execution_count": 60,
   "metadata": {},
   "outputs": [
    {
     "data": {
      "text/plain": [
       "0.0       1707\n",
       "1.0        342\n",
       "1000.0      64\n",
       "400.0       59\n",
       "32.0        58\n",
       "2000.0      55\n",
       "3000.0      52\n",
       "100.0       44\n",
       "300.0       43\n",
       "250.0       42\n",
       "Name: AVG_TREATED, dtype: int64"
      ]
     },
     "execution_count": 60,
     "metadata": {},
     "output_type": "execute_result"
    }
   ],
   "source": [
    "water_system_dict[\"Flow_Data_Report_2023\"][\"AVG_TREATED\"].value_counts().head(10)"
   ]
  },
  {
   "cell_type": "markdown",
   "metadata": {},
   "source": [
    "### According to pws_data_dictionary, the average treated is the average number of gallons per day of water processed by a plant during a month, which can follow the same rhetoric as the max treated, where the nan values can be replaced by 0, as it's present as the mode as well."
   ]
  },
  {
   "cell_type": "code",
   "execution_count": 61,
   "metadata": {},
   "outputs": [],
   "source": [
    "water_system_dict[\"Flow_Data_Report_2023\"][\"AVG_TREATED\"].fillna(0,inplace=True)"
   ]
  },
  {
   "cell_type": "code",
   "execution_count": 62,
   "metadata": {},
   "outputs": [
    {
     "name": "stdout",
     "output_type": "stream",
     "text": [
      "file has been saved\n"
     ]
    }
   ],
   "source": [
    "store_file(\"Flow_Data_Report_2023\",1)"
   ]
  },
  {
   "cell_type": "markdown",
   "metadata": {},
   "source": [
    "## Basic Facility Cleaning"
   ]
  },
  {
   "cell_type": "code",
   "execution_count": 84,
   "metadata": {},
   "outputs": [
    {
     "data": {
      "text/plain": [
       "DISTRICT                 0\n",
       "COUNTY                   0\n",
       "OFFICE                   0\n",
       "EMAIL                    0\n",
       "PWSID                    0\n",
       "SYSTEMTYPE               0\n",
       "CATEGORYCLASS            0\n",
       "SURFACESOURCE            0\n",
       "GROUNDSOURCE             0\n",
       "MAILINGNAME              0\n",
       "ADDRESS1                 0\n",
       "ADDRESS2                 0\n",
       "CITY                     0\n",
       "SYSTEMSTATE              0\n",
       "ZIP                      0\n",
       "ZIPFOUR               5659\n",
       "PHONE                  462\n",
       "PHONEEXT              5841\n",
       "CONTACTNAME              0\n",
       "OWNERNAME              235\n",
       "OWNERADDRESS1          273\n",
       "OWNERADDRESS2         5344\n",
       "OWNERCITY              272\n",
       "OWNERSTATE             272\n",
       "OWNERZIP               273\n",
       "OWNERZIP4             5453\n",
       "OWNERPHONE             558\n",
       "OWNERPHONEEXT         5710\n",
       "OWNERTYPE                0\n",
       "POPULATIONSERVED         0\n",
       "DESIGNCAPACITY           0\n",
       "SERVICECONNECTIONS       0\n",
       "LASTINSPECTION        1075\n",
       "LASTSANITARYSURVEY    1096\n",
       "FEEGROUPCODE             0\n",
       "ANNUALFEE                0\n",
       "dtype: int64"
      ]
     },
     "execution_count": 84,
     "metadata": {},
     "output_type": "execute_result"
    }
   ],
   "source": [
    "water_system_dict[\"Basic_Facility_Report_2023\"].isnull().sum()"
   ]
  },
  {
   "cell_type": "code",
   "execution_count": 85,
   "metadata": {},
   "outputs": [
    {
     "data": {
      "text/html": [
       "<div>\n",
       "<style scoped>\n",
       "    .dataframe tbody tr th:only-of-type {\n",
       "        vertical-align: middle;\n",
       "    }\n",
       "\n",
       "    .dataframe tbody tr th {\n",
       "        vertical-align: top;\n",
       "    }\n",
       "\n",
       "    .dataframe thead th {\n",
       "        text-align: right;\n",
       "    }\n",
       "</style>\n",
       "<table border=\"1\" class=\"dataframe\">\n",
       "  <thead>\n",
       "    <tr style=\"text-align: right;\">\n",
       "      <th></th>\n",
       "      <th>ZIPFOUR</th>\n",
       "      <th>PHONE</th>\n",
       "      <th>PHONEEXT</th>\n",
       "      <th>OWNERNAME</th>\n",
       "      <th>OWNERADDRESS1</th>\n",
       "      <th>OWNERADDRESS2</th>\n",
       "      <th>OWNERCITY</th>\n",
       "      <th>OWNERSTATE</th>\n",
       "      <th>OWNERZIP</th>\n",
       "      <th>OWNERZIP4</th>\n",
       "      <th>OWNERPHONE</th>\n",
       "      <th>OWNERPHONEEXT</th>\n",
       "      <th>LASTINSPECTION</th>\n",
       "      <th>LASTSANITARYSURVEY</th>\n",
       "    </tr>\n",
       "  </thead>\n",
       "  <tbody>\n",
       "    <tr>\n",
       "      <th>0</th>\n",
       "      <td>NaN</td>\n",
       "      <td>8.502485e+09</td>\n",
       "      <td>NaN</td>\n",
       "      <td>BEN BLITCH</td>\n",
       "      <td>3410 TRANSMITTER ROAD</td>\n",
       "      <td>NaN</td>\n",
       "      <td>PANAMA CITY</td>\n",
       "      <td>FL</td>\n",
       "      <td>32404.0</td>\n",
       "      <td>NaN</td>\n",
       "      <td>8.502485e+09</td>\n",
       "      <td>NaN</td>\n",
       "      <td>27-Dec-13</td>\n",
       "      <td>9-Dec-21</td>\n",
       "    </tr>\n",
       "    <tr>\n",
       "      <th>1</th>\n",
       "      <td>9542.0</td>\n",
       "      <td>8.508711e+09</td>\n",
       "      <td>NaN</td>\n",
       "      <td>EDDIE COOK</td>\n",
       "      <td>6601 E. HWY 22</td>\n",
       "      <td>NaN</td>\n",
       "      <td>CALLAWAY</td>\n",
       "      <td>FL</td>\n",
       "      <td>32404.0</td>\n",
       "      <td>9542.0</td>\n",
       "      <td>8.502157e+09</td>\n",
       "      <td>NaN</td>\n",
       "      <td>12-Nov-13</td>\n",
       "      <td>12-Aug-21</td>\n",
       "    </tr>\n",
       "    <tr>\n",
       "      <th>2</th>\n",
       "      <td>NaN</td>\n",
       "      <td>8.508728e+09</td>\n",
       "      <td>NaN</td>\n",
       "      <td>RALPH HAMMOND</td>\n",
       "      <td>408 SCHOOL AVE.</td>\n",
       "      <td>NaN</td>\n",
       "      <td>SPRINGFIELD</td>\n",
       "      <td>FL</td>\n",
       "      <td>32401.0</td>\n",
       "      <td>NaN</td>\n",
       "      <td>8.508728e+09</td>\n",
       "      <td>110.0</td>\n",
       "      <td>3-Jan-20</td>\n",
       "      <td>9-Dec-21</td>\n",
       "    </tr>\n",
       "    <tr>\n",
       "      <th>3</th>\n",
       "      <td>NaN</td>\n",
       "      <td>8.502650e+09</td>\n",
       "      <td>NaN</td>\n",
       "      <td>GREG KIDWELL</td>\n",
       "      <td>825 OHIO AVE.</td>\n",
       "      <td>NaN</td>\n",
       "      <td>LYNN HAVEN</td>\n",
       "      <td>FL</td>\n",
       "      <td>32444.0</td>\n",
       "      <td>NaN</td>\n",
       "      <td>8.502652e+09</td>\n",
       "      <td>NaN</td>\n",
       "      <td>7-Jun-21</td>\n",
       "      <td>22-Nov-21</td>\n",
       "    </tr>\n",
       "    <tr>\n",
       "      <th>4</th>\n",
       "      <td>NaN</td>\n",
       "      <td>8.506483e+09</td>\n",
       "      <td>NaN</td>\n",
       "      <td>CHRIS HUBBARD</td>\n",
       "      <td>PO BOX 13425</td>\n",
       "      <td>NaN</td>\n",
       "      <td>MEXICO BEACH</td>\n",
       "      <td>FL</td>\n",
       "      <td>32410.0</td>\n",
       "      <td>NaN</td>\n",
       "      <td>8.506486e+09</td>\n",
       "      <td>3.0</td>\n",
       "      <td>18-Mar-24</td>\n",
       "      <td>6-Feb-24</td>\n",
       "    </tr>\n",
       "    <tr>\n",
       "      <th>...</th>\n",
       "      <td>...</td>\n",
       "      <td>...</td>\n",
       "      <td>...</td>\n",
       "      <td>...</td>\n",
       "      <td>...</td>\n",
       "      <td>...</td>\n",
       "      <td>...</td>\n",
       "      <td>...</td>\n",
       "      <td>...</td>\n",
       "      <td>...</td>\n",
       "      <td>...</td>\n",
       "      <td>...</td>\n",
       "      <td>...</td>\n",
       "      <td>...</td>\n",
       "    </tr>\n",
       "    <tr>\n",
       "      <th>5911</th>\n",
       "      <td>NaN</td>\n",
       "      <td>3.525690e+09</td>\n",
       "      <td>NaN</td>\n",
       "      <td>DR. JOSEPH NOVAK</td>\n",
       "      <td>PO BOX 295</td>\n",
       "      <td>NaN</td>\n",
       "      <td>BUSHNELL</td>\n",
       "      <td>FL</td>\n",
       "      <td>33513.0</td>\n",
       "      <td>NaN</td>\n",
       "      <td>3.525690e+09</td>\n",
       "      <td>NaN</td>\n",
       "      <td>NaN</td>\n",
       "      <td>NaN</td>\n",
       "    </tr>\n",
       "    <tr>\n",
       "      <th>5912</th>\n",
       "      <td>NaN</td>\n",
       "      <td>3.527938e+09</td>\n",
       "      <td>NaN</td>\n",
       "      <td>KIRK LEOPARD</td>\n",
       "      <td>6502 SW 102ND AVE.</td>\n",
       "      <td>NaN</td>\n",
       "      <td>BUSHNELL</td>\n",
       "      <td>FL</td>\n",
       "      <td>33513.0</td>\n",
       "      <td>NaN</td>\n",
       "      <td>3.527938e+09</td>\n",
       "      <td>NaN</td>\n",
       "      <td>NaN</td>\n",
       "      <td>NaN</td>\n",
       "    </tr>\n",
       "    <tr>\n",
       "      <th>5913</th>\n",
       "      <td>NaN</td>\n",
       "      <td>3.527938e+09</td>\n",
       "      <td>NaN</td>\n",
       "      <td>BILLY MURPHY</td>\n",
       "      <td>6502 SW 102ND AVE.</td>\n",
       "      <td>NaN</td>\n",
       "      <td>BUSHNELL</td>\n",
       "      <td>FL</td>\n",
       "      <td>33513.0</td>\n",
       "      <td>NaN</td>\n",
       "      <td>3.527938e+09</td>\n",
       "      <td>NaN</td>\n",
       "      <td>NaN</td>\n",
       "      <td>NaN</td>\n",
       "    </tr>\n",
       "    <tr>\n",
       "      <th>5914</th>\n",
       "      <td>NaN</td>\n",
       "      <td>3.526894e+09</td>\n",
       "      <td>NaN</td>\n",
       "      <td>BRUCE ATKINSON</td>\n",
       "      <td>319 E. ANDERSON AVE.</td>\n",
       "      <td>NaN</td>\n",
       "      <td>BUSHNELL</td>\n",
       "      <td>FL</td>\n",
       "      <td>33513.0</td>\n",
       "      <td>NaN</td>\n",
       "      <td>3.526894e+09</td>\n",
       "      <td>6836.0</td>\n",
       "      <td>NaN</td>\n",
       "      <td>NaN</td>\n",
       "    </tr>\n",
       "    <tr>\n",
       "      <th>5915</th>\n",
       "      <td>NaN</td>\n",
       "      <td>3.527535e+09</td>\n",
       "      <td>NaN</td>\n",
       "      <td>RICHARD BAIER</td>\n",
       "      <td>984 OLD MILL RUN</td>\n",
       "      <td>NaN</td>\n",
       "      <td>THE VILLAGES</td>\n",
       "      <td>FL</td>\n",
       "      <td>32162.0</td>\n",
       "      <td>NaN</td>\n",
       "      <td>3.527535e+09</td>\n",
       "      <td>NaN</td>\n",
       "      <td>NaN</td>\n",
       "      <td>NaN</td>\n",
       "    </tr>\n",
       "  </tbody>\n",
       "</table>\n",
       "<p>5916 rows × 14 columns</p>\n",
       "</div>"
      ],
      "text/plain": [
       "      ZIPFOUR         PHONE  PHONEEXT         OWNERNAME  \\\n",
       "0         NaN  8.502485e+09       NaN        BEN BLITCH   \n",
       "1      9542.0  8.508711e+09       NaN        EDDIE COOK   \n",
       "2         NaN  8.508728e+09       NaN     RALPH HAMMOND   \n",
       "3         NaN  8.502650e+09       NaN      GREG KIDWELL   \n",
       "4         NaN  8.506483e+09       NaN     CHRIS HUBBARD   \n",
       "...       ...           ...       ...               ...   \n",
       "5911      NaN  3.525690e+09       NaN  DR. JOSEPH NOVAK   \n",
       "5912      NaN  3.527938e+09       NaN      KIRK LEOPARD   \n",
       "5913      NaN  3.527938e+09       NaN      BILLY MURPHY   \n",
       "5914      NaN  3.526894e+09       NaN    BRUCE ATKINSON   \n",
       "5915      NaN  3.527535e+09       NaN     RICHARD BAIER   \n",
       "\n",
       "              OWNERADDRESS1 OWNERADDRESS2     OWNERCITY OWNERSTATE  OWNERZIP  \\\n",
       "0     3410 TRANSMITTER ROAD           NaN   PANAMA CITY         FL   32404.0   \n",
       "1            6601 E. HWY 22           NaN      CALLAWAY         FL   32404.0   \n",
       "2           408 SCHOOL AVE.           NaN   SPRINGFIELD         FL   32401.0   \n",
       "3             825 OHIO AVE.           NaN    LYNN HAVEN         FL   32444.0   \n",
       "4              PO BOX 13425           NaN  MEXICO BEACH         FL   32410.0   \n",
       "...                     ...           ...           ...        ...       ...   \n",
       "5911             PO BOX 295           NaN      BUSHNELL         FL   33513.0   \n",
       "5912     6502 SW 102ND AVE.           NaN      BUSHNELL         FL   33513.0   \n",
       "5913     6502 SW 102ND AVE.           NaN      BUSHNELL         FL   33513.0   \n",
       "5914   319 E. ANDERSON AVE.           NaN      BUSHNELL         FL   33513.0   \n",
       "5915       984 OLD MILL RUN           NaN  THE VILLAGES         FL   32162.0   \n",
       "\n",
       "      OWNERZIP4    OWNERPHONE  OWNERPHONEEXT LASTINSPECTION LASTSANITARYSURVEY  \n",
       "0           NaN  8.502485e+09            NaN      27-Dec-13           9-Dec-21  \n",
       "1        9542.0  8.502157e+09            NaN      12-Nov-13          12-Aug-21  \n",
       "2           NaN  8.508728e+09          110.0       3-Jan-20           9-Dec-21  \n",
       "3           NaN  8.502652e+09            NaN       7-Jun-21          22-Nov-21  \n",
       "4           NaN  8.506486e+09            3.0      18-Mar-24           6-Feb-24  \n",
       "...         ...           ...            ...            ...                ...  \n",
       "5911        NaN  3.525690e+09            NaN            NaN                NaN  \n",
       "5912        NaN  3.527938e+09            NaN            NaN                NaN  \n",
       "5913        NaN  3.527938e+09            NaN            NaN                NaN  \n",
       "5914        NaN  3.526894e+09         6836.0            NaN                NaN  \n",
       "5915        NaN  3.527535e+09            NaN            NaN                NaN  \n",
       "\n",
       "[5916 rows x 14 columns]"
      ]
     },
     "execution_count": 85,
     "metadata": {},
     "output_type": "execute_result"
    }
   ],
   "source": [
    "missing_column_display(\"Basic_Facility_Report_2023\")"
   ]
  },
  {
   "cell_type": "code",
   "execution_count": 65,
   "metadata": {},
   "outputs": [],
   "source": [
    "#If an email isn't present you can just state that there was none\n",
    "water_system_dict[\"Basic_Facility_Report_2023\"][\"EMAIL\"].fillna(\"No Email\",inplace=True)"
   ]
  },
  {
   "cell_type": "code",
   "execution_count": 66,
   "metadata": {},
   "outputs": [
    {
     "data": {
      "text/plain": [
       "0                       NaN\n",
       "1                       NaN\n",
       "2                       NaN\n",
       "3                       NaN\n",
       "4       ATTN.:  GLENN DAVIS\n",
       "               ...         \n",
       "5911                    NaN\n",
       "5912                    NaN\n",
       "5913                    NaN\n",
       "5914                    NaN\n",
       "5915                    NaN\n",
       "Name: ADDRESS2, Length: 5916, dtype: object"
      ]
     },
     "execution_count": 66,
     "metadata": {},
     "output_type": "execute_result"
    }
   ],
   "source": [
    "#The address 2 line isn't that important as address1, and it can easily be replaced by \"no address\"\n",
    "water_system_dict[\"Basic_Facility_Report_2023\"][\"ADDRESS2\"]"
   ]
  },
  {
   "cell_type": "code",
   "execution_count": 67,
   "metadata": {},
   "outputs": [],
   "source": [
    "water_system_dict[\"Basic_Facility_Report_2023\"][\"ADDRESS2\"].fillna(\"No Address\",inplace=True)"
   ]
  },
  {
   "cell_type": "code",
   "execution_count": 68,
   "metadata": {},
   "outputs": [
    {
     "data": {
      "text/plain": [
       "242"
      ]
     },
     "execution_count": 68,
     "metadata": {},
     "output_type": "execute_result"
    }
   ],
   "source": [
    "#I have to look back at this \n",
    "water_system_dict[\"Basic_Facility_Report_2023\"][\"ZIPFOUR\"].nunique()"
   ]
  },
  {
   "cell_type": "code",
   "execution_count": 69,
   "metadata": {},
   "outputs": [
    {
     "data": {
      "text/plain": [
       "PHONE         PHONEEXT\n",
       "3.526253e+09  2509.0      6\n",
       "3.863289e+09  2178.0      2\n",
       "2.394722e+09  210.0       1\n",
       "8.452626e+09  105.0       1\n",
       "8.139877e+09  3.0         1\n",
       "8.137521e+09  102.0       1\n",
       "8.136508e+09  34.0        1\n",
       "8.136307e+09  225.0       1\n",
       "8.136005e+09  108.0       1\n",
       "8.134287e+09  131.0       1\n",
       "dtype: int64"
      ]
     },
     "execution_count": 69,
     "metadata": {},
     "output_type": "execute_result"
    }
   ],
   "source": [
    "water_system_dict[\"Basic_Facility_Report_2023\"][[\"PHONE\",\"PHONEEXT\"]].value_counts().head(10)"
   ]
  },
  {
   "cell_type": "markdown",
   "metadata": {},
   "source": [
    "### The phone details don't seem to be relevant to an overall analyis and I could end up dropping them"
   ]
  },
  {
   "cell_type": "code",
   "execution_count": 70,
   "metadata": {},
   "outputs": [],
   "source": [
    "#Replace null contact values with \"Contact_Name_Unknown\"\n",
    "water_system_dict[\"Basic_Facility_Report_2023\"][\"CONTACTNAME\"].fillna(\"Contact_Name_Unknown\",inplace=True)"
   ]
  },
  {
   "cell_type": "code",
   "execution_count": 86,
   "metadata": {},
   "outputs": [
    {
     "name": "stderr",
     "output_type": "stream",
     "text": [
      "C:\\Users\\shupe\\AppData\\Local\\Temp\\ipykernel_28748\\227065681.py:2: SettingWithCopyWarning: \n",
      "A value is trying to be set on a copy of a slice from a DataFrame\n",
      "\n",
      "See the caveats in the documentation: https://pandas.pydata.org/pandas-docs/stable/user_guide/indexing.html#returning-a-view-versus-a-copy\n",
      "  water_system_dict[\"Basic_Facility_Report_2023\"][[\"OWNERNAME\",\"OWNERADDRESS1\",\"OWNERADDRESS2\",\"OWNERCITY\",\"OWNERSTATE\",\"OWNERZIP\",\"OWNERZIP4\",\"OWNERPHONE\",\"OWNERPHONEEXT\"]].fillna(\"Unknown\",inplace=True)\n"
     ]
    }
   ],
   "source": [
    "#Owner details don't seem to be pertinent to analysis, and can be replaced with the value \"unknown\"\n",
    "water_system_dict[\"Basic_Facility_Report_2023\"][[\"OWNERNAME\",\"OWNERADDRESS1\",\"OWNERADDRESS2\",\"OWNERCITY\",\"OWNERSTATE\",\"OWNERZIP\",\"OWNERZIP4\",\"OWNERPHONE\",\"OWNERPHONEEXT\"]].fillna(\"Unknown\",inplace=True)"
   ]
  },
  {
   "cell_type": "code",
   "execution_count": 72,
   "metadata": {},
   "outputs": [
    {
     "data": {
      "text/plain": [
       "LASTINSPECTION  LASTSANITARYSURVEY\n",
       "2-Aug-23        8-Sep-22              7\n",
       "1-Dec-23        24-Aug-21             6\n",
       "20-May-92       20-May-92             6\n",
       "21-Dec-23       26-Aug-21             4\n",
       "28-Apr-22       28-Jul-23             4\n",
       "24-Jan-89       24-Jan-89             4\n",
       "4-Aug-23        8-Sep-22              4\n",
       "8-May-17        2-Aug-23              4\n",
       "20-Oct-15       19-Feb-24             3\n",
       "29-Aug-14       6-Feb-24              3\n",
       "dtype: int64"
      ]
     },
     "execution_count": 72,
     "metadata": {},
     "output_type": "execute_result"
    }
   ],
   "source": [
    "water_system_dict[\"Basic_Facility_Report_2023\"][[\"LASTINSPECTION\",\"LASTSANITARYSURVEY\"]].value_counts().head(10)"
   ]
  },
  {
   "cell_type": "markdown",
   "metadata": {},
   "source": [
    "### The last inspection dates seem to reside mostly in 2023 but there are still dates that frequently go back to 2012-2014 which is not recent at all, especially for an inspection. I would love to see more of "
   ]
  },
  {
   "cell_type": "markdown",
   "metadata": {},
   "source": [
    "### The same idea follow suit with the last inspection date for last survey date"
   ]
  },
  {
   "cell_type": "code",
   "execution_count": 73,
   "metadata": {},
   "outputs": [
    {
     "name": "stdout",
     "output_type": "stream",
     "text": [
      "file has been saved\n"
     ]
    }
   ],
   "source": [
    "store_file(\"Basic_Facility_Report_2023\",1)"
   ]
  },
  {
   "cell_type": "markdown",
   "metadata": {},
   "source": [
    "## Plant Treatment Cleaning"
   ]
  },
  {
   "cell_type": "code",
   "execution_count": 74,
   "metadata": {},
   "outputs": [
    {
     "data": {
      "text/plain": [
       "PWSID                      0\n",
       "SYSTEMNAME                 0\n",
       "PLANTNUMBER                0\n",
       "PLANTNAME               2102\n",
       "OBJECTIVEID                0\n",
       "PROCESSID               1751\n",
       "PROCESSOBJECTIVEDESC       0\n",
       "dtype: int64"
      ]
     },
     "execution_count": 74,
     "metadata": {},
     "output_type": "execute_result"
    }
   ],
   "source": [
    "water_system_dict[\"Plant_Treatment_Report_2023\"].isnull().sum()"
   ]
  },
  {
   "cell_type": "code",
   "execution_count": 87,
   "metadata": {},
   "outputs": [
    {
     "data": {
      "text/html": [
       "<div>\n",
       "<style scoped>\n",
       "    .dataframe tbody tr th:only-of-type {\n",
       "        vertical-align: middle;\n",
       "    }\n",
       "\n",
       "    .dataframe tbody tr th {\n",
       "        vertical-align: top;\n",
       "    }\n",
       "\n",
       "    .dataframe thead th {\n",
       "        text-align: right;\n",
       "    }\n",
       "</style>\n",
       "<table border=\"1\" class=\"dataframe\">\n",
       "  <thead>\n",
       "    <tr style=\"text-align: right;\">\n",
       "      <th></th>\n",
       "    </tr>\n",
       "  </thead>\n",
       "  <tbody>\n",
       "    <tr>\n",
       "      <th>0</th>\n",
       "    </tr>\n",
       "    <tr>\n",
       "      <th>1</th>\n",
       "    </tr>\n",
       "    <tr>\n",
       "      <th>2</th>\n",
       "    </tr>\n",
       "    <tr>\n",
       "      <th>3</th>\n",
       "    </tr>\n",
       "    <tr>\n",
       "      <th>4</th>\n",
       "    </tr>\n",
       "    <tr>\n",
       "      <th>...</th>\n",
       "    </tr>\n",
       "    <tr>\n",
       "      <th>24945</th>\n",
       "    </tr>\n",
       "    <tr>\n",
       "      <th>24946</th>\n",
       "    </tr>\n",
       "    <tr>\n",
       "      <th>24947</th>\n",
       "    </tr>\n",
       "    <tr>\n",
       "      <th>24948</th>\n",
       "    </tr>\n",
       "    <tr>\n",
       "      <th>24949</th>\n",
       "    </tr>\n",
       "  </tbody>\n",
       "</table>\n",
       "<p>24950 rows × 0 columns</p>\n",
       "</div>"
      ],
      "text/plain": [
       "Empty DataFrame\n",
       "Columns: []\n",
       "Index: [0, 1, 2, 3, 4, 5, 6, 7, 8, 9, 10, 11, 12, 13, 14, 15, 16, 17, 18, 19, 20, 21, 22, 23, 24, 25, 26, 27, 28, 29, 30, 31, 32, 33, 34, 35, 36, 37, 38, 39, 40, 41, 42, 43, 44, 45, 46, 47, 48, 49, 50, 51, 52, 53, 54, 55, 56, 57, 58, 59, 60, 61, 62, 63, 64, 65, 66, 67, 68, 69, 70, 71, 72, 73, 74, 75, 76, 77, 78, 79, 80, 81, 82, 83, 84, 85, 86, 87, 88, 89, 90, 91, 92, 93, 94, 95, 96, 97, 98, 99, ...]\n",
       "\n",
       "[24950 rows x 0 columns]"
      ]
     },
     "execution_count": 87,
     "metadata": {},
     "output_type": "execute_result"
    }
   ],
   "source": [
    "missing_column_display(\"Plant_Treatment_Report_2023\")"
   ]
  },
  {
   "cell_type": "code",
   "execution_count": 76,
   "metadata": {},
   "outputs": [
    {
     "data": {
      "text/plain": [
       "PLANT #1         323\n",
       "SAME             226\n",
       "PLANT 1          225\n",
       "WELL #1          123\n",
       "WATER PLANT      105\n",
       "LAKELAND          87\n",
       "WTP               78\n",
       "PLANT #2          64\n",
       "WINTER HAVEN      64\n",
       "SAME AS ABOVE     62\n",
       "Name: PLANTNAME, dtype: int64"
      ]
     },
     "execution_count": 76,
     "metadata": {},
     "output_type": "execute_result"
    }
   ],
   "source": [
    "water_system_dict[\"Plant_Treatment_Report_2023\"][\"PLANTNAME\"].value_counts().head(10)"
   ]
  },
  {
   "cell_type": "markdown",
   "metadata": {},
   "source": [
    "### If the name of the plant is null, then it can be labeled as unknown"
   ]
  },
  {
   "cell_type": "code",
   "execution_count": 77,
   "metadata": {},
   "outputs": [],
   "source": [
    "water_system_dict[\"Plant_Treatment_Report_2023\"][\"PLANTNAME\"].fillna(\"Unknown\",inplace=True)"
   ]
  },
  {
   "cell_type": "code",
   "execution_count": 78,
   "metadata": {},
   "outputs": [],
   "source": [
    "water_system_dict[\"Plant_Treatment_Report_2023\"][\"PROCESSID\"].fillna(999,inplace=True)"
   ]
  },
  {
   "cell_type": "markdown",
   "metadata": {},
   "source": [
    "### Keeping the Processid as a numeric data type but label the null values as 999 so that you can filter them easily during analysis"
   ]
  },
  {
   "cell_type": "code",
   "execution_count": 79,
   "metadata": {},
   "outputs": [
    {
     "name": "stdout",
     "output_type": "stream",
     "text": [
      "file has been saved\n"
     ]
    }
   ],
   "source": [
    "store_file(\"Plant_Treatment_Report_2023\",1)"
   ]
  }
 ],
 "metadata": {
  "kernelspec": {
   "display_name": "data_science",
   "language": "python",
   "name": "python3"
  },
  "language_info": {
   "codemirror_mode": {
    "name": "ipython",
    "version": 3
   },
   "file_extension": ".py",
   "mimetype": "text/x-python",
   "name": "python",
   "nbconvert_exporter": "python",
   "pygments_lexer": "ipython3",
   "version": "3.9.12"
  }
 },
 "nbformat": 4,
 "nbformat_minor": 2
}
