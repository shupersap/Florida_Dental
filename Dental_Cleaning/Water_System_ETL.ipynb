{
 "cells": [
  {
   "cell_type": "markdown",
   "metadata": {},
   "source": [
    "## Import Libraries"
   ]
  },
  {
   "cell_type": "code",
   "execution_count": 9,
   "metadata": {},
   "outputs": [
    {
     "name": "stdout",
     "output_type": "stream",
     "text": [
      "The cudf.pandas extension is already loaded. To reload it, use:\n",
      "  %reload_ext cudf.pandas\n"
     ]
    }
   ],
   "source": [
    "#%load_ext cudf.pandas"
   ]
  },
  {
   "cell_type": "code",
   "execution_count": 10,
   "metadata": {},
   "outputs": [],
   "source": [
    "#import libraries\n",
    "import pandas as pd\n",
    "import os"
   ]
  },
  {
   "cell_type": "markdown",
   "metadata": {},
   "source": [
    "## Created Functions"
   ]
  },
  {
   "cell_type": "code",
   "execution_count": 11,
   "metadata": {},
   "outputs": [],
   "source": [
    "#functions used later\n",
    "\n",
    "#Store cleaned or semi construscted dataframes to a csv\n",
    "def store_file(file_name,version): #parameters to input \n",
    "    water_system_dict[file_name].to_csv(f\"../Clean_Data/{file_name}_V{version}.csv\")\n",
    "    return print(\"file has been saved\")\n",
    "\n",
    "#Display missing column and their details, where you just need to input the file name for results\n",
    "def missing_column_display(check_file):\n",
    "    columns_with_missing = water_system_dict[check_file].columns[water_system_dict[check_file].isnull().sum() > 1] # find all data points with more than 1 missing value\n",
    "    display_missing_columns=water_system_dict[check_file][columns_with_missing] #variable to show only null columns\n",
    "    return display_missing_columns\n",
    "\n",
    "#Correct column size\n",
    "def reduce_mem_usage(df):\n",
    "    \"\"\" iterate through all the columns of a dataframe and modify the data type\n",
    "        to reduce memory usage.        \n",
    "    \"\"\"\n",
    "    start_mem = df.memory_usage().sum() / 1024**2\n",
    "    print('Memory usage of dataframe is {:.2f} MB'.format(start_mem))\n",
    "    \n",
    "    for col in df.columns:\n",
    "        col_type = df[col].dtype\n",
    "        \n",
    "        if col_type != object:\n",
    "            c_min = df[col].min()\n",
    "            c_max = df[col].max()\n",
    "            if str(col_type)[:3] == 'int':\n",
    "                if c_min > np.iinfo(np.int8).min and c_max < np.iinfo(np.int8).max:\n",
    "                    df[col] = df[col].astype(np.int8)\n",
    "                elif c_min > np.iinfo(np.int16).min and c_max < np.iinfo(np.int16).max:\n",
    "                    df[col] = df[col].astype(np.int16)\n",
    "                elif c_min > np.iinfo(np.int32).min and c_max < np.iinfo(np.int32).max:\n",
    "                    df[col] = df[col].astype(np.int32)\n",
    "                elif c_min > np.iinfo(np.int64).min and c_max < np.iinfo(np.int64).max:\n",
    "                    df[col] = df[col].astype(np.int64)  \n",
    "            else:\n",
    "                if c_min > np.finfo(np.float16).min and c_max < np.finfo(np.float16).max:\n",
    "                    df[col] = df[col].astype(np.float16)\n",
    "                elif c_min > np.finfo(np.float32).min and c_max < np.finfo(np.float32).max:\n",
    "                    df[col] = df[col].astype(np.float32)\n",
    "                else:\n",
    "                    df[col] = df[col].astype(np.float64)\n",
    "        else:\n",
    "            df[col] = df[col].astype('category')\n",
    "\n",
    "    end_mem = df.memory_usage().sum() / 1024**2\n",
    "    print('Memory usage after optimization is: {:.2f} MB'.format(end_mem))\n",
    "    print('Decreased by {:.1f}%'.format(100 * (start_mem - end_mem) / start_mem))\n",
    "    \n",
    "    return df\n",
    "\n",
    "\n",
    "def import_data(file):\n",
    "    \"\"\"create a dataframe and optimize its memory usage\"\"\"\n",
    "    df = pd.read_csv(file, parse_dates=True, keep_date_col=True)\n",
    "    df = reduce_mem_usage(df)\n",
    "    return df\n"
   ]
  },
  {
   "cell_type": "markdown",
   "metadata": {},
   "source": [
    "## Extract Data"
   ]
  },
  {
   "cell_type": "code",
   "execution_count": 12,
   "metadata": {},
   "outputs": [],
   "source": [
    "#obtain path to folder related to water system data\n",
    "path = \"../Unclean_Data\"\n",
    "dir_list = os.listdir(path) # collect all file names within folder"
   ]
  },
  {
   "cell_type": "code",
   "execution_count": 13,
   "metadata": {},
   "outputs": [],
   "source": [
    "#initialize dictionary to hold all files related water system data\n",
    "water_system_dict={}\n",
    "for file in dir_list:\n",
    "     if file.endswith(\".csv\"): # remove csv extension for naming purposes\n",
    "          file_name=file.replace(\".csv\",\"\")\n",
    "     water_system_dict[file_name]= pd.read_csv(f\"../Unclean_Data/{file}\", encoding='ISO-8859-1') #hold each file in the dictionary"
   ]
  },
  {
   "cell_type": "code",
   "execution_count": 14,
   "metadata": {},
   "outputs": [
    {
     "name": "stdout",
     "output_type": "stream",
     "text": [
      "null count for Basic_Facility_Report_2023 is: 42908\n",
      "null count for Chemical_Report_2023 is: 705830\n",
      "null count for Flow_Data_Report_2023 is: 5476\n",
      "null count for Microbiological_Report_2023 is: 375222\n",
      "null count for Plant_Treatment_Report_2023 is: 3853\n"
     ]
    }
   ],
   "source": [
    "#check for null values in the dataset\n",
    "for null_check in water_system_dict:\n",
    "    print(\"null count for\" , null_check, \"is:\", water_system_dict[null_check].isnull().sum().sum())"
   ]
  },
  {
   "cell_type": "markdown",
   "metadata": {},
   "source": [
    "### Each file looks like it has numerous null values that will need to be individually analyzed to determine how to handle them, whether that be dropping columns, rows, or filling in"
   ]
  },
  {
   "cell_type": "markdown",
   "metadata": {},
   "source": [
    "## Microbiological Cleaning"
   ]
  },
  {
   "cell_type": "code",
   "execution_count": 15,
   "metadata": {},
   "outputs": [
    {
     "data": {
      "text/plain": [
       "PWSID                   0\n",
       "OFFICE                  0\n",
       "SYSTEMNAME              0\n",
       "SYSTEMTYPE              0\n",
       "SYSTEMSTATUS            0\n",
       "LABID                   0\n",
       "SAMPLETYPE              0\n",
       "RESULTS             87044\n",
       "COLIFORMPRESENT     87207\n",
       "SAMPLENUMBER        83626\n",
       "LINKTO              86078\n",
       "SAMPLESREQUIRED         0\n",
       "SAMPLESTAKEN            0\n",
       "SAMPLEDATE              0\n",
       "METHOD                  0\n",
       "CHLORINERESIDUAL    31267\n",
       "dtype: int64"
      ]
     },
     "execution_count": 15,
     "metadata": {},
     "output_type": "execute_result"
    }
   ],
   "source": [
    "water_system_dict[\"Microbiological_Report_2023\"].isnull().sum()"
   ]
  },
  {
   "cell_type": "code",
   "execution_count": 16,
   "metadata": {},
   "outputs": [
    {
     "data": {
      "text/plain": [
       "(90644, 16)"
      ]
     },
     "execution_count": 16,
     "metadata": {},
     "output_type": "execute_result"
    }
   ],
   "source": [
    "water_system_dict[\"Microbiological_Report_2023\"].shape"
   ]
  },
  {
   "cell_type": "markdown",
   "metadata": {},
   "source": [
    "#### The columns results, coliformpresent,samplenumber,and linkto seem to be mostly null indicating that it might be tolerable to drop them completely but the documentation should be checked to see if it can be filled instead"
   ]
  },
  {
   "cell_type": "code",
   "execution_count": 17,
   "metadata": {},
   "outputs": [
    {
     "data": {
      "text/html": [
       "<div>\n",
       "<style scoped>\n",
       "    .dataframe tbody tr th:only-of-type {\n",
       "        vertical-align: middle;\n",
       "    }\n",
       "\n",
       "    .dataframe tbody tr th {\n",
       "        vertical-align: top;\n",
       "    }\n",
       "\n",
       "    .dataframe thead th {\n",
       "        text-align: right;\n",
       "    }\n",
       "</style>\n",
       "<table border=\"1\" class=\"dataframe\">\n",
       "  <thead>\n",
       "    <tr style=\"text-align: right;\">\n",
       "      <th></th>\n",
       "      <th>RESULTS</th>\n",
       "      <th>COLIFORMPRESENT</th>\n",
       "      <th>SAMPLENUMBER</th>\n",
       "      <th>LINKTO</th>\n",
       "      <th>CHLORINERESIDUAL</th>\n",
       "    </tr>\n",
       "  </thead>\n",
       "  <tbody>\n",
       "    <tr>\n",
       "      <th>0</th>\n",
       "      <td>NaN</td>\n",
       "      <td>NaN</td>\n",
       "      <td>NaN</td>\n",
       "      <td>NaN</td>\n",
       "      <td>NaN</td>\n",
       "    </tr>\n",
       "    <tr>\n",
       "      <th>1</th>\n",
       "      <td>NaN</td>\n",
       "      <td>NaN</td>\n",
       "      <td>NaN</td>\n",
       "      <td>NaN</td>\n",
       "      <td>NaN</td>\n",
       "    </tr>\n",
       "    <tr>\n",
       "      <th>2</th>\n",
       "      <td>NaN</td>\n",
       "      <td>NaN</td>\n",
       "      <td>NaN</td>\n",
       "      <td>NaN</td>\n",
       "      <td>0.99</td>\n",
       "    </tr>\n",
       "    <tr>\n",
       "      <th>3</th>\n",
       "      <td>NaN</td>\n",
       "      <td>NaN</td>\n",
       "      <td>NaN</td>\n",
       "      <td>NaN</td>\n",
       "      <td>NaN</td>\n",
       "    </tr>\n",
       "    <tr>\n",
       "      <th>4</th>\n",
       "      <td>NaN</td>\n",
       "      <td>NaN</td>\n",
       "      <td>NaN</td>\n",
       "      <td>NaN</td>\n",
       "      <td>NaN</td>\n",
       "    </tr>\n",
       "    <tr>\n",
       "      <th>...</th>\n",
       "      <td>...</td>\n",
       "      <td>...</td>\n",
       "      <td>...</td>\n",
       "      <td>...</td>\n",
       "      <td>...</td>\n",
       "    </tr>\n",
       "    <tr>\n",
       "      <th>90639</th>\n",
       "      <td>NaN</td>\n",
       "      <td>NaN</td>\n",
       "      <td>NaN</td>\n",
       "      <td>NaN</td>\n",
       "      <td>NaN</td>\n",
       "    </tr>\n",
       "    <tr>\n",
       "      <th>90640</th>\n",
       "      <td>NaN</td>\n",
       "      <td>NaN</td>\n",
       "      <td>NaN</td>\n",
       "      <td>NaN</td>\n",
       "      <td>NaN</td>\n",
       "    </tr>\n",
       "    <tr>\n",
       "      <th>90641</th>\n",
       "      <td>NaN</td>\n",
       "      <td>NaN</td>\n",
       "      <td>NaN</td>\n",
       "      <td>NaN</td>\n",
       "      <td>NaN</td>\n",
       "    </tr>\n",
       "    <tr>\n",
       "      <th>90642</th>\n",
       "      <td>NaN</td>\n",
       "      <td>NaN</td>\n",
       "      <td>NaN</td>\n",
       "      <td>NaN</td>\n",
       "      <td>NaN</td>\n",
       "    </tr>\n",
       "    <tr>\n",
       "      <th>90643</th>\n",
       "      <td>NaN</td>\n",
       "      <td>NaN</td>\n",
       "      <td>NaN</td>\n",
       "      <td>NaN</td>\n",
       "      <td>NaN</td>\n",
       "    </tr>\n",
       "  </tbody>\n",
       "</table>\n",
       "<p>90644 rows × 5 columns</p>\n",
       "</div>"
      ],
      "text/plain": [
       "       RESULTS COLIFORMPRESENT SAMPLENUMBER LINKTO  CHLORINERESIDUAL\n",
       "0          NaN             NaN          NaN    NaN               NaN\n",
       "1          NaN             NaN          NaN    NaN               NaN\n",
       "2          NaN             NaN          NaN    NaN              0.99\n",
       "3          NaN             NaN          NaN    NaN               NaN\n",
       "4          NaN             NaN          NaN    NaN               NaN\n",
       "...        ...             ...          ...    ...               ...\n",
       "90639      NaN             NaN          NaN    NaN               NaN\n",
       "90640      NaN             NaN          NaN    NaN               NaN\n",
       "90641      NaN             NaN          NaN    NaN               NaN\n",
       "90642      NaN             NaN          NaN    NaN               NaN\n",
       "90643      NaN             NaN          NaN    NaN               NaN\n",
       "\n",
       "[90644 rows x 5 columns]"
      ]
     },
     "execution_count": 17,
     "metadata": {},
     "output_type": "execute_result"
    }
   ],
   "source": [
    "missing_column_display(\"Microbiological_Report_2023\")"
   ]
  },
  {
   "cell_type": "code",
   "execution_count": 18,
   "metadata": {},
   "outputs": [
    {
     "data": {
      "text/plain": [
       "RESULTS\n",
       "NaN      87044\n",
       "1.0       2475\n",
       "0.0       1087\n",
       "999.0       38\n",
       "Name: count, dtype: int64"
      ]
     },
     "execution_count": 18,
     "metadata": {},
     "output_type": "execute_result"
    }
   ],
   "source": [
    "water_system_dict[\"Microbiological_Report_2023\"][\"RESULTS\"].value_counts()"
   ]
  },
  {
   "cell_type": "markdown",
   "metadata": {},
   "source": [
    "### The output values are hard to understand as they are 0,1, and 999 which I originally presumed to be a binary feature but seems like it isn't; this column relates to the results of chemical analysis,stated by the pws_data_dictionary, the column may be relevant, but I don't want to utilize something that might not be properly functioning"
   ]
  },
  {
   "cell_type": "code",
   "execution_count": 19,
   "metadata": {},
   "outputs": [
    {
     "data": {
      "text/plain": [
       "COLIFORMPRESENT\n",
       "0    2463\n",
       "N     869\n",
       "E     104\n",
       "F       1\n",
       "Name: count, dtype: int64"
      ]
     },
     "execution_count": 19,
     "metadata": {},
     "output_type": "execute_result"
    }
   ],
   "source": [
    "water_system_dict[\"Microbiological_Report_2023\"][\"COLIFORMPRESENT\"].value_counts()"
   ]
  },
  {
   "cell_type": "markdown",
   "metadata": {},
   "source": [
    "### Based on the pws_data_dictionary we can assume that nan values can be replaced by the string \"N\" which implies that no analysis was performed"
   ]
  },
  {
   "cell_type": "code",
   "execution_count": 20,
   "metadata": {},
   "outputs": [],
   "source": [
    "water_system_dict[\"Microbiological_Report_2023\"][\"COLIFORMPRESENT\"].fillna(\"N\",inplace=True)"
   ]
  },
  {
   "cell_type": "markdown",
   "metadata": {},
   "source": [
    "### The samplenumber seems to be a secondary key, that isn't relevant to the overall structure of our data, and can be dropped"
   ]
  },
  {
   "cell_type": "code",
   "execution_count": 21,
   "metadata": {},
   "outputs": [
    {
     "data": {
      "text/plain": [
       "LINKTO\n",
       "001       48\n",
       "002       42\n",
       "007       29\n",
       "004       19\n",
       "006       18\n",
       "231028    16\n",
       "A1        16\n",
       "008       15\n",
       "853-01    15\n",
       "9002      15\n",
       "Name: count, dtype: int64"
      ]
     },
     "execution_count": 21,
     "metadata": {},
     "output_type": "execute_result"
    }
   ],
   "source": [
    "water_system_dict[\"Microbiological_Report_2023\"][\"LINKTO\"].value_counts().head(10)"
   ]
  },
  {
   "cell_type": "markdown",
   "metadata": {},
   "source": [
    "### The linkto column most likely has relation to an outside dataset as the pws_data_dictionary states it associates follow up samples to positive samples, so it might be a foreign key or some sort of class-labeling; will need to do more research on this one."
   ]
  },
  {
   "cell_type": "code",
   "execution_count": 22,
   "metadata": {},
   "outputs": [
    {
     "data": {
      "text/plain": [
       "CHLORINERESIDUAL\n",
       "NaN    31267\n",
       "0.0    12743\n",
       "1.0     3651\n",
       "0.8     2300\n",
       "1.2     2096\n",
       "0.6     1455\n",
       "0.7     1408\n",
       "2.0     1333\n",
       "1.1     1328\n",
       "1.5     1300\n",
       "Name: count, dtype: int64"
      ]
     },
     "execution_count": 22,
     "metadata": {},
     "output_type": "execute_result"
    }
   ],
   "source": [
    "water_system_dict[\"Microbiological_Report_2023\"][\"CHLORINERESIDUAL\"].value_counts().head(10)"
   ]
  },
  {
   "cell_type": "markdown",
   "metadata": {},
   "source": [
    "### The residual measure's results can be utilized for analysis but while it has a large amount of null values, it can be interpreted that the null values can be replaced by something like \"N/A\", but wouldn't respect the dtype of int64 so it might be safer to assign a numeric value to it so the column can function properly."
   ]
  },
  {
   "cell_type": "code",
   "execution_count": 23,
   "metadata": {},
   "outputs": [
    {
     "name": "stderr",
     "output_type": "stream",
     "text": [
      "/home/haslett/miniforge3/envs/rapids-24.10/lib/python3.12/site-packages/cudf/core/frame.py:731: FutureWarning: Series.fillna with 'method' is deprecated and will raise in a future version. Use obj.ffill() or obj.bfill() instead.\n",
      "  warnings.warn(\n"
     ]
    },
    {
     "data": {
      "text/plain": [
       "np.int64(31267)"
      ]
     },
     "execution_count": 23,
     "metadata": {},
     "output_type": "execute_result"
    }
   ],
   "source": [
    "#We can fill all the values after the values with the previous values as they mostly like hold some relation with respect to how the pwsids are sorted\n",
    "water_system_dict[\"Microbiological_Report_2023\"][\"CHLORINERESIDUAL\"].fillna(method=\"ffill\",inplace=True)\n",
    "water_system_dict[\"Microbiological_Report_2023\"][\"CHLORINERESIDUAL\"].fillna(0,inplace=True) #The initial null values will not be filled, so it would be safe to replace it with 0\n",
    "water_system_dict[\"Microbiological_Report_2023\"][\"CHLORINERESIDUAL\"].isnull().sum() #Verify there are no more null values"
   ]
  },
  {
   "cell_type": "code",
   "execution_count": 24,
   "metadata": {},
   "outputs": [
    {
     "name": "stdout",
     "output_type": "stream",
     "text": [
      "file has been saved\n"
     ]
    }
   ],
   "source": [
    "store_file(\"Microbiological_Report_2023\",1)"
   ]
  },
  {
   "cell_type": "code",
   "execution_count": 25,
   "metadata": {},
   "outputs": [],
   "source": [
    "#find all missing columns that are still mostly null\n",
    "columns_with_missing = water_system_dict[\"Microbiological_Report_2023\"].columns[\n",
    "    water_system_dict[\"Microbiological_Report_2023\"].isnull().sum() > 1]\n",
    "\n",
    "#drop those columns that are still prominantly null\n",
    "water_system_dict[\"Microbiological_Report_2023\"].drop(columns=columns_with_missing,inplace=True)"
   ]
  },
  {
   "cell_type": "code",
   "execution_count": 26,
   "metadata": {},
   "outputs": [
    {
     "data": {
      "text/html": [
       "<div>\n",
       "<style scoped>\n",
       "    .dataframe tbody tr th:only-of-type {\n",
       "        vertical-align: middle;\n",
       "    }\n",
       "\n",
       "    .dataframe tbody tr th {\n",
       "        vertical-align: top;\n",
       "    }\n",
       "\n",
       "    .dataframe thead th {\n",
       "        text-align: right;\n",
       "    }\n",
       "</style>\n",
       "<table border=\"1\" class=\"dataframe\">\n",
       "  <thead>\n",
       "    <tr style=\"text-align: right;\">\n",
       "      <th></th>\n",
       "      <th>PWSID</th>\n",
       "      <th>OFFICE</th>\n",
       "      <th>SYSTEMNAME</th>\n",
       "      <th>SYSTEMTYPE</th>\n",
       "      <th>SYSTEMSTATUS</th>\n",
       "      <th>LABID</th>\n",
       "      <th>SAMPLETYPE</th>\n",
       "      <th>COLIFORMPRESENT</th>\n",
       "      <th>SAMPLESREQUIRED</th>\n",
       "      <th>SAMPLESTAKEN</th>\n",
       "      <th>SAMPLEDATE</th>\n",
       "      <th>METHOD</th>\n",
       "    </tr>\n",
       "  </thead>\n",
       "  <tbody>\n",
       "    <tr>\n",
       "      <th>0</th>\n",
       "      <td>1030050</td>\n",
       "      <td>NWD</td>\n",
       "      <td>BAY COUNTY WATER SYSTEM</td>\n",
       "      <td>COMMUNITY</td>\n",
       "      <td>ACTIVE</td>\n",
       "      <td>E41292</td>\n",
       "      <td>D</td>\n",
       "      <td>N</td>\n",
       "      <td>30</td>\n",
       "      <td>9</td>\n",
       "      <td>12-Jan-23</td>\n",
       "      <td>CLL</td>\n",
       "    </tr>\n",
       "    <tr>\n",
       "      <th>1</th>\n",
       "      <td>1030050</td>\n",
       "      <td>NWD</td>\n",
       "      <td>BAY COUNTY WATER SYSTEM</td>\n",
       "      <td>COMMUNITY</td>\n",
       "      <td>ACTIVE</td>\n",
       "      <td>E41292</td>\n",
       "      <td>D</td>\n",
       "      <td>N</td>\n",
       "      <td>30</td>\n",
       "      <td>9</td>\n",
       "      <td>19-Jan-23</td>\n",
       "      <td>CLL</td>\n",
       "    </tr>\n",
       "    <tr>\n",
       "      <th>2</th>\n",
       "      <td>1030050</td>\n",
       "      <td>NWD</td>\n",
       "      <td>BAY COUNTY WATER SYSTEM</td>\n",
       "      <td>COMMUNITY</td>\n",
       "      <td>ACTIVE</td>\n",
       "      <td>E41292</td>\n",
       "      <td>D</td>\n",
       "      <td>N</td>\n",
       "      <td>30</td>\n",
       "      <td>9</td>\n",
       "      <td>24-Jan-23</td>\n",
       "      <td>CLL</td>\n",
       "    </tr>\n",
       "    <tr>\n",
       "      <th>3</th>\n",
       "      <td>1030050</td>\n",
       "      <td>NWD</td>\n",
       "      <td>BAY COUNTY WATER SYSTEM</td>\n",
       "      <td>COMMUNITY</td>\n",
       "      <td>ACTIVE</td>\n",
       "      <td>E41292</td>\n",
       "      <td>D</td>\n",
       "      <td>N</td>\n",
       "      <td>30</td>\n",
       "      <td>9</td>\n",
       "      <td>2-Feb-23</td>\n",
       "      <td>CLL</td>\n",
       "    </tr>\n",
       "    <tr>\n",
       "      <th>4</th>\n",
       "      <td>1030050</td>\n",
       "      <td>NWD</td>\n",
       "      <td>BAY COUNTY WATER SYSTEM</td>\n",
       "      <td>COMMUNITY</td>\n",
       "      <td>ACTIVE</td>\n",
       "      <td>E41292</td>\n",
       "      <td>D</td>\n",
       "      <td>N</td>\n",
       "      <td>30</td>\n",
       "      <td>9</td>\n",
       "      <td>9-Feb-23</td>\n",
       "      <td>CLL</td>\n",
       "    </tr>\n",
       "    <tr>\n",
       "      <th>...</th>\n",
       "      <td>...</td>\n",
       "      <td>...</td>\n",
       "      <td>...</td>\n",
       "      <td>...</td>\n",
       "      <td>...</td>\n",
       "      <td>...</td>\n",
       "      <td>...</td>\n",
       "      <td>...</td>\n",
       "      <td>...</td>\n",
       "      <td>...</td>\n",
       "      <td>...</td>\n",
       "      <td>...</td>\n",
       "    </tr>\n",
       "    <tr>\n",
       "      <th>90639</th>\n",
       "      <td>6605038</td>\n",
       "      <td>CD</td>\n",
       "      <td>CSU WTP NO. 1</td>\n",
       "      <td>COMMUNITY</td>\n",
       "      <td>ACTIVE</td>\n",
       "      <td>E83141</td>\n",
       "      <td>R</td>\n",
       "      <td>N</td>\n",
       "      <td>20</td>\n",
       "      <td>2</td>\n",
       "      <td>9-Aug-23</td>\n",
       "      <td>MF</td>\n",
       "    </tr>\n",
       "    <tr>\n",
       "      <th>90640</th>\n",
       "      <td>6605038</td>\n",
       "      <td>CD</td>\n",
       "      <td>CSU WTP NO. 1</td>\n",
       "      <td>COMMUNITY</td>\n",
       "      <td>ACTIVE</td>\n",
       "      <td>E83141</td>\n",
       "      <td>R</td>\n",
       "      <td>N</td>\n",
       "      <td>20</td>\n",
       "      <td>2</td>\n",
       "      <td>13-Sep-23</td>\n",
       "      <td>MF</td>\n",
       "    </tr>\n",
       "    <tr>\n",
       "      <th>90641</th>\n",
       "      <td>6605038</td>\n",
       "      <td>CD</td>\n",
       "      <td>CSU WTP NO. 1</td>\n",
       "      <td>COMMUNITY</td>\n",
       "      <td>ACTIVE</td>\n",
       "      <td>E83141</td>\n",
       "      <td>R</td>\n",
       "      <td>N</td>\n",
       "      <td>20</td>\n",
       "      <td>2</td>\n",
       "      <td>1-Oct-23</td>\n",
       "      <td>MF</td>\n",
       "    </tr>\n",
       "    <tr>\n",
       "      <th>90642</th>\n",
       "      <td>6605038</td>\n",
       "      <td>CD</td>\n",
       "      <td>CSU WTP NO. 1</td>\n",
       "      <td>COMMUNITY</td>\n",
       "      <td>ACTIVE</td>\n",
       "      <td>E83141</td>\n",
       "      <td>R</td>\n",
       "      <td>N</td>\n",
       "      <td>20</td>\n",
       "      <td>2</td>\n",
       "      <td>13-Nov-23</td>\n",
       "      <td>MF</td>\n",
       "    </tr>\n",
       "    <tr>\n",
       "      <th>90643</th>\n",
       "      <td>6605038</td>\n",
       "      <td>CD</td>\n",
       "      <td>CSU WTP NO. 1</td>\n",
       "      <td>COMMUNITY</td>\n",
       "      <td>ACTIVE</td>\n",
       "      <td>E83141</td>\n",
       "      <td>R</td>\n",
       "      <td>N</td>\n",
       "      <td>20</td>\n",
       "      <td>2</td>\n",
       "      <td>6-Dec-23</td>\n",
       "      <td>MF</td>\n",
       "    </tr>\n",
       "  </tbody>\n",
       "</table>\n",
       "<p>90644 rows × 12 columns</p>\n",
       "</div>"
      ],
      "text/plain": [
       "         PWSID OFFICE               SYSTEMNAME SYSTEMTYPE SYSTEMSTATUS  \\\n",
       "0      1030050    NWD  BAY COUNTY WATER SYSTEM  COMMUNITY       ACTIVE   \n",
       "1      1030050    NWD  BAY COUNTY WATER SYSTEM  COMMUNITY       ACTIVE   \n",
       "2      1030050    NWD  BAY COUNTY WATER SYSTEM  COMMUNITY       ACTIVE   \n",
       "3      1030050    NWD  BAY COUNTY WATER SYSTEM  COMMUNITY       ACTIVE   \n",
       "4      1030050    NWD  BAY COUNTY WATER SYSTEM  COMMUNITY       ACTIVE   \n",
       "...        ...    ...                      ...        ...          ...   \n",
       "90639  6605038     CD            CSU WTP NO. 1  COMMUNITY       ACTIVE   \n",
       "90640  6605038     CD            CSU WTP NO. 1  COMMUNITY       ACTIVE   \n",
       "90641  6605038     CD            CSU WTP NO. 1  COMMUNITY       ACTIVE   \n",
       "90642  6605038     CD            CSU WTP NO. 1  COMMUNITY       ACTIVE   \n",
       "90643  6605038     CD            CSU WTP NO. 1  COMMUNITY       ACTIVE   \n",
       "\n",
       "        LABID SAMPLETYPE COLIFORMPRESENT  SAMPLESREQUIRED  SAMPLESTAKEN  \\\n",
       "0      E41292          D               N               30             9   \n",
       "1      E41292          D               N               30             9   \n",
       "2      E41292          D               N               30             9   \n",
       "3      E41292          D               N               30             9   \n",
       "4      E41292          D               N               30             9   \n",
       "...       ...        ...             ...              ...           ...   \n",
       "90639  E83141          R               N               20             2   \n",
       "90640  E83141          R               N               20             2   \n",
       "90641  E83141          R               N               20             2   \n",
       "90642  E83141          R               N               20             2   \n",
       "90643  E83141          R               N               20             2   \n",
       "\n",
       "      SAMPLEDATE METHOD  \n",
       "0      12-Jan-23    CLL  \n",
       "1      19-Jan-23    CLL  \n",
       "2      24-Jan-23    CLL  \n",
       "3       2-Feb-23    CLL  \n",
       "4       9-Feb-23    CLL  \n",
       "...          ...    ...  \n",
       "90639   9-Aug-23     MF  \n",
       "90640  13-Sep-23     MF  \n",
       "90641   1-Oct-23     MF  \n",
       "90642  13-Nov-23     MF  \n",
       "90643   6-Dec-23     MF  \n",
       "\n",
       "[90644 rows x 12 columns]"
      ]
     },
     "execution_count": 26,
     "metadata": {},
     "output_type": "execute_result"
    }
   ],
   "source": [
    "water_system_dict[\"Microbiological_Report_2023\"]"
   ]
  },
  {
   "cell_type": "markdown",
   "metadata": {},
   "source": [
    "## Chemical Cleaning"
   ]
  },
  {
   "cell_type": "code",
   "execution_count": 27,
   "metadata": {},
   "outputs": [
    {
     "data": {
      "text/plain": [
       "PWSID                    0\n",
       "OFFICE                   0\n",
       "MAILINGNAME              0\n",
       "SYSTEMTYPE               0\n",
       "POPULATION               0\n",
       "SYSTEMSTATUS             0\n",
       "SUBPARTH                 0\n",
       "DESIGNCAP                0\n",
       "CONSECIND                0\n",
       "INSPINIT              3077\n",
       "CONTAMGROUP              0\n",
       "CONTAMCODE               0\n",
       "CONTAMDESC               0\n",
       "SAMPLETYPE               0\n",
       "RESULTS                  0\n",
       "UOM                   3641\n",
       "MCL                  15080\n",
       "SAMPLEDATE               0\n",
       "SAMPTIMESTAMP            0\n",
       "USERNAME                 0\n",
       "LOCATIONCODE             0\n",
       "ENTRYPOINT           28489\n",
       "LAB                      0\n",
       "METHOD                   0\n",
       "ANALYSISDATE          6497\n",
       "MDL                  84941\n",
       "RDL                  83311\n",
       "SAMPLENUMBER        146659\n",
       "CHLORINERESIDUAL    145677\n",
       "MAXQTR              154779\n",
       "REMARKS              33679\n",
       "dtype: int64"
      ]
     },
     "execution_count": 27,
     "metadata": {},
     "output_type": "execute_result"
    }
   ],
   "source": [
    "water_system_dict[\"Chemical_Report_2023\"].isnull().sum()"
   ]
  },
  {
   "cell_type": "code",
   "execution_count": 28,
   "metadata": {},
   "outputs": [
    {
     "data": {
      "text/html": [
       "<div>\n",
       "<style scoped>\n",
       "    .dataframe tbody tr th:only-of-type {\n",
       "        vertical-align: middle;\n",
       "    }\n",
       "\n",
       "    .dataframe tbody tr th {\n",
       "        vertical-align: top;\n",
       "    }\n",
       "\n",
       "    .dataframe thead th {\n",
       "        text-align: right;\n",
       "    }\n",
       "</style>\n",
       "<table border=\"1\" class=\"dataframe\">\n",
       "  <thead>\n",
       "    <tr style=\"text-align: right;\">\n",
       "      <th></th>\n",
       "      <th>INSPINIT</th>\n",
       "      <th>UOM</th>\n",
       "      <th>MCL</th>\n",
       "      <th>ENTRYPOINT</th>\n",
       "      <th>ANALYSISDATE</th>\n",
       "      <th>MDL</th>\n",
       "      <th>RDL</th>\n",
       "      <th>SAMPLENUMBER</th>\n",
       "      <th>CHLORINERESIDUAL</th>\n",
       "      <th>MAXQTR</th>\n",
       "      <th>REMARKS</th>\n",
       "    </tr>\n",
       "  </thead>\n",
       "  <tbody>\n",
       "    <tr>\n",
       "      <th>0</th>\n",
       "      <td>LJ</td>\n",
       "      <td>UG/L</td>\n",
       "      <td>60.4999</td>\n",
       "      <td>NaN</td>\n",
       "      <td>8-Oct-23</td>\n",
       "      <td>NaN</td>\n",
       "      <td>NaN</td>\n",
       "      <td>NaN</td>\n",
       "      <td>NaN</td>\n",
       "      <td>3.0</td>\n",
       "      <td>W17 - 17TH @ COVE, NW SIDE OF INTERSECT</td>\n",
       "    </tr>\n",
       "    <tr>\n",
       "      <th>1</th>\n",
       "      <td>LJ</td>\n",
       "      <td>UG/L</td>\n",
       "      <td>60.4999</td>\n",
       "      <td>NaN</td>\n",
       "      <td>9-Nov-23</td>\n",
       "      <td>NaN</td>\n",
       "      <td>NaN</td>\n",
       "      <td>NaN</td>\n",
       "      <td>NaN</td>\n",
       "      <td>3.0</td>\n",
       "      <td>W17 - 17TH @ COVE, NW SIDE OF INTERSECT</td>\n",
       "    </tr>\n",
       "    <tr>\n",
       "      <th>2</th>\n",
       "      <td>LJ</td>\n",
       "      <td>UG/L</td>\n",
       "      <td>60.4999</td>\n",
       "      <td>NaN</td>\n",
       "      <td>9-Mar-23</td>\n",
       "      <td>0.9</td>\n",
       "      <td>NaN</td>\n",
       "      <td>NaN</td>\n",
       "      <td>NaN</td>\n",
       "      <td>3.0</td>\n",
       "      <td>W17</td>\n",
       "    </tr>\n",
       "    <tr>\n",
       "      <th>3</th>\n",
       "      <td>LJ</td>\n",
       "      <td>UG/L</td>\n",
       "      <td>60.4999</td>\n",
       "      <td>NaN</td>\n",
       "      <td>14-Apr-23</td>\n",
       "      <td>NaN</td>\n",
       "      <td>NaN</td>\n",
       "      <td>NaN</td>\n",
       "      <td>NaN</td>\n",
       "      <td>3.0</td>\n",
       "      <td>W17 - 17TH @ COVE, NW SIDE OF INTERSECT</td>\n",
       "    </tr>\n",
       "    <tr>\n",
       "      <th>4</th>\n",
       "      <td>LJ</td>\n",
       "      <td>UG/L</td>\n",
       "      <td>60.4999</td>\n",
       "      <td>NaN</td>\n",
       "      <td>8-Oct-23</td>\n",
       "      <td>NaN</td>\n",
       "      <td>NaN</td>\n",
       "      <td>NaN</td>\n",
       "      <td>NaN</td>\n",
       "      <td>3.0</td>\n",
       "      <td>RW21 - 2521 PALO ALTO AVE</td>\n",
       "    </tr>\n",
       "    <tr>\n",
       "      <th>...</th>\n",
       "      <td>...</td>\n",
       "      <td>...</td>\n",
       "      <td>...</td>\n",
       "      <td>...</td>\n",
       "      <td>...</td>\n",
       "      <td>...</td>\n",
       "      <td>...</td>\n",
       "      <td>...</td>\n",
       "      <td>...</td>\n",
       "      <td>...</td>\n",
       "      <td>...</td>\n",
       "    </tr>\n",
       "    <tr>\n",
       "      <th>159836</th>\n",
       "      <td>NaN</td>\n",
       "      <td>UG/L</td>\n",
       "      <td>149.9999</td>\n",
       "      <td>Y</td>\n",
       "      <td>3-Mar-23</td>\n",
       "      <td>NaN</td>\n",
       "      <td>0.5499</td>\n",
       "      <td>NaN</td>\n",
       "      <td>NaN</td>\n",
       "      <td>NaN</td>\n",
       "      <td>POE</td>\n",
       "    </tr>\n",
       "    <tr>\n",
       "      <th>159837</th>\n",
       "      <td>NaN</td>\n",
       "      <td>UG/L</td>\n",
       "      <td>1.4999</td>\n",
       "      <td>Y</td>\n",
       "      <td>3-Mar-23</td>\n",
       "      <td>NaN</td>\n",
       "      <td>0.5499</td>\n",
       "      <td>NaN</td>\n",
       "      <td>NaN</td>\n",
       "      <td>NaN</td>\n",
       "      <td>POE</td>\n",
       "    </tr>\n",
       "    <tr>\n",
       "      <th>159838</th>\n",
       "      <td>NaN</td>\n",
       "      <td>UG/L</td>\n",
       "      <td>1499.9999</td>\n",
       "      <td>Y</td>\n",
       "      <td>3-Mar-23</td>\n",
       "      <td>NaN</td>\n",
       "      <td>0.5499</td>\n",
       "      <td>NaN</td>\n",
       "      <td>NaN</td>\n",
       "      <td>NaN</td>\n",
       "      <td>POE</td>\n",
       "    </tr>\n",
       "    <tr>\n",
       "      <th>159839</th>\n",
       "      <td>NaN</td>\n",
       "      <td>UG/L</td>\n",
       "      <td>749.9999</td>\n",
       "      <td>Y</td>\n",
       "      <td>3-Mar-23</td>\n",
       "      <td>NaN</td>\n",
       "      <td>0.5499</td>\n",
       "      <td>NaN</td>\n",
       "      <td>NaN</td>\n",
       "      <td>NaN</td>\n",
       "      <td>POE</td>\n",
       "    </tr>\n",
       "    <tr>\n",
       "      <th>159840</th>\n",
       "      <td>NaN</td>\n",
       "      <td>UG/L</td>\n",
       "      <td>149.9999</td>\n",
       "      <td>Y</td>\n",
       "      <td>3-Mar-23</td>\n",
       "      <td>NaN</td>\n",
       "      <td>0.5499</td>\n",
       "      <td>NaN</td>\n",
       "      <td>NaN</td>\n",
       "      <td>NaN</td>\n",
       "      <td>POE</td>\n",
       "    </tr>\n",
       "  </tbody>\n",
       "</table>\n",
       "<p>159841 rows × 11 columns</p>\n",
       "</div>"
      ],
      "text/plain": [
       "       INSPINIT   UOM        MCL ENTRYPOINT ANALYSISDATE  MDL     RDL  \\\n",
       "0            LJ  UG/L    60.4999        NaN     8-Oct-23  NaN     NaN   \n",
       "1            LJ  UG/L    60.4999        NaN     9-Nov-23  NaN     NaN   \n",
       "2            LJ  UG/L    60.4999        NaN     9-Mar-23  0.9     NaN   \n",
       "3            LJ  UG/L    60.4999        NaN    14-Apr-23  NaN     NaN   \n",
       "4            LJ  UG/L    60.4999        NaN     8-Oct-23  NaN     NaN   \n",
       "...         ...   ...        ...        ...          ...  ...     ...   \n",
       "159836      NaN  UG/L   149.9999          Y     3-Mar-23  NaN  0.5499   \n",
       "159837      NaN  UG/L     1.4999          Y     3-Mar-23  NaN  0.5499   \n",
       "159838      NaN  UG/L  1499.9999          Y     3-Mar-23  NaN  0.5499   \n",
       "159839      NaN  UG/L   749.9999          Y     3-Mar-23  NaN  0.5499   \n",
       "159840      NaN  UG/L   149.9999          Y     3-Mar-23  NaN  0.5499   \n",
       "\n",
       "       SAMPLENUMBER  CHLORINERESIDUAL  MAXQTR  \\\n",
       "0               NaN               NaN     3.0   \n",
       "1               NaN               NaN     3.0   \n",
       "2               NaN               NaN     3.0   \n",
       "3               NaN               NaN     3.0   \n",
       "4               NaN               NaN     3.0   \n",
       "...             ...               ...     ...   \n",
       "159836          NaN               NaN     NaN   \n",
       "159837          NaN               NaN     NaN   \n",
       "159838          NaN               NaN     NaN   \n",
       "159839          NaN               NaN     NaN   \n",
       "159840          NaN               NaN     NaN   \n",
       "\n",
       "                                        REMARKS  \n",
       "0       W17 - 17TH @ COVE, NW SIDE OF INTERSECT  \n",
       "1       W17 - 17TH @ COVE, NW SIDE OF INTERSECT  \n",
       "2                                           W17  \n",
       "3       W17 - 17TH @ COVE, NW SIDE OF INTERSECT  \n",
       "4                     RW21 - 2521 PALO ALTO AVE  \n",
       "...                                         ...  \n",
       "159836                                      POE  \n",
       "159837                                      POE  \n",
       "159838                                      POE  \n",
       "159839                                      POE  \n",
       "159840                                      POE  \n",
       "\n",
       "[159841 rows x 11 columns]"
      ]
     },
     "execution_count": 28,
     "metadata": {},
     "output_type": "execute_result"
    }
   ],
   "source": [
    "missing_column_display(\"Chemical_Report_2023\")"
   ]
  },
  {
   "cell_type": "code",
   "execution_count": 29,
   "metadata": {},
   "outputs": [
    {
     "data": {
      "text/plain": [
       "(159841, 31)"
      ]
     },
     "execution_count": 29,
     "metadata": {},
     "output_type": "execute_result"
    }
   ],
   "source": [
    "water_system_dict[\"Chemical_Report_2023\"].shape"
   ]
  },
  {
   "cell_type": "code",
   "execution_count": 30,
   "metadata": {},
   "outputs": [],
   "source": [
    "columns_with_missing = water_system_dict[\"Chemical_Report_2023\"].columns[\n",
    "    water_system_dict[\"Chemical_Report_2023\"].isnull().sum() > 1]"
   ]
  },
  {
   "cell_type": "code",
   "execution_count": 31,
   "metadata": {},
   "outputs": [
    {
     "data": {
      "text/html": [
       "<div>\n",
       "<style scoped>\n",
       "    .dataframe tbody tr th:only-of-type {\n",
       "        vertical-align: middle;\n",
       "    }\n",
       "\n",
       "    .dataframe tbody tr th {\n",
       "        vertical-align: top;\n",
       "    }\n",
       "\n",
       "    .dataframe thead th {\n",
       "        text-align: right;\n",
       "    }\n",
       "</style>\n",
       "<table border=\"1\" class=\"dataframe\">\n",
       "  <thead>\n",
       "    <tr style=\"text-align: right;\">\n",
       "      <th></th>\n",
       "      <th>INSPINIT</th>\n",
       "      <th>UOM</th>\n",
       "      <th>MCL</th>\n",
       "      <th>ENTRYPOINT</th>\n",
       "      <th>ANALYSISDATE</th>\n",
       "      <th>MDL</th>\n",
       "      <th>RDL</th>\n",
       "      <th>SAMPLENUMBER</th>\n",
       "      <th>CHLORINERESIDUAL</th>\n",
       "      <th>MAXQTR</th>\n",
       "      <th>REMARKS</th>\n",
       "    </tr>\n",
       "  </thead>\n",
       "  <tbody>\n",
       "    <tr>\n",
       "      <th>0</th>\n",
       "      <td>LJ</td>\n",
       "      <td>UG/L</td>\n",
       "      <td>60.4999</td>\n",
       "      <td>NaN</td>\n",
       "      <td>8-Oct-23</td>\n",
       "      <td>NaN</td>\n",
       "      <td>NaN</td>\n",
       "      <td>NaN</td>\n",
       "      <td>NaN</td>\n",
       "      <td>3.0</td>\n",
       "      <td>W17 - 17TH @ COVE, NW SIDE OF INTERSECT</td>\n",
       "    </tr>\n",
       "    <tr>\n",
       "      <th>1</th>\n",
       "      <td>LJ</td>\n",
       "      <td>UG/L</td>\n",
       "      <td>60.4999</td>\n",
       "      <td>NaN</td>\n",
       "      <td>9-Nov-23</td>\n",
       "      <td>NaN</td>\n",
       "      <td>NaN</td>\n",
       "      <td>NaN</td>\n",
       "      <td>NaN</td>\n",
       "      <td>3.0</td>\n",
       "      <td>W17 - 17TH @ COVE, NW SIDE OF INTERSECT</td>\n",
       "    </tr>\n",
       "    <tr>\n",
       "      <th>2</th>\n",
       "      <td>LJ</td>\n",
       "      <td>UG/L</td>\n",
       "      <td>60.4999</td>\n",
       "      <td>NaN</td>\n",
       "      <td>9-Mar-23</td>\n",
       "      <td>0.9</td>\n",
       "      <td>NaN</td>\n",
       "      <td>NaN</td>\n",
       "      <td>NaN</td>\n",
       "      <td>3.0</td>\n",
       "      <td>W17</td>\n",
       "    </tr>\n",
       "    <tr>\n",
       "      <th>3</th>\n",
       "      <td>LJ</td>\n",
       "      <td>UG/L</td>\n",
       "      <td>60.4999</td>\n",
       "      <td>NaN</td>\n",
       "      <td>14-Apr-23</td>\n",
       "      <td>NaN</td>\n",
       "      <td>NaN</td>\n",
       "      <td>NaN</td>\n",
       "      <td>NaN</td>\n",
       "      <td>3.0</td>\n",
       "      <td>W17 - 17TH @ COVE, NW SIDE OF INTERSECT</td>\n",
       "    </tr>\n",
       "    <tr>\n",
       "      <th>4</th>\n",
       "      <td>LJ</td>\n",
       "      <td>UG/L</td>\n",
       "      <td>60.4999</td>\n",
       "      <td>NaN</td>\n",
       "      <td>8-Oct-23</td>\n",
       "      <td>NaN</td>\n",
       "      <td>NaN</td>\n",
       "      <td>NaN</td>\n",
       "      <td>NaN</td>\n",
       "      <td>3.0</td>\n",
       "      <td>RW21 - 2521 PALO ALTO AVE</td>\n",
       "    </tr>\n",
       "    <tr>\n",
       "      <th>...</th>\n",
       "      <td>...</td>\n",
       "      <td>...</td>\n",
       "      <td>...</td>\n",
       "      <td>...</td>\n",
       "      <td>...</td>\n",
       "      <td>...</td>\n",
       "      <td>...</td>\n",
       "      <td>...</td>\n",
       "      <td>...</td>\n",
       "      <td>...</td>\n",
       "      <td>...</td>\n",
       "    </tr>\n",
       "    <tr>\n",
       "      <th>159836</th>\n",
       "      <td>NaN</td>\n",
       "      <td>UG/L</td>\n",
       "      <td>149.9999</td>\n",
       "      <td>Y</td>\n",
       "      <td>3-Mar-23</td>\n",
       "      <td>NaN</td>\n",
       "      <td>0.5499</td>\n",
       "      <td>NaN</td>\n",
       "      <td>NaN</td>\n",
       "      <td>NaN</td>\n",
       "      <td>POE</td>\n",
       "    </tr>\n",
       "    <tr>\n",
       "      <th>159837</th>\n",
       "      <td>NaN</td>\n",
       "      <td>UG/L</td>\n",
       "      <td>1.4999</td>\n",
       "      <td>Y</td>\n",
       "      <td>3-Mar-23</td>\n",
       "      <td>NaN</td>\n",
       "      <td>0.5499</td>\n",
       "      <td>NaN</td>\n",
       "      <td>NaN</td>\n",
       "      <td>NaN</td>\n",
       "      <td>POE</td>\n",
       "    </tr>\n",
       "    <tr>\n",
       "      <th>159838</th>\n",
       "      <td>NaN</td>\n",
       "      <td>UG/L</td>\n",
       "      <td>1499.9999</td>\n",
       "      <td>Y</td>\n",
       "      <td>3-Mar-23</td>\n",
       "      <td>NaN</td>\n",
       "      <td>0.5499</td>\n",
       "      <td>NaN</td>\n",
       "      <td>NaN</td>\n",
       "      <td>NaN</td>\n",
       "      <td>POE</td>\n",
       "    </tr>\n",
       "    <tr>\n",
       "      <th>159839</th>\n",
       "      <td>NaN</td>\n",
       "      <td>UG/L</td>\n",
       "      <td>749.9999</td>\n",
       "      <td>Y</td>\n",
       "      <td>3-Mar-23</td>\n",
       "      <td>NaN</td>\n",
       "      <td>0.5499</td>\n",
       "      <td>NaN</td>\n",
       "      <td>NaN</td>\n",
       "      <td>NaN</td>\n",
       "      <td>POE</td>\n",
       "    </tr>\n",
       "    <tr>\n",
       "      <th>159840</th>\n",
       "      <td>NaN</td>\n",
       "      <td>UG/L</td>\n",
       "      <td>149.9999</td>\n",
       "      <td>Y</td>\n",
       "      <td>3-Mar-23</td>\n",
       "      <td>NaN</td>\n",
       "      <td>0.5499</td>\n",
       "      <td>NaN</td>\n",
       "      <td>NaN</td>\n",
       "      <td>NaN</td>\n",
       "      <td>POE</td>\n",
       "    </tr>\n",
       "  </tbody>\n",
       "</table>\n",
       "<p>159841 rows × 11 columns</p>\n",
       "</div>"
      ],
      "text/plain": [
       "       INSPINIT   UOM        MCL ENTRYPOINT ANALYSISDATE  MDL     RDL  \\\n",
       "0            LJ  UG/L    60.4999        NaN     8-Oct-23  NaN     NaN   \n",
       "1            LJ  UG/L    60.4999        NaN     9-Nov-23  NaN     NaN   \n",
       "2            LJ  UG/L    60.4999        NaN     9-Mar-23  0.9     NaN   \n",
       "3            LJ  UG/L    60.4999        NaN    14-Apr-23  NaN     NaN   \n",
       "4            LJ  UG/L    60.4999        NaN     8-Oct-23  NaN     NaN   \n",
       "...         ...   ...        ...        ...          ...  ...     ...   \n",
       "159836      NaN  UG/L   149.9999          Y     3-Mar-23  NaN  0.5499   \n",
       "159837      NaN  UG/L     1.4999          Y     3-Mar-23  NaN  0.5499   \n",
       "159838      NaN  UG/L  1499.9999          Y     3-Mar-23  NaN  0.5499   \n",
       "159839      NaN  UG/L   749.9999          Y     3-Mar-23  NaN  0.5499   \n",
       "159840      NaN  UG/L   149.9999          Y     3-Mar-23  NaN  0.5499   \n",
       "\n",
       "       SAMPLENUMBER  CHLORINERESIDUAL  MAXQTR  \\\n",
       "0               NaN               NaN     3.0   \n",
       "1               NaN               NaN     3.0   \n",
       "2               NaN               NaN     3.0   \n",
       "3               NaN               NaN     3.0   \n",
       "4               NaN               NaN     3.0   \n",
       "...             ...               ...     ...   \n",
       "159836          NaN               NaN     NaN   \n",
       "159837          NaN               NaN     NaN   \n",
       "159838          NaN               NaN     NaN   \n",
       "159839          NaN               NaN     NaN   \n",
       "159840          NaN               NaN     NaN   \n",
       "\n",
       "                                        REMARKS  \n",
       "0       W17 - 17TH @ COVE, NW SIDE OF INTERSECT  \n",
       "1       W17 - 17TH @ COVE, NW SIDE OF INTERSECT  \n",
       "2                                           W17  \n",
       "3       W17 - 17TH @ COVE, NW SIDE OF INTERSECT  \n",
       "4                     RW21 - 2521 PALO ALTO AVE  \n",
       "...                                         ...  \n",
       "159836                                      POE  \n",
       "159837                                      POE  \n",
       "159838                                      POE  \n",
       "159839                                      POE  \n",
       "159840                                      POE  \n",
       "\n",
       "[159841 rows x 11 columns]"
      ]
     },
     "execution_count": 31,
     "metadata": {},
     "output_type": "execute_result"
    }
   ],
   "source": [
    "water_system_dict[\"Chemical_Report_2023\"][columns_with_missing]"
   ]
  },
  {
   "cell_type": "code",
   "execution_count": 32,
   "metadata": {},
   "outputs": [
    {
     "data": {
      "text/plain": [
       "INSPINIT\n",
       "RFP    9572\n",
       "JL     9153\n",
       "MN     6573\n",
       "MFC    6390\n",
       "DS     4833\n",
       "PA     4568\n",
       "PLS    4216\n",
       "DG     4124\n",
       "JMF    3990\n",
       "SBC    3769\n",
       "Name: count, dtype: int64"
      ]
     },
     "execution_count": 32,
     "metadata": {},
     "output_type": "execute_result"
    }
   ],
   "source": [
    "water_system_dict[\"Chemical_Report_2023\"][\"INSPINIT\"].value_counts().head(10)"
   ]
  },
  {
   "cell_type": "markdown",
   "metadata": {},
   "source": [
    "### The INSPINIT columns is just inspector initials according to pws_data_dictionary, that mostly likey won't be necessary, but the null values can simply be replaced with \"NA\" "
   ]
  },
  {
   "cell_type": "code",
   "execution_count": 33,
   "metadata": {},
   "outputs": [],
   "source": [
    "water_system_dict[\"Chemical_Report_2023\"][\"INSPINIT\"].fillna(\"NA\",inplace=True)"
   ]
  },
  {
   "cell_type": "code",
   "execution_count": 34,
   "metadata": {},
   "outputs": [
    {
     "data": {
      "text/plain": [
       "UOM\n",
       "UG/L           93551\n",
       "MG/L           46990\n",
       "NTU             6497\n",
       "LN(10)          5108\n",
       "PCI/L           2743\n",
       "COLOR UNITS     1053\n",
       "NG/L             200\n",
       "MF/L              58\n",
       "Name: count, dtype: int64"
      ]
     },
     "execution_count": 34,
     "metadata": {},
     "output_type": "execute_result"
    }
   ],
   "source": [
    "water_system_dict[\"Chemical_Report_2023\"][\"UOM\"].value_counts()"
   ]
  },
  {
   "cell_type": "markdown",
   "metadata": {},
   "source": [
    "### According to pws_data_dictionary, UOM is the unit of measurement associated with the sample results, and the nall values for this can be replaced with NA as well"
   ]
  },
  {
   "cell_type": "code",
   "execution_count": 35,
   "metadata": {},
   "outputs": [],
   "source": [
    "water_system_dict[\"Chemical_Report_2023\"][\"UOM\"].fillna(\"NA\",inplace=True)"
   ]
  },
  {
   "cell_type": "code",
   "execution_count": 36,
   "metadata": {},
   "outputs": [
    {
     "data": {
      "text/plain": [
       "MCL\n",
       "1.4999      19750\n",
       "NaN         15080\n",
       "3.4999      10644\n",
       "0.2499       7939\n",
       "10.4999      6683\n",
       "2.4999       6194\n",
       "80.4999      5897\n",
       "60.4999      5838\n",
       "149.9999     5823\n",
       "5.4999       5374\n",
       "Name: count, dtype: int64"
      ]
     },
     "execution_count": 36,
     "metadata": {},
     "output_type": "execute_result"
    }
   ],
   "source": [
    "water_system_dict[\"Chemical_Report_2023\"][\"MCL\"].value_counts().head(10)"
   ]
  },
  {
   "cell_type": "code",
   "execution_count": 37,
   "metadata": {},
   "outputs": [
    {
     "data": {
      "text/plain": [
       "0           60.4999\n",
       "1           60.4999\n",
       "2           60.4999\n",
       "3           60.4999\n",
       "4           60.4999\n",
       "            ...    \n",
       "159836     149.9999\n",
       "159837       1.4999\n",
       "159838    1499.9999\n",
       "159839     749.9999\n",
       "159840     149.9999\n",
       "Name: MCL, Length: 159841, dtype: float64"
      ]
     },
     "execution_count": 37,
     "metadata": {},
     "output_type": "execute_result"
    }
   ],
   "source": [
    "water_system_dict[\"Chemical_Report_2023\"][\"MCL\"]"
   ]
  },
  {
   "cell_type": "markdown",
   "metadata": {},
   "source": [
    "### Based on the pws_data_dictionary, MCL is the maximum contaminent level for compliance check, which can be replaced by the mean as it would handle the vast range of values well."
   ]
  },
  {
   "cell_type": "code",
   "execution_count": 38,
   "metadata": {},
   "outputs": [],
   "source": [
    "water_system_dict[\"Chemical_Report_2023\"][\"MCL\"].fillna(value=water_system_dict[\"Chemical_Report_2023\"][\"MCL\"].mean(),inplace=True)"
   ]
  },
  {
   "cell_type": "code",
   "execution_count": 39,
   "metadata": {},
   "outputs": [
    {
     "data": {
      "text/plain": [
       "ENTRYPOINT\n",
       "Y    128021\n",
       "N      3331\n",
       "Name: count, dtype: int64"
      ]
     },
     "execution_count": 39,
     "metadata": {},
     "output_type": "execute_result"
    }
   ],
   "source": [
    "water_system_dict[\"Chemical_Report_2023\"][\"ENTRYPOINT\"].value_counts()"
   ]
  },
  {
   "cell_type": "markdown",
   "metadata": {},
   "source": [
    "### It can be assumed the samples taken at entrypoint, as defined by the pws_data_dictionary, that are null values can be replaced by N, as it would seem to important to not note it as Y"
   ]
  },
  {
   "cell_type": "code",
   "execution_count": 40,
   "metadata": {},
   "outputs": [],
   "source": [
    "water_system_dict[\"Chemical_Report_2023\"][\"ENTRYPOINT\"].fillna(\"N\",inplace=True)"
   ]
  },
  {
   "cell_type": "code",
   "execution_count": 41,
   "metadata": {},
   "outputs": [
    {
     "data": {
      "text/plain": [
       "0          8-Oct-23\n",
       "1          9-Nov-23\n",
       "2          9-Mar-23\n",
       "3         14-Apr-23\n",
       "4          8-Oct-23\n",
       "            ...    \n",
       "159836     3-Mar-23\n",
       "159837     3-Mar-23\n",
       "159838     3-Mar-23\n",
       "159839     3-Mar-23\n",
       "159840     3-Mar-23\n",
       "Name: ANALYSISDATE, Length: 159841, dtype: object"
      ]
     },
     "execution_count": 41,
     "metadata": {},
     "output_type": "execute_result"
    }
   ],
   "source": [
    "water_system_dict[\"Chemical_Report_2023\"][\"ANALYSISDATE\"]"
   ]
  },
  {
   "cell_type": "markdown",
   "metadata": {},
   "source": [
    "### We can apply a ffill as the index locations seem to be adjacent to one another, and would be most aligned to nan values for date of analysis"
   ]
  },
  {
   "cell_type": "code",
   "execution_count": 42,
   "metadata": {},
   "outputs": [
    {
     "name": "stderr",
     "output_type": "stream",
     "text": [
      "/home/haslett/miniforge3/envs/rapids-24.10/lib/python3.12/site-packages/cudf/pandas/fast_slow_proxy.py:26: FutureWarning: Series.fillna with 'method' is deprecated and will raise in a future version. Use obj.ffill() or obj.bfill() instead.\n",
      "  return fn(*args, **kwargs)\n"
     ]
    }
   ],
   "source": [
    "water_system_dict[\"Chemical_Report_2023\"][\"ANALYSISDATE\"].fillna(method=\"ffill\",inplace=True)"
   ]
  },
  {
   "cell_type": "code",
   "execution_count": 43,
   "metadata": {},
   "outputs": [
    {
     "data": {
      "text/plain": [
       "np.int64(84941)"
      ]
     },
     "execution_count": 43,
     "metadata": {},
     "output_type": "execute_result"
    }
   ],
   "source": [
    "water_system_dict[\"Chemical_Report_2023\"][\"MDL\"].isnull().sum()"
   ]
  },
  {
   "cell_type": "code",
   "execution_count": 44,
   "metadata": {},
   "outputs": [
    {
     "data": {
      "text/plain": [
       "MDL\n",
       "NaN     84941\n",
       "0.50     4037\n",
       "0.20     3509\n",
       "0.10     2659\n",
       "0.26     1554\n",
       "0.00     1396\n",
       "1.00     1325\n",
       "0.28     1204\n",
       "0.09     1200\n",
       "0.44     1166\n",
       "Name: count, dtype: int64"
      ]
     },
     "execution_count": 44,
     "metadata": {},
     "output_type": "execute_result"
    }
   ],
   "source": [
    "water_system_dict[\"Chemical_Report_2023\"][\"MDL\"].value_counts().head(10)"
   ]
  },
  {
   "cell_type": "markdown",
   "metadata": {},
   "source": [
    "### The mdl is the method detection limit as stated by the pws_data_dictionary, which leads me to believe that the mean would be effective here as well"
   ]
  },
  {
   "cell_type": "code",
   "execution_count": 45,
   "metadata": {},
   "outputs": [],
   "source": [
    "water_system_dict[\"Chemical_Report_2023\"][\"MDL\"].fillna(value=water_system_dict[\"Chemical_Report_2023\"][\"MDL\"].mean(),inplace=True)"
   ]
  },
  {
   "cell_type": "code",
   "execution_count": 46,
   "metadata": {},
   "outputs": [
    {
     "data": {
      "text/plain": [
       "np.int64(83311)"
      ]
     },
     "execution_count": 46,
     "metadata": {},
     "output_type": "execute_result"
    }
   ],
   "source": [
    "water_system_dict[\"Chemical_Report_2023\"][\"RDL\"].isnull().sum()"
   ]
  },
  {
   "cell_type": "code",
   "execution_count": 47,
   "metadata": {},
   "outputs": [
    {
     "data": {
      "text/plain": [
       "RDL\n",
       "NaN       83311\n",
       "0.5499    31011\n",
       "0.1499    10355\n",
       "0.0249     5946\n",
       "0.2499     5903\n",
       "1.4999     4674\n",
       "0.6499     3099\n",
       "0.0149     2995\n",
       "0.0449     2963\n",
       "0.0749     1481\n",
       "0.4499     1481\n",
       "2.4999     1467\n",
       "0.9499     1464\n",
       "9.4999     1463\n",
       "6.4999     1460\n",
       "0.6670      401\n",
       "0.0055      200\n",
       "3.4999      167\n",
       "Name: count, dtype: int64"
      ]
     },
     "execution_count": 47,
     "metadata": {},
     "output_type": "execute_result"
    }
   ],
   "source": [
    "water_system_dict[\"Chemical_Report_2023\"][\"RDL\"].value_counts()"
   ]
  },
  {
   "cell_type": "markdown",
   "metadata": {},
   "source": [
    "### The rdl, known as the Regulatory detection limit according to pws_data_dictionary, would appear to be similar to mdl in use case, so using the mean here should be fine as well"
   ]
  },
  {
   "cell_type": "code",
   "execution_count": 48,
   "metadata": {},
   "outputs": [],
   "source": [
    "water_system_dict[\"Chemical_Report_2023\"][\"RDL\"].fillna(value=water_system_dict[\"Chemical_Report_2023\"][\"RDL\"].mean(),inplace=True)"
   ]
  },
  {
   "cell_type": "code",
   "execution_count": 49,
   "metadata": {},
   "outputs": [
    {
     "data": {
      "text/plain": [
       "0         NaN\n",
       "1         NaN\n",
       "2         NaN\n",
       "3         NaN\n",
       "4         NaN\n",
       "         ... \n",
       "159836    NaN\n",
       "159837    NaN\n",
       "159838    NaN\n",
       "159839    NaN\n",
       "159840    NaN\n",
       "Name: SAMPLENUMBER, Length: 159841, dtype: object"
      ]
     },
     "execution_count": 49,
     "metadata": {},
     "output_type": "execute_result"
    }
   ],
   "source": [
    "water_system_dict[\"Chemical_Report_2023\"][\"SAMPLENUMBER\"]"
   ]
  },
  {
   "cell_type": "markdown",
   "metadata": {},
   "source": [
    "### Since a majority of the sample numbers appear to be missing, it would be best to drop the column as a whole even though it would serve well as a foreign key"
   ]
  },
  {
   "cell_type": "code",
   "execution_count": 50,
   "metadata": {},
   "outputs": [],
   "source": [
    "water_system_dict[\"Chemical_Report_2023\"].drop(columns=\"SAMPLENUMBER\",inplace=True)"
   ]
  },
  {
   "cell_type": "code",
   "execution_count": 51,
   "metadata": {},
   "outputs": [
    {
     "data": {
      "text/plain": [
       "CHLORINERESIDUAL\n",
       "NaN    145677\n",
       "1.0       609\n",
       "2.0       482\n",
       "1.2       455\n",
       "0.8       420\n",
       "0.5       359\n",
       "1.5       344\n",
       "0.6       324\n",
       "0.9       315\n",
       "2.8       301\n",
       "Name: count, dtype: int64"
      ]
     },
     "execution_count": 51,
     "metadata": {},
     "output_type": "execute_result"
    }
   ],
   "source": [
    "water_system_dict[\"Chemical_Report_2023\"][\"CHLORINERESIDUAL\"].value_counts().head(10)"
   ]
  },
  {
   "cell_type": "code",
   "execution_count": 52,
   "metadata": {},
   "outputs": [
    {
     "data": {
      "text/plain": [
       "np.float64(0.9113869407723926)"
      ]
     },
     "execution_count": 52,
     "metadata": {},
     "output_type": "execute_result"
    }
   ],
   "source": [
    "(water_system_dict[\"Chemical_Report_2023\"][\"CHLORINERESIDUAL\"].isnull().sum())/len(water_system_dict[\"Chemical_Report_2023\"][\"CHLORINERESIDUAL\"])"
   ]
  },
  {
   "cell_type": "code",
   "execution_count": 53,
   "metadata": {},
   "outputs": [
    {
     "name": "stdout",
     "output_type": "stream",
     "text": [
      "Proportion of null values in CHLORINERESIDUAL: 91.14%\n"
     ]
    }
   ],
   "source": [
    "null_count = water_system_dict[\"Chemical_Report_2023\"][\"CHLORINERESIDUAL\"].isnull().sum()\n",
    "total_count = len(water_system_dict[\"Chemical_Report_2023\"][\"CHLORINERESIDUAL\"])\n",
    "null_proportion = null_count / total_count\n",
    "\n",
    "print(f\"Proportion of null values in CHLORINERESIDUAL: {null_proportion:.2%}\")"
   ]
  },
  {
   "cell_type": "markdown",
   "metadata": {},
   "source": [
    "### According to pws_data_dictionary the chlorine residual is the residual measured for the sample, and is actually an important feature for analysis, but there is a large amount of data missing, ~91%, it might be safer to replace it with a binary column of whether or not there is data present"
   ]
  },
  {
   "cell_type": "code",
   "execution_count": 54,
   "metadata": {},
   "outputs": [],
   "source": [
    "#binary column developed that renders anything greater than 0 in the original column to 1, and 0 and null values to 0\n",
    "water_system_dict[\"Chemical_Report_2023\"][\"CHLORINERESIDUAL_BINARY\"] = water_system_dict[\"Chemical_Report_2023\"][\"CHLORINERESIDUAL\"].gt(0).astype(int)"
   ]
  },
  {
   "cell_type": "code",
   "execution_count": 55,
   "metadata": {},
   "outputs": [
    {
     "data": {
      "text/plain": [
       "MAXQTR\n",
       "NaN    154779\n",
       "3.0      3089\n",
       "2.0       721\n",
       "4.0       660\n",
       "1.0       592\n",
       "Name: count, dtype: int64"
      ]
     },
     "execution_count": 55,
     "metadata": {},
     "output_type": "execute_result"
    }
   ],
   "source": [
    "water_system_dict[\"Chemical_Report_2023\"][\"MAXQTR\"].value_counts()"
   ]
  },
  {
   "cell_type": "markdown",
   "metadata": {},
   "source": [
    "### The max qtr is the quarter the sample has to be taken according to pws_data_dicitonary, which doesn't seem to be a relevant feature, when the sampledate can be utilized, which also had fewer na values in it originally"
   ]
  },
  {
   "cell_type": "code",
   "execution_count": 56,
   "metadata": {},
   "outputs": [],
   "source": [
    "water_system_dict[\"Chemical_Report_2023\"].drop(columns=\"MAXQTR\",inplace=True)"
   ]
  },
  {
   "cell_type": "code",
   "execution_count": 57,
   "metadata": {},
   "outputs": [
    {
     "data": {
      "text/plain": [
       "0         W17 - 17TH @ COVE, NW SIDE OF INTERSECT\n",
       "1         W17 - 17TH @ COVE, NW SIDE OF INTERSECT\n",
       "2                                             W17\n",
       "3         W17 - 17TH @ COVE, NW SIDE OF INTERSECT\n",
       "4                       RW21 - 2521 PALO ALTO AVE\n",
       "                           ...                   \n",
       "159836                                        POE\n",
       "159837                                        POE\n",
       "159838                                        POE\n",
       "159839                                        POE\n",
       "159840                                        POE\n",
       "Name: REMARKS, Length: 159841, dtype: object"
      ]
     },
     "execution_count": 57,
     "metadata": {},
     "output_type": "execute_result"
    }
   ],
   "source": [
    "water_system_dict[\"Chemical_Report_2023\"][\"REMARKS\"]"
   ]
  },
  {
   "cell_type": "markdown",
   "metadata": {},
   "source": [
    "### The remarks are just comments the inspectors left according to pws_data_dictionary, and could be useful, whereas the nan values can be replaced with \"no comment\""
   ]
  },
  {
   "cell_type": "code",
   "execution_count": 58,
   "metadata": {},
   "outputs": [],
   "source": [
    "water_system_dict[\"Chemical_Report_2023\"][\"REMARKS\"].fillna(\"No Comment\",inplace=True)"
   ]
  },
  {
   "cell_type": "code",
   "execution_count": 59,
   "metadata": {},
   "outputs": [],
   "source": [
    "columns_with_missing = water_system_dict[\"Chemical_Report_2023\"].columns[\n",
    "    water_system_dict[\"Chemical_Report_2023\"].isnull().sum() > 1]"
   ]
  },
  {
   "cell_type": "code",
   "execution_count": 60,
   "metadata": {},
   "outputs": [
    {
     "data": {
      "text/html": [
       "<div>\n",
       "<style scoped>\n",
       "    .dataframe tbody tr th:only-of-type {\n",
       "        vertical-align: middle;\n",
       "    }\n",
       "\n",
       "    .dataframe tbody tr th {\n",
       "        vertical-align: top;\n",
       "    }\n",
       "\n",
       "    .dataframe thead th {\n",
       "        text-align: right;\n",
       "    }\n",
       "</style>\n",
       "<table border=\"1\" class=\"dataframe\">\n",
       "  <thead>\n",
       "    <tr style=\"text-align: right;\">\n",
       "      <th></th>\n",
       "      <th>MCL</th>\n",
       "      <th>MDL</th>\n",
       "      <th>RDL</th>\n",
       "      <th>CHLORINERESIDUAL</th>\n",
       "    </tr>\n",
       "  </thead>\n",
       "  <tbody>\n",
       "    <tr>\n",
       "      <th>0</th>\n",
       "      <td>60.4999</td>\n",
       "      <td>NaN</td>\n",
       "      <td>NaN</td>\n",
       "      <td>NaN</td>\n",
       "    </tr>\n",
       "    <tr>\n",
       "      <th>1</th>\n",
       "      <td>60.4999</td>\n",
       "      <td>NaN</td>\n",
       "      <td>NaN</td>\n",
       "      <td>NaN</td>\n",
       "    </tr>\n",
       "    <tr>\n",
       "      <th>2</th>\n",
       "      <td>60.4999</td>\n",
       "      <td>0.9</td>\n",
       "      <td>NaN</td>\n",
       "      <td>NaN</td>\n",
       "    </tr>\n",
       "    <tr>\n",
       "      <th>3</th>\n",
       "      <td>60.4999</td>\n",
       "      <td>NaN</td>\n",
       "      <td>NaN</td>\n",
       "      <td>NaN</td>\n",
       "    </tr>\n",
       "    <tr>\n",
       "      <th>4</th>\n",
       "      <td>60.4999</td>\n",
       "      <td>NaN</td>\n",
       "      <td>NaN</td>\n",
       "      <td>NaN</td>\n",
       "    </tr>\n",
       "    <tr>\n",
       "      <th>...</th>\n",
       "      <td>...</td>\n",
       "      <td>...</td>\n",
       "      <td>...</td>\n",
       "      <td>...</td>\n",
       "    </tr>\n",
       "    <tr>\n",
       "      <th>159836</th>\n",
       "      <td>149.9999</td>\n",
       "      <td>NaN</td>\n",
       "      <td>0.5499</td>\n",
       "      <td>NaN</td>\n",
       "    </tr>\n",
       "    <tr>\n",
       "      <th>159837</th>\n",
       "      <td>1.4999</td>\n",
       "      <td>NaN</td>\n",
       "      <td>0.5499</td>\n",
       "      <td>NaN</td>\n",
       "    </tr>\n",
       "    <tr>\n",
       "      <th>159838</th>\n",
       "      <td>1499.9999</td>\n",
       "      <td>NaN</td>\n",
       "      <td>0.5499</td>\n",
       "      <td>NaN</td>\n",
       "    </tr>\n",
       "    <tr>\n",
       "      <th>159839</th>\n",
       "      <td>749.9999</td>\n",
       "      <td>NaN</td>\n",
       "      <td>0.5499</td>\n",
       "      <td>NaN</td>\n",
       "    </tr>\n",
       "    <tr>\n",
       "      <th>159840</th>\n",
       "      <td>149.9999</td>\n",
       "      <td>NaN</td>\n",
       "      <td>0.5499</td>\n",
       "      <td>NaN</td>\n",
       "    </tr>\n",
       "  </tbody>\n",
       "</table>\n",
       "<p>159841 rows × 4 columns</p>\n",
       "</div>"
      ],
      "text/plain": [
       "              MCL  MDL     RDL  CHLORINERESIDUAL\n",
       "0         60.4999  NaN     NaN               NaN\n",
       "1         60.4999  NaN     NaN               NaN\n",
       "2         60.4999  0.9     NaN               NaN\n",
       "3         60.4999  NaN     NaN               NaN\n",
       "4         60.4999  NaN     NaN               NaN\n",
       "...           ...  ...     ...               ...\n",
       "159836   149.9999  NaN  0.5499               NaN\n",
       "159837     1.4999  NaN  0.5499               NaN\n",
       "159838  1499.9999  NaN  0.5499               NaN\n",
       "159839   749.9999  NaN  0.5499               NaN\n",
       "159840   149.9999  NaN  0.5499               NaN\n",
       "\n",
       "[159841 rows x 4 columns]"
      ]
     },
     "execution_count": 60,
     "metadata": {},
     "output_type": "execute_result"
    }
   ],
   "source": [
    "water_system_dict[\"Chemical_Report_2023\"][columns_with_missing]"
   ]
  },
  {
   "cell_type": "code",
   "execution_count": 61,
   "metadata": {},
   "outputs": [
    {
     "name": "stdout",
     "output_type": "stream",
     "text": [
      "file has been saved\n"
     ]
    }
   ],
   "source": [
    "store_file(\"Chemical_Report_2023\",1)"
   ]
  },
  {
   "cell_type": "markdown",
   "metadata": {},
   "source": [
    "## Flow Data Cleaning"
   ]
  },
  {
   "cell_type": "code",
   "execution_count": 62,
   "metadata": {},
   "outputs": [
    {
     "data": {
      "text/plain": [
       "PWSID               0\n",
       "OFFICE              0\n",
       "SYSTEMNAME          0\n",
       "DESIGNCAPCITY    4638\n",
       "PLANTNUMBER         0\n",
       "PLANTSTATUS         0\n",
       "REPORTDATE          0\n",
       "MAX_TREATED       419\n",
       "AVG_TREATED       419\n",
       "dtype: int64"
      ]
     },
     "execution_count": 62,
     "metadata": {},
     "output_type": "execute_result"
    }
   ],
   "source": [
    "water_system_dict[\"Flow_Data_Report_2023\"].isnull().sum()"
   ]
  },
  {
   "cell_type": "code",
   "execution_count": 63,
   "metadata": {},
   "outputs": [
    {
     "data": {
      "text/html": [
       "<div>\n",
       "<style scoped>\n",
       "    .dataframe tbody tr th:only-of-type {\n",
       "        vertical-align: middle;\n",
       "    }\n",
       "\n",
       "    .dataframe tbody tr th {\n",
       "        vertical-align: top;\n",
       "    }\n",
       "\n",
       "    .dataframe thead th {\n",
       "        text-align: right;\n",
       "    }\n",
       "</style>\n",
       "<table border=\"1\" class=\"dataframe\">\n",
       "  <thead>\n",
       "    <tr style=\"text-align: right;\">\n",
       "      <th></th>\n",
       "      <th>DESIGNCAPCITY</th>\n",
       "      <th>MAX_TREATED</th>\n",
       "      <th>AVG_TREATED</th>\n",
       "    </tr>\n",
       "  </thead>\n",
       "  <tbody>\n",
       "    <tr>\n",
       "      <th>0</th>\n",
       "      <td>60000000.0</td>\n",
       "      <td>2770000.0</td>\n",
       "      <td>1894000.0</td>\n",
       "    </tr>\n",
       "    <tr>\n",
       "      <th>1</th>\n",
       "      <td>60000000.0</td>\n",
       "      <td>2288000.0</td>\n",
       "      <td>2074110.0</td>\n",
       "    </tr>\n",
       "    <tr>\n",
       "      <th>2</th>\n",
       "      <td>60000000.0</td>\n",
       "      <td>25870000.0</td>\n",
       "      <td>21240000.0</td>\n",
       "    </tr>\n",
       "    <tr>\n",
       "      <th>3</th>\n",
       "      <td>60000000.0</td>\n",
       "      <td>28060000.0</td>\n",
       "      <td>24257700.0</td>\n",
       "    </tr>\n",
       "    <tr>\n",
       "      <th>4</th>\n",
       "      <td>60000000.0</td>\n",
       "      <td>30970000.0</td>\n",
       "      <td>23720000.0</td>\n",
       "    </tr>\n",
       "    <tr>\n",
       "      <th>5</th>\n",
       "      <td>60000000.0</td>\n",
       "      <td>30580000.0</td>\n",
       "      <td>27155700.0</td>\n",
       "    </tr>\n",
       "    <tr>\n",
       "      <th>6</th>\n",
       "      <td>60000000.0</td>\n",
       "      <td>31220000.0</td>\n",
       "      <td>23890000.0</td>\n",
       "    </tr>\n",
       "    <tr>\n",
       "      <th>7</th>\n",
       "      <td>60000000.0</td>\n",
       "      <td>36590000.0</td>\n",
       "      <td>29210600.0</td>\n",
       "    </tr>\n",
       "    <tr>\n",
       "      <th>8</th>\n",
       "      <td>60000000.0</td>\n",
       "      <td>27600000.0</td>\n",
       "      <td>22520000.0</td>\n",
       "    </tr>\n",
       "    <tr>\n",
       "      <th>9</th>\n",
       "      <td>60000000.0</td>\n",
       "      <td>27320000.0</td>\n",
       "      <td>22180000.0</td>\n",
       "    </tr>\n",
       "    <tr>\n",
       "      <th>10</th>\n",
       "      <td>60000000.0</td>\n",
       "      <td>23400000.0</td>\n",
       "      <td>19248000.0</td>\n",
       "    </tr>\n",
       "    <tr>\n",
       "      <th>11</th>\n",
       "      <td>60000000.0</td>\n",
       "      <td>19850000.0</td>\n",
       "      <td>17300000.0</td>\n",
       "    </tr>\n",
       "    <tr>\n",
       "      <th>12</th>\n",
       "      <td>1.0</td>\n",
       "      <td>NaN</td>\n",
       "      <td>NaN</td>\n",
       "    </tr>\n",
       "    <tr>\n",
       "      <th>13</th>\n",
       "      <td>1.0</td>\n",
       "      <td>NaN</td>\n",
       "      <td>NaN</td>\n",
       "    </tr>\n",
       "    <tr>\n",
       "      <th>14</th>\n",
       "      <td>1.0</td>\n",
       "      <td>NaN</td>\n",
       "      <td>NaN</td>\n",
       "    </tr>\n",
       "    <tr>\n",
       "      <th>15</th>\n",
       "      <td>1.0</td>\n",
       "      <td>NaN</td>\n",
       "      <td>NaN</td>\n",
       "    </tr>\n",
       "    <tr>\n",
       "      <th>16</th>\n",
       "      <td>1.0</td>\n",
       "      <td>NaN</td>\n",
       "      <td>NaN</td>\n",
       "    </tr>\n",
       "    <tr>\n",
       "      <th>17</th>\n",
       "      <td>1.0</td>\n",
       "      <td>NaN</td>\n",
       "      <td>NaN</td>\n",
       "    </tr>\n",
       "    <tr>\n",
       "      <th>18</th>\n",
       "      <td>1.0</td>\n",
       "      <td>NaN</td>\n",
       "      <td>NaN</td>\n",
       "    </tr>\n",
       "    <tr>\n",
       "      <th>19</th>\n",
       "      <td>1.0</td>\n",
       "      <td>NaN</td>\n",
       "      <td>NaN</td>\n",
       "    </tr>\n",
       "    <tr>\n",
       "      <th>20</th>\n",
       "      <td>1.0</td>\n",
       "      <td>NaN</td>\n",
       "      <td>NaN</td>\n",
       "    </tr>\n",
       "    <tr>\n",
       "      <th>21</th>\n",
       "      <td>1.0</td>\n",
       "      <td>NaN</td>\n",
       "      <td>NaN</td>\n",
       "    </tr>\n",
       "    <tr>\n",
       "      <th>22</th>\n",
       "      <td>1.0</td>\n",
       "      <td>NaN</td>\n",
       "      <td>NaN</td>\n",
       "    </tr>\n",
       "    <tr>\n",
       "      <th>23</th>\n",
       "      <td>1.0</td>\n",
       "      <td>NaN</td>\n",
       "      <td>NaN</td>\n",
       "    </tr>\n",
       "    <tr>\n",
       "      <th>24</th>\n",
       "      <td>1.0</td>\n",
       "      <td>NaN</td>\n",
       "      <td>NaN</td>\n",
       "    </tr>\n",
       "    <tr>\n",
       "      <th>25</th>\n",
       "      <td>1.0</td>\n",
       "      <td>NaN</td>\n",
       "      <td>NaN</td>\n",
       "    </tr>\n",
       "    <tr>\n",
       "      <th>26</th>\n",
       "      <td>1.0</td>\n",
       "      <td>NaN</td>\n",
       "      <td>NaN</td>\n",
       "    </tr>\n",
       "    <tr>\n",
       "      <th>27</th>\n",
       "      <td>1.0</td>\n",
       "      <td>NaN</td>\n",
       "      <td>NaN</td>\n",
       "    </tr>\n",
       "    <tr>\n",
       "      <th>28</th>\n",
       "      <td>1.0</td>\n",
       "      <td>NaN</td>\n",
       "      <td>NaN</td>\n",
       "    </tr>\n",
       "    <tr>\n",
       "      <th>29</th>\n",
       "      <td>1.0</td>\n",
       "      <td>NaN</td>\n",
       "      <td>NaN</td>\n",
       "    </tr>\n",
       "    <tr>\n",
       "      <th>30</th>\n",
       "      <td>1.0</td>\n",
       "      <td>NaN</td>\n",
       "      <td>NaN</td>\n",
       "    </tr>\n",
       "    <tr>\n",
       "      <th>31</th>\n",
       "      <td>1.0</td>\n",
       "      <td>NaN</td>\n",
       "      <td>NaN</td>\n",
       "    </tr>\n",
       "    <tr>\n",
       "      <th>32</th>\n",
       "      <td>1.0</td>\n",
       "      <td>NaN</td>\n",
       "      <td>NaN</td>\n",
       "    </tr>\n",
       "    <tr>\n",
       "      <th>33</th>\n",
       "      <td>1.0</td>\n",
       "      <td>NaN</td>\n",
       "      <td>NaN</td>\n",
       "    </tr>\n",
       "    <tr>\n",
       "      <th>34</th>\n",
       "      <td>1.0</td>\n",
       "      <td>NaN</td>\n",
       "      <td>NaN</td>\n",
       "    </tr>\n",
       "    <tr>\n",
       "      <th>35</th>\n",
       "      <td>1.0</td>\n",
       "      <td>NaN</td>\n",
       "      <td>NaN</td>\n",
       "    </tr>\n",
       "    <tr>\n",
       "      <th>36</th>\n",
       "      <td>1346400.0</td>\n",
       "      <td>126500.0</td>\n",
       "      <td>118118.0</td>\n",
       "    </tr>\n",
       "    <tr>\n",
       "      <th>37</th>\n",
       "      <td>5832000.0</td>\n",
       "      <td>2052000.0</td>\n",
       "      <td>1524323.0</td>\n",
       "    </tr>\n",
       "    <tr>\n",
       "      <th>38</th>\n",
       "      <td>5832000.0</td>\n",
       "      <td>2003000.0</td>\n",
       "      <td>1546679.0</td>\n",
       "    </tr>\n",
       "    <tr>\n",
       "      <th>39</th>\n",
       "      <td>5832000.0</td>\n",
       "      <td>2140000.0</td>\n",
       "      <td>1806645.0</td>\n",
       "    </tr>\n",
       "    <tr>\n",
       "      <th>40</th>\n",
       "      <td>5832000.0</td>\n",
       "      <td>2443000.0</td>\n",
       "      <td>1940033.0</td>\n",
       "    </tr>\n",
       "    <tr>\n",
       "      <th>41</th>\n",
       "      <td>5832000.0</td>\n",
       "      <td>2495000.0</td>\n",
       "      <td>2115677.0</td>\n",
       "    </tr>\n",
       "    <tr>\n",
       "      <th>42</th>\n",
       "      <td>5832000.0</td>\n",
       "      <td>2436000.0</td>\n",
       "      <td>2099367.0</td>\n",
       "    </tr>\n",
       "    <tr>\n",
       "      <th>43</th>\n",
       "      <td>5832000.0</td>\n",
       "      <td>2932000.0</td>\n",
       "      <td>2304742.0</td>\n",
       "    </tr>\n",
       "    <tr>\n",
       "      <th>44</th>\n",
       "      <td>5832000.0</td>\n",
       "      <td>2963000.0</td>\n",
       "      <td>2606935.0</td>\n",
       "    </tr>\n",
       "    <tr>\n",
       "      <th>45</th>\n",
       "      <td>5832000.0</td>\n",
       "      <td>3088000.0</td>\n",
       "      <td>2309467.0</td>\n",
       "    </tr>\n",
       "    <tr>\n",
       "      <th>46</th>\n",
       "      <td>5832000.0</td>\n",
       "      <td>2592000.0</td>\n",
       "      <td>2165903.0</td>\n",
       "    </tr>\n",
       "    <tr>\n",
       "      <th>47</th>\n",
       "      <td>5832000.0</td>\n",
       "      <td>2595000.0</td>\n",
       "      <td>1918867.0</td>\n",
       "    </tr>\n",
       "    <tr>\n",
       "      <th>48</th>\n",
       "      <td>5832000.0</td>\n",
       "      <td>2772000.0</td>\n",
       "      <td>1605742.0</td>\n",
       "    </tr>\n",
       "    <tr>\n",
       "      <th>49</th>\n",
       "      <td>NaN</td>\n",
       "      <td>610000.0</td>\n",
       "      <td>390300.0</td>\n",
       "    </tr>\n",
       "  </tbody>\n",
       "</table>\n",
       "</div>"
      ],
      "text/plain": [
       "    DESIGNCAPCITY  MAX_TREATED  AVG_TREATED\n",
       "0      60000000.0    2770000.0    1894000.0\n",
       "1      60000000.0    2288000.0    2074110.0\n",
       "2      60000000.0   25870000.0   21240000.0\n",
       "3      60000000.0   28060000.0   24257700.0\n",
       "4      60000000.0   30970000.0   23720000.0\n",
       "5      60000000.0   30580000.0   27155700.0\n",
       "6      60000000.0   31220000.0   23890000.0\n",
       "7      60000000.0   36590000.0   29210600.0\n",
       "8      60000000.0   27600000.0   22520000.0\n",
       "9      60000000.0   27320000.0   22180000.0\n",
       "10     60000000.0   23400000.0   19248000.0\n",
       "11     60000000.0   19850000.0   17300000.0\n",
       "12            1.0          NaN          NaN\n",
       "13            1.0          NaN          NaN\n",
       "14            1.0          NaN          NaN\n",
       "15            1.0          NaN          NaN\n",
       "16            1.0          NaN          NaN\n",
       "17            1.0          NaN          NaN\n",
       "18            1.0          NaN          NaN\n",
       "19            1.0          NaN          NaN\n",
       "20            1.0          NaN          NaN\n",
       "21            1.0          NaN          NaN\n",
       "22            1.0          NaN          NaN\n",
       "23            1.0          NaN          NaN\n",
       "24            1.0          NaN          NaN\n",
       "25            1.0          NaN          NaN\n",
       "26            1.0          NaN          NaN\n",
       "27            1.0          NaN          NaN\n",
       "28            1.0          NaN          NaN\n",
       "29            1.0          NaN          NaN\n",
       "30            1.0          NaN          NaN\n",
       "31            1.0          NaN          NaN\n",
       "32            1.0          NaN          NaN\n",
       "33            1.0          NaN          NaN\n",
       "34            1.0          NaN          NaN\n",
       "35            1.0          NaN          NaN\n",
       "36      1346400.0     126500.0     118118.0\n",
       "37      5832000.0    2052000.0    1524323.0\n",
       "38      5832000.0    2003000.0    1546679.0\n",
       "39      5832000.0    2140000.0    1806645.0\n",
       "40      5832000.0    2443000.0    1940033.0\n",
       "41      5832000.0    2495000.0    2115677.0\n",
       "42      5832000.0    2436000.0    2099367.0\n",
       "43      5832000.0    2932000.0    2304742.0\n",
       "44      5832000.0    2963000.0    2606935.0\n",
       "45      5832000.0    3088000.0    2309467.0\n",
       "46      5832000.0    2592000.0    2165903.0\n",
       "47      5832000.0    2595000.0    1918867.0\n",
       "48      5832000.0    2772000.0    1605742.0\n",
       "49            NaN     610000.0     390300.0"
      ]
     },
     "execution_count": 63,
     "metadata": {},
     "output_type": "execute_result"
    }
   ],
   "source": [
    "missing_column_display(\"Flow_Data_Report_2023\").head(50)"
   ]
  },
  {
   "cell_type": "code",
   "execution_count": 64,
   "metadata": {},
   "outputs": [
    {
     "data": {
      "text/plain": [
       "DESIGNCAPCITY\n",
       "NaN        4638\n",
       "1.0        1598\n",
       "5000.0     1165\n",
       "36000.0     935\n",
       "10000.0     911\n",
       "10800.0     664\n",
       "18000.0     655\n",
       "28800.0     629\n",
       "72000.0     617\n",
       "49000.0     583\n",
       "Name: count, dtype: int64"
      ]
     },
     "execution_count": 64,
     "metadata": {},
     "output_type": "execute_result"
    }
   ],
   "source": [
    "water_system_dict[\"Flow_Data_Report_2023\"][\"DESIGNCAPCITY\"].value_counts().head(10)"
   ]
  },
  {
   "cell_type": "markdown",
   "metadata": {},
   "source": [
    "### A ffill would work here as design capacity is just the design capacity of the plant according to pws_data_dictionary, but mostly the appearance that data points are similar to their neighbors"
   ]
  },
  {
   "cell_type": "code",
   "execution_count": 65,
   "metadata": {},
   "outputs": [
    {
     "name": "stderr",
     "output_type": "stream",
     "text": [
      "/home/haslett/miniforge3/envs/rapids-24.10/lib/python3.12/site-packages/cudf/core/frame.py:731: FutureWarning: Series.fillna with 'method' is deprecated and will raise in a future version. Use obj.ffill() or obj.bfill() instead.\n",
      "  warnings.warn(\n"
     ]
    }
   ],
   "source": [
    "water_system_dict[\"Flow_Data_Report_2023\"][\"DESIGNCAPCITY\"].fillna(method=\"ffill\",inplace=True)"
   ]
  },
  {
   "cell_type": "code",
   "execution_count": 66,
   "metadata": {},
   "outputs": [
    {
     "data": {
      "text/plain": [
       "MAX_TREATED\n",
       "0.000000e+00    1687\n",
       "NaN              419\n",
       "1.000000e+03     384\n",
       "4.000000e+02     323\n",
       "1.000000e+00     319\n",
       "                ... \n",
       "4.254915e+08       1\n",
       "1.123259e+09       1\n",
       "1.596000e+09       1\n",
       "1.667000e+09       1\n",
       "1.917000e+09       1\n",
       "Name: count, Length: 13584, dtype: int64"
      ]
     },
     "execution_count": 66,
     "metadata": {},
     "output_type": "execute_result"
    }
   ],
   "source": [
    "water_system_dict[\"Flow_Data_Report_2023\"][\"MAX_TREATED\"].value_counts()"
   ]
  },
  {
   "cell_type": "markdown",
   "metadata": {},
   "source": [
    "### According to pws_data_dictionary, the max treated is the highest daily average gallons of water per day in an one month period, in which the nan values can be replaced by 0, since this is an important feature to note, so why wouldn't it be recorded?. It is apparent that 0 is also the mode within the feature as well."
   ]
  },
  {
   "cell_type": "code",
   "execution_count": 67,
   "metadata": {},
   "outputs": [],
   "source": [
    "water_system_dict[\"Flow_Data_Report_2023\"][\"MAX_TREATED\"].fillna(0,inplace=True)"
   ]
  },
  {
   "cell_type": "code",
   "execution_count": 68,
   "metadata": {},
   "outputs": [
    {
     "data": {
      "text/plain": [
       "AVG_TREATED\n",
       "0.0       1707\n",
       "NaN        419\n",
       "1.0        342\n",
       "1000.0      64\n",
       "400.0       59\n",
       "32.0        58\n",
       "2000.0      55\n",
       "3000.0      52\n",
       "100.0       44\n",
       "300.0       43\n",
       "Name: count, dtype: int64"
      ]
     },
     "execution_count": 68,
     "metadata": {},
     "output_type": "execute_result"
    }
   ],
   "source": [
    "water_system_dict[\"Flow_Data_Report_2023\"][\"AVG_TREATED\"].value_counts().head(10)"
   ]
  },
  {
   "cell_type": "markdown",
   "metadata": {},
   "source": [
    "### According to pws_data_dictionary, the average treated is the average number of gallons per day of water processed by a plant during a month, which can follow the same rhetoric as the max treated, where the nan values can be replaced by 0, as it's present as the mode as well."
   ]
  },
  {
   "cell_type": "code",
   "execution_count": 69,
   "metadata": {},
   "outputs": [],
   "source": [
    "water_system_dict[\"Flow_Data_Report_2023\"][\"AVG_TREATED\"].fillna(0,inplace=True)"
   ]
  },
  {
   "cell_type": "code",
   "execution_count": 70,
   "metadata": {},
   "outputs": [
    {
     "name": "stdout",
     "output_type": "stream",
     "text": [
      "file has been saved\n"
     ]
    }
   ],
   "source": [
    "store_file(\"Flow_Data_Report_2023\",1)"
   ]
  },
  {
   "cell_type": "markdown",
   "metadata": {},
   "source": [
    "## Basic Facility Cleaning"
   ]
  },
  {
   "cell_type": "code",
   "execution_count": 71,
   "metadata": {},
   "outputs": [
    {
     "data": {
      "text/plain": [
       "DISTRICT                 0\n",
       "COUNTY                   0\n",
       "OFFICE                   0\n",
       "EMAIL                 3223\n",
       "PWSID                    0\n",
       "SYSTEMTYPE               0\n",
       "CATEGORYCLASS            0\n",
       "SURFACESOURCE            0\n",
       "GROUNDSOURCE             0\n",
       "MAILINGNAME              0\n",
       "ADDRESS1                 0\n",
       "ADDRESS2              5689\n",
       "CITY                     0\n",
       "SYSTEMSTATE              0\n",
       "ZIP                      0\n",
       "ZIPFOUR               5659\n",
       "PHONE                  462\n",
       "PHONEEXT              5841\n",
       "CONTACTNAME           1473\n",
       "OWNERNAME              235\n",
       "OWNERADDRESS1          273\n",
       "OWNERADDRESS2         5344\n",
       "OWNERCITY              272\n",
       "OWNERSTATE             272\n",
       "OWNERZIP               273\n",
       "OWNERZIP4             5453\n",
       "OWNERPHONE             558\n",
       "OWNERPHONEEXT         5710\n",
       "OWNERTYPE                0\n",
       "POPULATIONSERVED         0\n",
       "DESIGNCAPACITY           0\n",
       "SERVICECONNECTIONS       0\n",
       "LASTINSPECTION        1075\n",
       "LASTSANITARYSURVEY    1096\n",
       "FEEGROUPCODE             0\n",
       "ANNUALFEE                0\n",
       "dtype: int64"
      ]
     },
     "execution_count": 71,
     "metadata": {},
     "output_type": "execute_result"
    }
   ],
   "source": [
    "water_system_dict[\"Basic_Facility_Report_2023\"].isnull().sum()"
   ]
  },
  {
   "cell_type": "code",
   "execution_count": 72,
   "metadata": {},
   "outputs": [
    {
     "data": {
      "text/html": [
       "<div>\n",
       "<style scoped>\n",
       "    .dataframe tbody tr th:only-of-type {\n",
       "        vertical-align: middle;\n",
       "    }\n",
       "\n",
       "    .dataframe tbody tr th {\n",
       "        vertical-align: top;\n",
       "    }\n",
       "\n",
       "    .dataframe thead th {\n",
       "        text-align: right;\n",
       "    }\n",
       "</style>\n",
       "<table border=\"1\" class=\"dataframe\">\n",
       "  <thead>\n",
       "    <tr style=\"text-align: right;\">\n",
       "      <th></th>\n",
       "      <th>EMAIL</th>\n",
       "      <th>ADDRESS2</th>\n",
       "      <th>ZIPFOUR</th>\n",
       "      <th>PHONE</th>\n",
       "      <th>PHONEEXT</th>\n",
       "      <th>CONTACTNAME</th>\n",
       "      <th>OWNERNAME</th>\n",
       "      <th>OWNERADDRESS1</th>\n",
       "      <th>OWNERADDRESS2</th>\n",
       "      <th>OWNERCITY</th>\n",
       "      <th>OWNERSTATE</th>\n",
       "      <th>OWNERZIP</th>\n",
       "      <th>OWNERZIP4</th>\n",
       "      <th>OWNERPHONE</th>\n",
       "      <th>OWNERPHONEEXT</th>\n",
       "      <th>LASTINSPECTION</th>\n",
       "      <th>LASTSANITARYSURVEY</th>\n",
       "    </tr>\n",
       "  </thead>\n",
       "  <tbody>\n",
       "    <tr>\n",
       "      <th>0</th>\n",
       "      <td>slathrop@baycountyfl.gov</td>\n",
       "      <td>NaN</td>\n",
       "      <td>NaN</td>\n",
       "      <td>8.502485e+09</td>\n",
       "      <td>NaN</td>\n",
       "      <td>BOBBY GIBBS</td>\n",
       "      <td>BEN BLITCH</td>\n",
       "      <td>3410 TRANSMITTER ROAD</td>\n",
       "      <td>NaN</td>\n",
       "      <td>PANAMA CITY</td>\n",
       "      <td>FL</td>\n",
       "      <td>32404.0</td>\n",
       "      <td>NaN</td>\n",
       "      <td>8.502485e+09</td>\n",
       "      <td>NaN</td>\n",
       "      <td>27-Dec-13</td>\n",
       "      <td>9-Dec-21</td>\n",
       "    </tr>\n",
       "    <tr>\n",
       "      <th>1</th>\n",
       "      <td>WFRYE@CITYOFCALLAWAY.COM;</td>\n",
       "      <td>NaN</td>\n",
       "      <td>9542.0</td>\n",
       "      <td>8.508711e+09</td>\n",
       "      <td>NaN</td>\n",
       "      <td>NaN</td>\n",
       "      <td>EDDIE COOK</td>\n",
       "      <td>6601 E. HWY 22</td>\n",
       "      <td>NaN</td>\n",
       "      <td>CALLAWAY</td>\n",
       "      <td>FL</td>\n",
       "      <td>32404.0</td>\n",
       "      <td>9542.0</td>\n",
       "      <td>8.502157e+09</td>\n",
       "      <td>NaN</td>\n",
       "      <td>12-Nov-13</td>\n",
       "      <td>12-Aug-21</td>\n",
       "    </tr>\n",
       "    <tr>\n",
       "      <th>2</th>\n",
       "      <td>jbaldwin@springfield.fl.gov;mgrice@springfield...</td>\n",
       "      <td>NaN</td>\n",
       "      <td>NaN</td>\n",
       "      <td>8.508728e+09</td>\n",
       "      <td>NaN</td>\n",
       "      <td>MILES GRICE</td>\n",
       "      <td>RALPH HAMMOND</td>\n",
       "      <td>408 SCHOOL AVE.</td>\n",
       "      <td>NaN</td>\n",
       "      <td>SPRINGFIELD</td>\n",
       "      <td>FL</td>\n",
       "      <td>32401.0</td>\n",
       "      <td>NaN</td>\n",
       "      <td>8.508728e+09</td>\n",
       "      <td>110.0</td>\n",
       "      <td>3-Jan-20</td>\n",
       "      <td>9-Dec-21</td>\n",
       "    </tr>\n",
       "    <tr>\n",
       "      <th>3</th>\n",
       "      <td>gkidwell@cityoflynnhaven.com</td>\n",
       "      <td>NaN</td>\n",
       "      <td>NaN</td>\n",
       "      <td>8.502650e+09</td>\n",
       "      <td>NaN</td>\n",
       "      <td>CHRIS LIGHTFOOT</td>\n",
       "      <td>GREG KIDWELL</td>\n",
       "      <td>825 OHIO AVE.</td>\n",
       "      <td>NaN</td>\n",
       "      <td>LYNN HAVEN</td>\n",
       "      <td>FL</td>\n",
       "      <td>32444.0</td>\n",
       "      <td>NaN</td>\n",
       "      <td>8.502652e+09</td>\n",
       "      <td>NaN</td>\n",
       "      <td>7-Jun-21</td>\n",
       "      <td>22-Nov-21</td>\n",
       "    </tr>\n",
       "    <tr>\n",
       "      <th>4</th>\n",
       "      <td>g.davis@mexicobeachgov.com;</td>\n",
       "      <td>ATTN.:  GLENN DAVIS</td>\n",
       "      <td>NaN</td>\n",
       "      <td>8.506483e+09</td>\n",
       "      <td>NaN</td>\n",
       "      <td>RICHARD (GLENN) DAVIS</td>\n",
       "      <td>CHRIS HUBBARD</td>\n",
       "      <td>PO BOX 13425</td>\n",
       "      <td>NaN</td>\n",
       "      <td>MEXICO BEACH</td>\n",
       "      <td>FL</td>\n",
       "      <td>32410.0</td>\n",
       "      <td>NaN</td>\n",
       "      <td>8.506486e+09</td>\n",
       "      <td>3.0</td>\n",
       "      <td>18-Mar-24</td>\n",
       "      <td>6-Feb-24</td>\n",
       "    </tr>\n",
       "    <tr>\n",
       "      <th>...</th>\n",
       "      <td>...</td>\n",
       "      <td>...</td>\n",
       "      <td>...</td>\n",
       "      <td>...</td>\n",
       "      <td>...</td>\n",
       "      <td>...</td>\n",
       "      <td>...</td>\n",
       "      <td>...</td>\n",
       "      <td>...</td>\n",
       "      <td>...</td>\n",
       "      <td>...</td>\n",
       "      <td>...</td>\n",
       "      <td>...</td>\n",
       "      <td>...</td>\n",
       "      <td>...</td>\n",
       "      <td>...</td>\n",
       "      <td>...</td>\n",
       "    </tr>\n",
       "    <tr>\n",
       "      <th>5911</th>\n",
       "      <td>NaN</td>\n",
       "      <td>NaN</td>\n",
       "      <td>NaN</td>\n",
       "      <td>3.525690e+09</td>\n",
       "      <td>NaN</td>\n",
       "      <td>NaN</td>\n",
       "      <td>DR. JOSEPH NOVAK</td>\n",
       "      <td>PO BOX 295</td>\n",
       "      <td>NaN</td>\n",
       "      <td>BUSHNELL</td>\n",
       "      <td>FL</td>\n",
       "      <td>33513.0</td>\n",
       "      <td>NaN</td>\n",
       "      <td>3.525690e+09</td>\n",
       "      <td>NaN</td>\n",
       "      <td>NaN</td>\n",
       "      <td>NaN</td>\n",
       "    </tr>\n",
       "    <tr>\n",
       "      <th>5912</th>\n",
       "      <td>NaN</td>\n",
       "      <td>NaN</td>\n",
       "      <td>NaN</td>\n",
       "      <td>3.527938e+09</td>\n",
       "      <td>NaN</td>\n",
       "      <td>NaN</td>\n",
       "      <td>KIRK LEOPARD</td>\n",
       "      <td>6502 SW 102ND AVE.</td>\n",
       "      <td>NaN</td>\n",
       "      <td>BUSHNELL</td>\n",
       "      <td>FL</td>\n",
       "      <td>33513.0</td>\n",
       "      <td>NaN</td>\n",
       "      <td>3.527938e+09</td>\n",
       "      <td>NaN</td>\n",
       "      <td>NaN</td>\n",
       "      <td>NaN</td>\n",
       "    </tr>\n",
       "    <tr>\n",
       "      <th>5913</th>\n",
       "      <td>NaN</td>\n",
       "      <td>NaN</td>\n",
       "      <td>NaN</td>\n",
       "      <td>3.527938e+09</td>\n",
       "      <td>NaN</td>\n",
       "      <td>NaN</td>\n",
       "      <td>BILLY MURPHY</td>\n",
       "      <td>6502 SW 102ND AVE.</td>\n",
       "      <td>NaN</td>\n",
       "      <td>BUSHNELL</td>\n",
       "      <td>FL</td>\n",
       "      <td>33513.0</td>\n",
       "      <td>NaN</td>\n",
       "      <td>3.527938e+09</td>\n",
       "      <td>NaN</td>\n",
       "      <td>NaN</td>\n",
       "      <td>NaN</td>\n",
       "    </tr>\n",
       "    <tr>\n",
       "      <th>5914</th>\n",
       "      <td>NaN</td>\n",
       "      <td>NaN</td>\n",
       "      <td>NaN</td>\n",
       "      <td>3.526894e+09</td>\n",
       "      <td>NaN</td>\n",
       "      <td>NaN</td>\n",
       "      <td>BRUCE ATKINSON</td>\n",
       "      <td>319 E. ANDERSON AVE.</td>\n",
       "      <td>NaN</td>\n",
       "      <td>BUSHNELL</td>\n",
       "      <td>FL</td>\n",
       "      <td>33513.0</td>\n",
       "      <td>NaN</td>\n",
       "      <td>3.526894e+09</td>\n",
       "      <td>6836.0</td>\n",
       "      <td>NaN</td>\n",
       "      <td>NaN</td>\n",
       "    </tr>\n",
       "    <tr>\n",
       "      <th>5915</th>\n",
       "      <td>NaN</td>\n",
       "      <td>NaN</td>\n",
       "      <td>NaN</td>\n",
       "      <td>3.527535e+09</td>\n",
       "      <td>NaN</td>\n",
       "      <td>NaN</td>\n",
       "      <td>RICHARD BAIER</td>\n",
       "      <td>984 OLD MILL RUN</td>\n",
       "      <td>NaN</td>\n",
       "      <td>THE VILLAGES</td>\n",
       "      <td>FL</td>\n",
       "      <td>32162.0</td>\n",
       "      <td>NaN</td>\n",
       "      <td>3.527535e+09</td>\n",
       "      <td>NaN</td>\n",
       "      <td>NaN</td>\n",
       "      <td>NaN</td>\n",
       "    </tr>\n",
       "  </tbody>\n",
       "</table>\n",
       "<p>5916 rows × 17 columns</p>\n",
       "</div>"
      ],
      "text/plain": [
       "                                                  EMAIL             ADDRESS2  \\\n",
       "0                              slathrop@baycountyfl.gov                  NaN   \n",
       "1                             WFRYE@CITYOFCALLAWAY.COM;                  NaN   \n",
       "2     jbaldwin@springfield.fl.gov;mgrice@springfield...                  NaN   \n",
       "3                          gkidwell@cityoflynnhaven.com                  NaN   \n",
       "4                           g.davis@mexicobeachgov.com;  ATTN.:  GLENN DAVIS   \n",
       "...                                                 ...                  ...   \n",
       "5911                                                NaN                  NaN   \n",
       "5912                                                NaN                  NaN   \n",
       "5913                                                NaN                  NaN   \n",
       "5914                                                NaN                  NaN   \n",
       "5915                                                NaN                  NaN   \n",
       "\n",
       "      ZIPFOUR         PHONE  PHONEEXT            CONTACTNAME  \\\n",
       "0         NaN  8.502485e+09       NaN            BOBBY GIBBS   \n",
       "1      9542.0  8.508711e+09       NaN                    NaN   \n",
       "2         NaN  8.508728e+09       NaN            MILES GRICE   \n",
       "3         NaN  8.502650e+09       NaN        CHRIS LIGHTFOOT   \n",
       "4         NaN  8.506483e+09       NaN  RICHARD (GLENN) DAVIS   \n",
       "...       ...           ...       ...                    ...   \n",
       "5911      NaN  3.525690e+09       NaN                    NaN   \n",
       "5912      NaN  3.527938e+09       NaN                    NaN   \n",
       "5913      NaN  3.527938e+09       NaN                    NaN   \n",
       "5914      NaN  3.526894e+09       NaN                    NaN   \n",
       "5915      NaN  3.527535e+09       NaN                    NaN   \n",
       "\n",
       "             OWNERNAME          OWNERADDRESS1 OWNERADDRESS2     OWNERCITY  \\\n",
       "0           BEN BLITCH  3410 TRANSMITTER ROAD           NaN   PANAMA CITY   \n",
       "1           EDDIE COOK         6601 E. HWY 22           NaN      CALLAWAY   \n",
       "2        RALPH HAMMOND        408 SCHOOL AVE.           NaN   SPRINGFIELD   \n",
       "3         GREG KIDWELL          825 OHIO AVE.           NaN    LYNN HAVEN   \n",
       "4        CHRIS HUBBARD           PO BOX 13425           NaN  MEXICO BEACH   \n",
       "...                ...                    ...           ...           ...   \n",
       "5911  DR. JOSEPH NOVAK             PO BOX 295           NaN      BUSHNELL   \n",
       "5912      KIRK LEOPARD     6502 SW 102ND AVE.           NaN      BUSHNELL   \n",
       "5913      BILLY MURPHY     6502 SW 102ND AVE.           NaN      BUSHNELL   \n",
       "5914    BRUCE ATKINSON   319 E. ANDERSON AVE.           NaN      BUSHNELL   \n",
       "5915     RICHARD BAIER       984 OLD MILL RUN           NaN  THE VILLAGES   \n",
       "\n",
       "     OWNERSTATE  OWNERZIP  OWNERZIP4    OWNERPHONE  OWNERPHONEEXT  \\\n",
       "0            FL   32404.0        NaN  8.502485e+09            NaN   \n",
       "1            FL   32404.0     9542.0  8.502157e+09            NaN   \n",
       "2            FL   32401.0        NaN  8.508728e+09          110.0   \n",
       "3            FL   32444.0        NaN  8.502652e+09            NaN   \n",
       "4            FL   32410.0        NaN  8.506486e+09            3.0   \n",
       "...         ...       ...        ...           ...            ...   \n",
       "5911         FL   33513.0        NaN  3.525690e+09            NaN   \n",
       "5912         FL   33513.0        NaN  3.527938e+09            NaN   \n",
       "5913         FL   33513.0        NaN  3.527938e+09            NaN   \n",
       "5914         FL   33513.0        NaN  3.526894e+09         6836.0   \n",
       "5915         FL   32162.0        NaN  3.527535e+09            NaN   \n",
       "\n",
       "     LASTINSPECTION LASTSANITARYSURVEY  \n",
       "0         27-Dec-13           9-Dec-21  \n",
       "1         12-Nov-13          12-Aug-21  \n",
       "2          3-Jan-20           9-Dec-21  \n",
       "3          7-Jun-21          22-Nov-21  \n",
       "4         18-Mar-24           6-Feb-24  \n",
       "...             ...                ...  \n",
       "5911            NaN                NaN  \n",
       "5912            NaN                NaN  \n",
       "5913            NaN                NaN  \n",
       "5914            NaN                NaN  \n",
       "5915            NaN                NaN  \n",
       "\n",
       "[5916 rows x 17 columns]"
      ]
     },
     "execution_count": 72,
     "metadata": {},
     "output_type": "execute_result"
    }
   ],
   "source": [
    "missing_column_display(\"Basic_Facility_Report_2023\")"
   ]
  },
  {
   "cell_type": "code",
   "execution_count": 73,
   "metadata": {},
   "outputs": [],
   "source": [
    "#If an email isn't present you can just state that there was none\n",
    "water_system_dict[\"Basic_Facility_Report_2023\"][\"EMAIL\"].fillna(\"No Email\",inplace=True)"
   ]
  },
  {
   "cell_type": "code",
   "execution_count": 74,
   "metadata": {},
   "outputs": [
    {
     "data": {
      "text/plain": [
       "0                       NaN\n",
       "1                       NaN\n",
       "2                       NaN\n",
       "3                       NaN\n",
       "4       ATTN.:  GLENN DAVIS\n",
       "               ...         \n",
       "5911                    NaN\n",
       "5912                    NaN\n",
       "5913                    NaN\n",
       "5914                    NaN\n",
       "5915                    NaN\n",
       "Name: ADDRESS2, Length: 5916, dtype: object"
      ]
     },
     "execution_count": 74,
     "metadata": {},
     "output_type": "execute_result"
    }
   ],
   "source": [
    "#The address 2 line isn't that important as address1, and it can easily be replaced by \"no address\"\n",
    "water_system_dict[\"Basic_Facility_Report_2023\"][\"ADDRESS2\"]"
   ]
  },
  {
   "cell_type": "code",
   "execution_count": 75,
   "metadata": {},
   "outputs": [],
   "source": [
    "water_system_dict[\"Basic_Facility_Report_2023\"][\"ADDRESS2\"].fillna(\"No Address\",inplace=True)"
   ]
  },
  {
   "cell_type": "code",
   "execution_count": 76,
   "metadata": {},
   "outputs": [
    {
     "data": {
      "text/plain": [
       "243"
      ]
     },
     "execution_count": 76,
     "metadata": {},
     "output_type": "execute_result"
    }
   ],
   "source": [
    "#I have to look back at this \n",
    "water_system_dict[\"Basic_Facility_Report_2023\"][\"ZIPFOUR\"].nunique()"
   ]
  },
  {
   "cell_type": "code",
   "execution_count": 77,
   "metadata": {},
   "outputs": [
    {
     "data": {
      "text/plain": [
       "PHONE            PHONEEXT\n",
       "<NA>             <NA>        461\n",
       "4.0762969e+09    <NA>         44\n",
       "3.867558887e+09  <NA>         30\n",
       "3.523478228e+09  <NA>         21\n",
       "8.505622115e+09  <NA>         15\n",
       "3.526221171e+09  <NA>         14\n",
       "8.004767574e+09  <NA>         13\n",
       "8.635346039e+09  <NA>         13\n",
       "7.278488292e+09  <NA>         10\n",
       "8.63808132e+09   <NA>         10\n",
       "Name: count, dtype: int64"
      ]
     },
     "execution_count": 77,
     "metadata": {},
     "output_type": "execute_result"
    }
   ],
   "source": [
    "water_system_dict[\"Basic_Facility_Report_2023\"][[\"PHONE\",\"PHONEEXT\"]].value_counts().head(10)"
   ]
  },
  {
   "cell_type": "markdown",
   "metadata": {},
   "source": [
    "### The phone details don't seem to be relevant to an overall analyis and I could end up dropping them"
   ]
  },
  {
   "cell_type": "code",
   "execution_count": 78,
   "metadata": {},
   "outputs": [],
   "source": [
    "#Replace null contact values with \"Contact_Name_Unknown\"\n",
    "water_system_dict[\"Basic_Facility_Report_2023\"][\"CONTACTNAME\"].fillna(\"Contact_Name_Unknown\",inplace=True)"
   ]
  },
  {
   "cell_type": "code",
   "execution_count": 79,
   "metadata": {},
   "outputs": [
    {
     "name": "stderr",
     "output_type": "stream",
     "text": [
      "/home/haslett/miniforge3/envs/rapids-24.10/lib/python3.12/site-packages/cudf/pandas/fast_slow_proxy.py:26: FutureWarning: Setting an item of incompatible dtype is deprecated and will raise an error in a future version of pandas. Value 'Unknown' has dtype incompatible with float64, please explicitly cast to a compatible dtype first.\n",
      "  return fn(*args, **kwargs)\n",
      "/home/haslett/miniforge3/envs/rapids-24.10/lib/python3.12/site-packages/cudf/pandas/fast_slow_proxy.py:26: SettingWithCopyWarning: \n",
      "A value is trying to be set on a copy of a slice from a DataFrame\n",
      "\n",
      "See the caveats in the documentation: https://pandas.pydata.org/pandas-docs/stable/user_guide/indexing.html#returning-a-view-versus-a-copy\n",
      "  return fn(*args, **kwargs)\n"
     ]
    }
   ],
   "source": [
    "#Owner details don't seem to be pertinent to analysis, and can be replaced with the value \"unknown\"\n",
    "water_system_dict[\"Basic_Facility_Report_2023\"][[\"OWNERNAME\",\"OWNERADDRESS1\",\"OWNERADDRESS2\",\"OWNERCITY\",\"OWNERSTATE\",\"OWNERZIP\",\"OWNERZIP4\",\"OWNERPHONE\",\"OWNERPHONEEXT\"]].fillna(\"Unknown\",inplace=True)"
   ]
  },
  {
   "cell_type": "code",
   "execution_count": 80,
   "metadata": {},
   "outputs": [
    {
     "data": {
      "text/plain": [
       "LASTINSPECTION  LASTSANITARYSURVEY\n",
       "2-Aug-23        8-Sep-22              7\n",
       "20-May-92       20-May-92             6\n",
       "1-Dec-23        24-Aug-21             6\n",
       "28-Apr-22       28-Jul-23             4\n",
       "24-Jan-89       24-Jan-89             4\n",
       "4-Aug-23        8-Sep-22              4\n",
       "21-Dec-23       26-Aug-21             4\n",
       "8-May-17        2-Aug-23              4\n",
       "19-May-92       19-May-92             3\n",
       "29-Aug-14       6-Feb-24              3\n",
       "Name: count, dtype: int64"
      ]
     },
     "execution_count": 80,
     "metadata": {},
     "output_type": "execute_result"
    }
   ],
   "source": [
    "water_system_dict[\"Basic_Facility_Report_2023\"][[\"LASTINSPECTION\",\"LASTSANITARYSURVEY\"]].value_counts().head(10)"
   ]
  },
  {
   "cell_type": "markdown",
   "metadata": {},
   "source": [
    "### The last inspection dates seem to reside mostly in 2023 but there are still dates that frequently go back to 2012-2014 which is not recent at all, especially for an inspection. I would love to see more of "
   ]
  },
  {
   "cell_type": "markdown",
   "metadata": {},
   "source": [
    "### The same idea follow suit with the last inspection date for last survey date"
   ]
  },
  {
   "cell_type": "markdown",
   "metadata": {},
   "source": [
    "## Plant Treatment Cleaning"
   ]
  },
  {
   "cell_type": "code",
   "execution_count": 81,
   "metadata": {},
   "outputs": [
    {
     "data": {
      "text/plain": [
       "PWSID                      0\n",
       "SYSTEMNAME                 0\n",
       "PLANTNUMBER                0\n",
       "PLANTNAME               2102\n",
       "OBJECTIVEID                0\n",
       "PROCESSID               1751\n",
       "PROCESSOBJECTIVEDESC       0\n",
       "dtype: int64"
      ]
     },
     "execution_count": 81,
     "metadata": {},
     "output_type": "execute_result"
    }
   ],
   "source": [
    "water_system_dict[\"Plant_Treatment_Report_2023\"].isnull().sum()"
   ]
  },
  {
   "cell_type": "code",
   "execution_count": 82,
   "metadata": {},
   "outputs": [
    {
     "data": {
      "text/html": [
       "<div>\n",
       "<style scoped>\n",
       "    .dataframe tbody tr th:only-of-type {\n",
       "        vertical-align: middle;\n",
       "    }\n",
       "\n",
       "    .dataframe tbody tr th {\n",
       "        vertical-align: top;\n",
       "    }\n",
       "\n",
       "    .dataframe thead th {\n",
       "        text-align: right;\n",
       "    }\n",
       "</style>\n",
       "<table border=\"1\" class=\"dataframe\">\n",
       "  <thead>\n",
       "    <tr style=\"text-align: right;\">\n",
       "      <th></th>\n",
       "      <th>PLANTNAME</th>\n",
       "      <th>PROCESSID</th>\n",
       "    </tr>\n",
       "  </thead>\n",
       "  <tbody>\n",
       "    <tr>\n",
       "      <th>0</th>\n",
       "      <td>PLANT #1</td>\n",
       "      <td>1.0</td>\n",
       "    </tr>\n",
       "    <tr>\n",
       "      <th>1</th>\n",
       "      <td>PLANT #1</td>\n",
       "      <td>1.0</td>\n",
       "    </tr>\n",
       "    <tr>\n",
       "      <th>2</th>\n",
       "      <td>PLANT #1</td>\n",
       "      <td>9.0</td>\n",
       "    </tr>\n",
       "    <tr>\n",
       "      <th>3</th>\n",
       "      <td>PLANT #1</td>\n",
       "      <td>10.0</td>\n",
       "    </tr>\n",
       "    <tr>\n",
       "      <th>4</th>\n",
       "      <td>PLANT #1</td>\n",
       "      <td>11.0</td>\n",
       "    </tr>\n",
       "    <tr>\n",
       "      <th>...</th>\n",
       "      <td>...</td>\n",
       "      <td>...</td>\n",
       "    </tr>\n",
       "    <tr>\n",
       "      <th>24945</th>\n",
       "      <td>CSU WTP 1</td>\n",
       "      <td>1.0</td>\n",
       "    </tr>\n",
       "    <tr>\n",
       "      <th>24946</th>\n",
       "      <td>CSU WTP 1</td>\n",
       "      <td>30.0</td>\n",
       "    </tr>\n",
       "    <tr>\n",
       "      <th>24947</th>\n",
       "      <td>CSU WTP 1</td>\n",
       "      <td>19.0</td>\n",
       "    </tr>\n",
       "    <tr>\n",
       "      <th>24948</th>\n",
       "      <td>CSU WTP 1</td>\n",
       "      <td>28.0</td>\n",
       "    </tr>\n",
       "    <tr>\n",
       "      <th>24949</th>\n",
       "      <td>VILLAGE INN INTERNET CAFE</td>\n",
       "      <td>2.0</td>\n",
       "    </tr>\n",
       "  </tbody>\n",
       "</table>\n",
       "<p>24950 rows × 2 columns</p>\n",
       "</div>"
      ],
      "text/plain": [
       "                       PLANTNAME  PROCESSID\n",
       "0                       PLANT #1        1.0\n",
       "1                       PLANT #1        1.0\n",
       "2                       PLANT #1        9.0\n",
       "3                       PLANT #1       10.0\n",
       "4                       PLANT #1       11.0\n",
       "...                          ...        ...\n",
       "24945                  CSU WTP 1        1.0\n",
       "24946                  CSU WTP 1       30.0\n",
       "24947                  CSU WTP 1       19.0\n",
       "24948                  CSU WTP 1       28.0\n",
       "24949  VILLAGE INN INTERNET CAFE        2.0\n",
       "\n",
       "[24950 rows x 2 columns]"
      ]
     },
     "execution_count": 82,
     "metadata": {},
     "output_type": "execute_result"
    }
   ],
   "source": [
    "missing_column_display(\"Plant_Treatment_Report_2023\")"
   ]
  },
  {
   "cell_type": "code",
   "execution_count": 83,
   "metadata": {},
   "outputs": [
    {
     "data": {
      "text/plain": [
       "PLANTNAME\n",
       "PLANT #1         323\n",
       "SAME             226\n",
       "PLANT 1          225\n",
       "WELL #1          123\n",
       "WATER PLANT      105\n",
       "LAKELAND          87\n",
       "WTP               78\n",
       "WINTER HAVEN      64\n",
       "PLANT #2          64\n",
       "SAME AS ABOVE     62\n",
       "Name: count, dtype: int64"
      ]
     },
     "execution_count": 83,
     "metadata": {},
     "output_type": "execute_result"
    }
   ],
   "source": [
    "water_system_dict[\"Plant_Treatment_Report_2023\"][\"PLANTNAME\"].value_counts().head(10)"
   ]
  },
  {
   "cell_type": "markdown",
   "metadata": {},
   "source": [
    "### If the name of the plant is null, then it can be labeled as unknown"
   ]
  },
  {
   "cell_type": "code",
   "execution_count": 84,
   "metadata": {},
   "outputs": [],
   "source": [
    "water_system_dict[\"Plant_Treatment_Report_2023\"][\"PLANTNAME\"].fillna(\"Unknown\",inplace=True)"
   ]
  },
  {
   "cell_type": "code",
   "execution_count": 85,
   "metadata": {},
   "outputs": [],
   "source": [
    "water_system_dict[\"Plant_Treatment_Report_2023\"][\"PROCESSID\"].fillna(999,inplace=True)"
   ]
  },
  {
   "cell_type": "markdown",
   "metadata": {},
   "source": [
    "### Keeping the Processid as a numeric data type but label the null values as 999 so that you can filter them easily during analysis"
   ]
  },
  {
   "cell_type": "code",
   "execution_count": 86,
   "metadata": {},
   "outputs": [
    {
     "name": "stdout",
     "output_type": "stream",
     "text": [
      "file has been saved\n"
     ]
    }
   ],
   "source": [
    "store_file(\"Plant_Treatment_Report_2023\",1)"
   ]
  }
 ],
 "metadata": {
  "kernelspec": {
   "display_name": "rapids-24.10",
   "language": "python",
   "name": "python3"
  },
  "language_info": {
   "codemirror_mode": {
    "name": "ipython",
    "version": 3
   },
   "file_extension": ".py",
   "mimetype": "text/x-python",
   "name": "python",
   "nbconvert_exporter": "python",
   "pygments_lexer": "ipython3",
   "version": "3.12.7"
  }
 },
 "nbformat": 4,
 "nbformat_minor": 2
}
